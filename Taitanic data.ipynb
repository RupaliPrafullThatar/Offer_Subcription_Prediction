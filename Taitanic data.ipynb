{
 "cells": [
  {
   "cell_type": "markdown",
   "id": "2b2e8a77",
   "metadata": {},
   "source": [
    "### Import all requared liabraries"
   ]
  },
  {
   "cell_type": "code",
   "execution_count": 1,
   "id": "4d9470de",
   "metadata": {},
   "outputs": [],
   "source": [
    "# Impoerting required liabraries\n",
    "\n",
    "import pandas as pd\n",
    "import sys\n",
    "import math\n",
    "import numpy as np\n",
    "from sklearn.model_selection import KFold\n",
    "%matplotlib inline\n",
    "import seaborn as sb\n",
    "import matplotlib.pyplot as plt\n",
    "import seaborn as sns\n",
    "from sklearn.linear_model import LogisticRegression\n",
    "from sklearn.linear_model import LinearRegression\n",
    "from sklearn.model_selection import train_test_split\n",
    "from sklearn.metrics import r2_score\n",
    "from sklearn.preprocessing import LabelEncoder\n",
    "le=LabelEncoder()\n",
    "from sklearn.preprocessing import OneHotEncoder\n",
    "on=OneHotEncoder\n",
    "from sklearn.tree import DecisionTreeRegressor\n",
    "from sklearn.ensemble import RandomForestRegressor\n",
    "from sklearn.metrics import mean_squared_error\n",
    "from sklearn.model_selection import train_test_split\n",
    "from sklearn.linear_model import LinearRegression, Ridge, Lasso, ElasticNet"
   ]
  },
  {
   "cell_type": "markdown",
   "id": "84aeff8b",
   "metadata": {},
   "source": [
    "#### chake version"
   ]
  },
  {
   "cell_type": "code",
   "execution_count": 2,
   "id": "c3d4ef97",
   "metadata": {},
   "outputs": [
    {
     "name": "stdout",
     "output_type": "stream",
     "text": [
      "1.5.3\n"
     ]
    }
   ],
   "source": [
    "# to show the version\n",
    "print(pd.__version__)"
   ]
  },
  {
   "cell_type": "markdown",
   "id": "8ea885c3",
   "metadata": {},
   "source": [
    "#### load data"
   ]
  },
  {
   "cell_type": "code",
   "execution_count": 3,
   "id": "f4cb39cb",
   "metadata": {},
   "outputs": [],
   "source": [
    "# Lets load the data file and read it\n",
    "data_file=r'tested.csv'\n",
    "td= pd.read_csv(data_file)\n"
   ]
  },
  {
   "cell_type": "code",
   "execution_count": 4,
   "id": "76858ddd",
   "metadata": {},
   "outputs": [
    {
     "data": {
      "text/html": [
       "<div>\n",
       "<style scoped>\n",
       "    .dataframe tbody tr th:only-of-type {\n",
       "        vertical-align: middle;\n",
       "    }\n",
       "\n",
       "    .dataframe tbody tr th {\n",
       "        vertical-align: top;\n",
       "    }\n",
       "\n",
       "    .dataframe thead th {\n",
       "        text-align: right;\n",
       "    }\n",
       "</style>\n",
       "<table border=\"1\" class=\"dataframe\">\n",
       "  <thead>\n",
       "    <tr style=\"text-align: right;\">\n",
       "      <th></th>\n",
       "      <th>PassengerId</th>\n",
       "      <th>Survived</th>\n",
       "      <th>Pclass</th>\n",
       "      <th>Name</th>\n",
       "      <th>Sex</th>\n",
       "      <th>Age</th>\n",
       "      <th>SibSp</th>\n",
       "      <th>Parch</th>\n",
       "      <th>Ticket</th>\n",
       "      <th>Fare</th>\n",
       "      <th>Cabin</th>\n",
       "      <th>Embarked</th>\n",
       "    </tr>\n",
       "  </thead>\n",
       "  <tbody>\n",
       "    <tr>\n",
       "      <th>0</th>\n",
       "      <td>892</td>\n",
       "      <td>0</td>\n",
       "      <td>3</td>\n",
       "      <td>Kelly, Mr. James</td>\n",
       "      <td>male</td>\n",
       "      <td>34.5</td>\n",
       "      <td>0</td>\n",
       "      <td>0</td>\n",
       "      <td>330911</td>\n",
       "      <td>7.8292</td>\n",
       "      <td>NaN</td>\n",
       "      <td>Q</td>\n",
       "    </tr>\n",
       "    <tr>\n",
       "      <th>1</th>\n",
       "      <td>893</td>\n",
       "      <td>1</td>\n",
       "      <td>3</td>\n",
       "      <td>Wilkes, Mrs. James (Ellen Needs)</td>\n",
       "      <td>female</td>\n",
       "      <td>47.0</td>\n",
       "      <td>1</td>\n",
       "      <td>0</td>\n",
       "      <td>363272</td>\n",
       "      <td>7.0000</td>\n",
       "      <td>NaN</td>\n",
       "      <td>S</td>\n",
       "    </tr>\n",
       "    <tr>\n",
       "      <th>2</th>\n",
       "      <td>894</td>\n",
       "      <td>0</td>\n",
       "      <td>2</td>\n",
       "      <td>Myles, Mr. Thomas Francis</td>\n",
       "      <td>male</td>\n",
       "      <td>62.0</td>\n",
       "      <td>0</td>\n",
       "      <td>0</td>\n",
       "      <td>240276</td>\n",
       "      <td>9.6875</td>\n",
       "      <td>NaN</td>\n",
       "      <td>Q</td>\n",
       "    </tr>\n",
       "    <tr>\n",
       "      <th>3</th>\n",
       "      <td>895</td>\n",
       "      <td>0</td>\n",
       "      <td>3</td>\n",
       "      <td>Wirz, Mr. Albert</td>\n",
       "      <td>male</td>\n",
       "      <td>27.0</td>\n",
       "      <td>0</td>\n",
       "      <td>0</td>\n",
       "      <td>315154</td>\n",
       "      <td>8.6625</td>\n",
       "      <td>NaN</td>\n",
       "      <td>S</td>\n",
       "    </tr>\n",
       "    <tr>\n",
       "      <th>4</th>\n",
       "      <td>896</td>\n",
       "      <td>1</td>\n",
       "      <td>3</td>\n",
       "      <td>Hirvonen, Mrs. Alexander (Helga E Lindqvist)</td>\n",
       "      <td>female</td>\n",
       "      <td>22.0</td>\n",
       "      <td>1</td>\n",
       "      <td>1</td>\n",
       "      <td>3101298</td>\n",
       "      <td>12.2875</td>\n",
       "      <td>NaN</td>\n",
       "      <td>S</td>\n",
       "    </tr>\n",
       "  </tbody>\n",
       "</table>\n",
       "</div>"
      ],
      "text/plain": [
       "   PassengerId  Survived  Pclass  \\\n",
       "0          892         0       3   \n",
       "1          893         1       3   \n",
       "2          894         0       2   \n",
       "3          895         0       3   \n",
       "4          896         1       3   \n",
       "\n",
       "                                           Name     Sex   Age  SibSp  Parch  \\\n",
       "0                              Kelly, Mr. James    male  34.5      0      0   \n",
       "1              Wilkes, Mrs. James (Ellen Needs)  female  47.0      1      0   \n",
       "2                     Myles, Mr. Thomas Francis    male  62.0      0      0   \n",
       "3                              Wirz, Mr. Albert    male  27.0      0      0   \n",
       "4  Hirvonen, Mrs. Alexander (Helga E Lindqvist)  female  22.0      1      1   \n",
       "\n",
       "    Ticket     Fare Cabin Embarked  \n",
       "0   330911   7.8292   NaN        Q  \n",
       "1   363272   7.0000   NaN        S  \n",
       "2   240276   9.6875   NaN        Q  \n",
       "3   315154   8.6625   NaN        S  \n",
       "4  3101298  12.2875   NaN        S  "
      ]
     },
     "execution_count": 4,
     "metadata": {},
     "output_type": "execute_result"
    }
   ],
   "source": [
    "td.head()\n"
   ]
  },
  {
   "cell_type": "code",
   "execution_count": 5,
   "id": "0d4195bd",
   "metadata": {},
   "outputs": [
    {
     "data": {
      "text/plain": [
       "(418, 12)"
      ]
     },
     "execution_count": 5,
     "metadata": {},
     "output_type": "execute_result"
    }
   ],
   "source": [
    "td.shape"
   ]
  },
  {
   "cell_type": "code",
   "execution_count": 6,
   "id": "9431ea5c",
   "metadata": {},
   "outputs": [
    {
     "data": {
      "text/html": [
       "<div>\n",
       "<style scoped>\n",
       "    .dataframe tbody tr th:only-of-type {\n",
       "        vertical-align: middle;\n",
       "    }\n",
       "\n",
       "    .dataframe tbody tr th {\n",
       "        vertical-align: top;\n",
       "    }\n",
       "\n",
       "    .dataframe thead th {\n",
       "        text-align: right;\n",
       "    }\n",
       "</style>\n",
       "<table border=\"1\" class=\"dataframe\">\n",
       "  <thead>\n",
       "    <tr style=\"text-align: right;\">\n",
       "      <th></th>\n",
       "      <th>PassengerId</th>\n",
       "      <th>Survived</th>\n",
       "      <th>Pclass</th>\n",
       "      <th>Name</th>\n",
       "      <th>Sex</th>\n",
       "      <th>Age</th>\n",
       "      <th>SibSp</th>\n",
       "      <th>Parch</th>\n",
       "      <th>Ticket</th>\n",
       "      <th>Fare</th>\n",
       "      <th>Cabin</th>\n",
       "      <th>Embarked</th>\n",
       "    </tr>\n",
       "  </thead>\n",
       "  <tbody>\n",
       "    <tr>\n",
       "      <th>413</th>\n",
       "      <td>1305</td>\n",
       "      <td>0</td>\n",
       "      <td>3</td>\n",
       "      <td>Spector, Mr. Woolf</td>\n",
       "      <td>male</td>\n",
       "      <td>NaN</td>\n",
       "      <td>0</td>\n",
       "      <td>0</td>\n",
       "      <td>A.5. 3236</td>\n",
       "      <td>8.0500</td>\n",
       "      <td>NaN</td>\n",
       "      <td>S</td>\n",
       "    </tr>\n",
       "    <tr>\n",
       "      <th>414</th>\n",
       "      <td>1306</td>\n",
       "      <td>1</td>\n",
       "      <td>1</td>\n",
       "      <td>Oliva y Ocana, Dona. Fermina</td>\n",
       "      <td>female</td>\n",
       "      <td>39.0</td>\n",
       "      <td>0</td>\n",
       "      <td>0</td>\n",
       "      <td>PC 17758</td>\n",
       "      <td>108.9000</td>\n",
       "      <td>C105</td>\n",
       "      <td>C</td>\n",
       "    </tr>\n",
       "    <tr>\n",
       "      <th>415</th>\n",
       "      <td>1307</td>\n",
       "      <td>0</td>\n",
       "      <td>3</td>\n",
       "      <td>Saether, Mr. Simon Sivertsen</td>\n",
       "      <td>male</td>\n",
       "      <td>38.5</td>\n",
       "      <td>0</td>\n",
       "      <td>0</td>\n",
       "      <td>SOTON/O.Q. 3101262</td>\n",
       "      <td>7.2500</td>\n",
       "      <td>NaN</td>\n",
       "      <td>S</td>\n",
       "    </tr>\n",
       "    <tr>\n",
       "      <th>416</th>\n",
       "      <td>1308</td>\n",
       "      <td>0</td>\n",
       "      <td>3</td>\n",
       "      <td>Ware, Mr. Frederick</td>\n",
       "      <td>male</td>\n",
       "      <td>NaN</td>\n",
       "      <td>0</td>\n",
       "      <td>0</td>\n",
       "      <td>359309</td>\n",
       "      <td>8.0500</td>\n",
       "      <td>NaN</td>\n",
       "      <td>S</td>\n",
       "    </tr>\n",
       "    <tr>\n",
       "      <th>417</th>\n",
       "      <td>1309</td>\n",
       "      <td>0</td>\n",
       "      <td>3</td>\n",
       "      <td>Peter, Master. Michael J</td>\n",
       "      <td>male</td>\n",
       "      <td>NaN</td>\n",
       "      <td>1</td>\n",
       "      <td>1</td>\n",
       "      <td>2668</td>\n",
       "      <td>22.3583</td>\n",
       "      <td>NaN</td>\n",
       "      <td>C</td>\n",
       "    </tr>\n",
       "  </tbody>\n",
       "</table>\n",
       "</div>"
      ],
      "text/plain": [
       "     PassengerId  Survived  Pclass                          Name     Sex  \\\n",
       "413         1305         0       3            Spector, Mr. Woolf    male   \n",
       "414         1306         1       1  Oliva y Ocana, Dona. Fermina  female   \n",
       "415         1307         0       3  Saether, Mr. Simon Sivertsen    male   \n",
       "416         1308         0       3           Ware, Mr. Frederick    male   \n",
       "417         1309         0       3      Peter, Master. Michael J    male   \n",
       "\n",
       "      Age  SibSp  Parch              Ticket      Fare Cabin Embarked  \n",
       "413   NaN      0      0           A.5. 3236    8.0500   NaN        S  \n",
       "414  39.0      0      0            PC 17758  108.9000  C105        C  \n",
       "415  38.5      0      0  SOTON/O.Q. 3101262    7.2500   NaN        S  \n",
       "416   NaN      0      0              359309    8.0500   NaN        S  \n",
       "417   NaN      1      1                2668   22.3583   NaN        C  "
      ]
     },
     "execution_count": 6,
     "metadata": {},
     "output_type": "execute_result"
    }
   ],
   "source": [
    "td.tail()"
   ]
  },
  {
   "cell_type": "code",
   "execution_count": 7,
   "id": "ac692991",
   "metadata": {},
   "outputs": [
    {
     "data": {
      "text/html": [
       "<div>\n",
       "<style scoped>\n",
       "    .dataframe tbody tr th:only-of-type {\n",
       "        vertical-align: middle;\n",
       "    }\n",
       "\n",
       "    .dataframe tbody tr th {\n",
       "        vertical-align: top;\n",
       "    }\n",
       "\n",
       "    .dataframe thead th {\n",
       "        text-align: right;\n",
       "    }\n",
       "</style>\n",
       "<table border=\"1\" class=\"dataframe\">\n",
       "  <thead>\n",
       "    <tr style=\"text-align: right;\">\n",
       "      <th></th>\n",
       "      <th>PassengerId</th>\n",
       "      <th>Survived</th>\n",
       "      <th>Pclass</th>\n",
       "      <th>Age</th>\n",
       "      <th>SibSp</th>\n",
       "      <th>Parch</th>\n",
       "      <th>Fare</th>\n",
       "    </tr>\n",
       "  </thead>\n",
       "  <tbody>\n",
       "    <tr>\n",
       "      <th>count</th>\n",
       "      <td>418.000000</td>\n",
       "      <td>418.000000</td>\n",
       "      <td>418.000000</td>\n",
       "      <td>332.000000</td>\n",
       "      <td>418.000000</td>\n",
       "      <td>418.000000</td>\n",
       "      <td>417.000000</td>\n",
       "    </tr>\n",
       "    <tr>\n",
       "      <th>mean</th>\n",
       "      <td>1100.500000</td>\n",
       "      <td>0.363636</td>\n",
       "      <td>2.265550</td>\n",
       "      <td>30.272590</td>\n",
       "      <td>0.447368</td>\n",
       "      <td>0.392344</td>\n",
       "      <td>35.627188</td>\n",
       "    </tr>\n",
       "    <tr>\n",
       "      <th>std</th>\n",
       "      <td>120.810458</td>\n",
       "      <td>0.481622</td>\n",
       "      <td>0.841838</td>\n",
       "      <td>14.181209</td>\n",
       "      <td>0.896760</td>\n",
       "      <td>0.981429</td>\n",
       "      <td>55.907576</td>\n",
       "    </tr>\n",
       "    <tr>\n",
       "      <th>min</th>\n",
       "      <td>892.000000</td>\n",
       "      <td>0.000000</td>\n",
       "      <td>1.000000</td>\n",
       "      <td>0.170000</td>\n",
       "      <td>0.000000</td>\n",
       "      <td>0.000000</td>\n",
       "      <td>0.000000</td>\n",
       "    </tr>\n",
       "    <tr>\n",
       "      <th>25%</th>\n",
       "      <td>996.250000</td>\n",
       "      <td>0.000000</td>\n",
       "      <td>1.000000</td>\n",
       "      <td>21.000000</td>\n",
       "      <td>0.000000</td>\n",
       "      <td>0.000000</td>\n",
       "      <td>7.895800</td>\n",
       "    </tr>\n",
       "    <tr>\n",
       "      <th>50%</th>\n",
       "      <td>1100.500000</td>\n",
       "      <td>0.000000</td>\n",
       "      <td>3.000000</td>\n",
       "      <td>27.000000</td>\n",
       "      <td>0.000000</td>\n",
       "      <td>0.000000</td>\n",
       "      <td>14.454200</td>\n",
       "    </tr>\n",
       "    <tr>\n",
       "      <th>75%</th>\n",
       "      <td>1204.750000</td>\n",
       "      <td>1.000000</td>\n",
       "      <td>3.000000</td>\n",
       "      <td>39.000000</td>\n",
       "      <td>1.000000</td>\n",
       "      <td>0.000000</td>\n",
       "      <td>31.500000</td>\n",
       "    </tr>\n",
       "    <tr>\n",
       "      <th>max</th>\n",
       "      <td>1309.000000</td>\n",
       "      <td>1.000000</td>\n",
       "      <td>3.000000</td>\n",
       "      <td>76.000000</td>\n",
       "      <td>8.000000</td>\n",
       "      <td>9.000000</td>\n",
       "      <td>512.329200</td>\n",
       "    </tr>\n",
       "  </tbody>\n",
       "</table>\n",
       "</div>"
      ],
      "text/plain": [
       "       PassengerId    Survived      Pclass         Age       SibSp  \\\n",
       "count   418.000000  418.000000  418.000000  332.000000  418.000000   \n",
       "mean   1100.500000    0.363636    2.265550   30.272590    0.447368   \n",
       "std     120.810458    0.481622    0.841838   14.181209    0.896760   \n",
       "min     892.000000    0.000000    1.000000    0.170000    0.000000   \n",
       "25%     996.250000    0.000000    1.000000   21.000000    0.000000   \n",
       "50%    1100.500000    0.000000    3.000000   27.000000    0.000000   \n",
       "75%    1204.750000    1.000000    3.000000   39.000000    1.000000   \n",
       "max    1309.000000    1.000000    3.000000   76.000000    8.000000   \n",
       "\n",
       "            Parch        Fare  \n",
       "count  418.000000  417.000000  \n",
       "mean     0.392344   35.627188  \n",
       "std      0.981429   55.907576  \n",
       "min      0.000000    0.000000  \n",
       "25%      0.000000    7.895800  \n",
       "50%      0.000000   14.454200  \n",
       "75%      0.000000   31.500000  \n",
       "max      9.000000  512.329200  "
      ]
     },
     "execution_count": 7,
     "metadata": {},
     "output_type": "execute_result"
    }
   ],
   "source": [
    "td.describe()"
   ]
  },
  {
   "cell_type": "code",
   "execution_count": 8,
   "id": "0c2a9d5d",
   "metadata": {},
   "outputs": [
    {
     "data": {
      "text/plain": [
       "PassengerId      int64\n",
       "Survived         int64\n",
       "Pclass           int64\n",
       "Name            object\n",
       "Sex             object\n",
       "Age            float64\n",
       "SibSp            int64\n",
       "Parch            int64\n",
       "Ticket          object\n",
       "Fare           float64\n",
       "Cabin           object\n",
       "Embarked        object\n",
       "dtype: object"
      ]
     },
     "execution_count": 8,
     "metadata": {},
     "output_type": "execute_result"
    }
   ],
   "source": [
    "td.dtypes"
   ]
  },
  {
   "cell_type": "code",
   "execution_count": 9,
   "id": "07189115",
   "metadata": {},
   "outputs": [
    {
     "name": "stdout",
     "output_type": "stream",
     "text": [
      "<class 'pandas.core.frame.DataFrame'>\n",
      "RangeIndex: 418 entries, 0 to 417\n",
      "Data columns (total 12 columns):\n",
      " #   Column       Non-Null Count  Dtype  \n",
      "---  ------       --------------  -----  \n",
      " 0   PassengerId  418 non-null    int64  \n",
      " 1   Survived     418 non-null    int64  \n",
      " 2   Pclass       418 non-null    int64  \n",
      " 3   Name         418 non-null    object \n",
      " 4   Sex          418 non-null    object \n",
      " 5   Age          332 non-null    float64\n",
      " 6   SibSp        418 non-null    int64  \n",
      " 7   Parch        418 non-null    int64  \n",
      " 8   Ticket       418 non-null    object \n",
      " 9   Fare         417 non-null    float64\n",
      " 10  Cabin        91 non-null     object \n",
      " 11  Embarked     418 non-null    object \n",
      "dtypes: float64(2), int64(5), object(5)\n",
      "memory usage: 39.3+ KB\n"
     ]
    }
   ],
   "source": [
    "td.info()"
   ]
  },
  {
   "cell_type": "code",
   "execution_count": 10,
   "id": "0a1b08ed",
   "metadata": {},
   "outputs": [
    {
     "data": {
      "text/plain": [
       "0"
      ]
     },
     "execution_count": 10,
     "metadata": {},
     "output_type": "execute_result"
    }
   ],
   "source": [
    "# Now check the duplicate values and delete them\n",
    "td.duplicated().sum()"
   ]
  },
  {
   "cell_type": "code",
   "execution_count": 11,
   "id": "cfe30222",
   "metadata": {},
   "outputs": [
    {
     "data": {
      "text/plain": [
       "0"
      ]
     },
     "execution_count": 11,
     "metadata": {},
     "output_type": "execute_result"
    }
   ],
   "source": [
    "td.drop_duplicates(inplace=True)\n",
    "td.duplicated().sum()"
   ]
  },
  {
   "cell_type": "code",
   "execution_count": 12,
   "id": "b15a1de8",
   "metadata": {},
   "outputs": [
    {
     "data": {
      "text/plain": [
       "PassengerId      0\n",
       "Survived         0\n",
       "Pclass           0\n",
       "Name             0\n",
       "Sex              0\n",
       "Age             86\n",
       "SibSp            0\n",
       "Parch            0\n",
       "Ticket           0\n",
       "Fare             1\n",
       "Cabin          327\n",
       "Embarked         0\n",
       "dtype: int64"
      ]
     },
     "execution_count": 12,
     "metadata": {},
     "output_type": "execute_result"
    }
   ],
   "source": [
    "#chake null valu in data\n",
    "td.isnull().sum()"
   ]
  },
  {
   "cell_type": "code",
   "execution_count": 13,
   "id": "f4473e11",
   "metadata": {},
   "outputs": [
    {
     "data": {
      "text/plain": [
       "Index(['PassengerId', 'Survived', 'Pclass', 'Name', 'Sex', 'Age', 'SibSp',\n",
       "       'Parch', 'Ticket', 'Fare', 'Cabin', 'Embarked'],\n",
       "      dtype='object')"
      ]
     },
     "execution_count": 13,
     "metadata": {},
     "output_type": "execute_result"
    }
   ],
   "source": [
    "td.columns"
   ]
  },
  {
   "cell_type": "code",
   "execution_count": 14,
   "id": "fd6d836b",
   "metadata": {},
   "outputs": [
    {
     "data": {
      "text/plain": [
       "(418, 864)"
      ]
     },
     "execution_count": 14,
     "metadata": {},
     "output_type": "execute_result"
    }
   ],
   "source": [
    "#let's examine how many columns we will obtain after one hot encoding these variables\n",
    "pd.get_dummies(td,drop_first=True).shape"
   ]
  },
  {
   "cell_type": "markdown",
   "id": "c0f4ecef",
   "metadata": {},
   "source": [
    "### examine PassengerId"
   ]
  },
  {
   "cell_type": "code",
   "execution_count": 15,
   "id": "8bf97d5a",
   "metadata": {},
   "outputs": [
    {
     "data": {
      "text/plain": [
       "892     1\n",
       "1205    1\n",
       "1177    1\n",
       "1176    1\n",
       "1175    1\n",
       "       ..\n",
       "1028    1\n",
       "1027    1\n",
       "1026    1\n",
       "1025    1\n",
       "1309    1\n",
       "Name: PassengerId, Length: 418, dtype: int64"
      ]
     },
     "execution_count": 15,
     "metadata": {},
     "output_type": "execute_result"
    }
   ],
   "source": [
    "td['PassengerId'].value_counts()"
   ]
  },
  {
   "cell_type": "code",
   "execution_count": 16,
   "id": "85ea6780",
   "metadata": {},
   "outputs": [
    {
     "data": {
      "text/plain": [
       "array([ 892,  893,  894,  895,  896,  897,  898,  899,  900,  901,  902,\n",
       "        903,  904,  905,  906,  907,  908,  909,  910,  911,  912,  913,\n",
       "        914,  915,  916,  917,  918,  919,  920,  921,  922,  923,  924,\n",
       "        925,  926,  927,  928,  929,  930,  931,  932,  933,  934,  935,\n",
       "        936,  937,  938,  939,  940,  941,  942,  943,  944,  945,  946,\n",
       "        947,  948,  949,  950,  951,  952,  953,  954,  955,  956,  957,\n",
       "        958,  959,  960,  961,  962,  963,  964,  965,  966,  967,  968,\n",
       "        969,  970,  971,  972,  973,  974,  975,  976,  977,  978,  979,\n",
       "        980,  981,  982,  983,  984,  985,  986,  987,  988,  989,  990,\n",
       "        991,  992,  993,  994,  995,  996,  997,  998,  999, 1000, 1001,\n",
       "       1002, 1003, 1004, 1005, 1006, 1007, 1008, 1009, 1010, 1011, 1012,\n",
       "       1013, 1014, 1015, 1016, 1017, 1018, 1019, 1020, 1021, 1022, 1023,\n",
       "       1024, 1025, 1026, 1027, 1028, 1029, 1030, 1031, 1032, 1033, 1034,\n",
       "       1035, 1036, 1037, 1038, 1039, 1040, 1041, 1042, 1043, 1044, 1045,\n",
       "       1046, 1047, 1048, 1049, 1050, 1051, 1052, 1053, 1054, 1055, 1056,\n",
       "       1057, 1058, 1059, 1060, 1061, 1062, 1063, 1064, 1065, 1066, 1067,\n",
       "       1068, 1069, 1070, 1071, 1072, 1073, 1074, 1075, 1076, 1077, 1078,\n",
       "       1079, 1080, 1081, 1082, 1083, 1084, 1085, 1086, 1087, 1088, 1089,\n",
       "       1090, 1091, 1092, 1093, 1094, 1095, 1096, 1097, 1098, 1099, 1100,\n",
       "       1101, 1102, 1103, 1104, 1105, 1106, 1107, 1108, 1109, 1110, 1111,\n",
       "       1112, 1113, 1114, 1115, 1116, 1117, 1118, 1119, 1120, 1121, 1122,\n",
       "       1123, 1124, 1125, 1126, 1127, 1128, 1129, 1130, 1131, 1132, 1133,\n",
       "       1134, 1135, 1136, 1137, 1138, 1139, 1140, 1141, 1142, 1143, 1144,\n",
       "       1145, 1146, 1147, 1148, 1149, 1150, 1151, 1152, 1153, 1154, 1155,\n",
       "       1156, 1157, 1158, 1159, 1160, 1161, 1162, 1163, 1164, 1165, 1166,\n",
       "       1167, 1168, 1169, 1170, 1171, 1172, 1173, 1174, 1175, 1176, 1177,\n",
       "       1178, 1179, 1180, 1181, 1182, 1183, 1184, 1185, 1186, 1187, 1188,\n",
       "       1189, 1190, 1191, 1192, 1193, 1194, 1195, 1196, 1197, 1198, 1199,\n",
       "       1200, 1201, 1202, 1203, 1204, 1205, 1206, 1207, 1208, 1209, 1210,\n",
       "       1211, 1212, 1213, 1214, 1215, 1216, 1217, 1218, 1219, 1220, 1221,\n",
       "       1222, 1223, 1224, 1225, 1226, 1227, 1228, 1229, 1230, 1231, 1232,\n",
       "       1233, 1234, 1235, 1236, 1237, 1238, 1239, 1240, 1241, 1242, 1243,\n",
       "       1244, 1245, 1246, 1247, 1248, 1249, 1250, 1251, 1252, 1253, 1254,\n",
       "       1255, 1256, 1257, 1258, 1259, 1260, 1261, 1262, 1263, 1264, 1265,\n",
       "       1266, 1267, 1268, 1269, 1270, 1271, 1272, 1273, 1274, 1275, 1276,\n",
       "       1277, 1278, 1279, 1280, 1281, 1282, 1283, 1284, 1285, 1286, 1287,\n",
       "       1288, 1289, 1290, 1291, 1292, 1293, 1294, 1295, 1296, 1297, 1298,\n",
       "       1299, 1300, 1301, 1302, 1303, 1304, 1305, 1306, 1307, 1308, 1309],\n",
       "      dtype=int64)"
      ]
     },
     "execution_count": 16,
     "metadata": {},
     "output_type": "execute_result"
    }
   ],
   "source": [
    "td['PassengerId'].unique()"
   ]
  },
  {
   "cell_type": "code",
   "execution_count": 17,
   "id": "895a58f7",
   "metadata": {},
   "outputs": [
    {
     "data": {
      "text/plain": [
       "0"
      ]
     },
     "execution_count": 17,
     "metadata": {},
     "output_type": "execute_result"
    }
   ],
   "source": [
    "td['PassengerId'].isnull().sum()\n"
   ]
  },
  {
   "cell_type": "code",
   "execution_count": 18,
   "id": "61159e9c",
   "metadata": {},
   "outputs": [
    {
     "data": {
      "image/png": "[encoded data removed]",
      "text/plain": [
       "<Figure size 1200x600 with 1 Axes>"
      ]
     },
     "metadata": {},
     "output_type": "display_data"
    }
   ],
   "source": [
    "# Group by 'PassengerId' and calculate average Survived\n",
    "average_ratings = td.groupby('PassengerId')['Survived'].mean().head(30)\n",
    "\n",
    "# Convert the result to a DataFrame for better visualization\n",
    "average_ratings_df = pd.DataFrame(average_ratings).reset_index()\n",
    "\n",
    "# Set the figure size\n",
    "plt.figure(figsize=(12, 6))\n",
    "\n",
    "# Plot the bar plot using Seaborn\n",
    "sns.barplot(data=average_ratings_df, x='PassengerId', y='Survived')\n",
    "plt.xticks(rotation=45)\n",
    "plt.xlabel('PassengerId')\n",
    "plt.ylabel(' Survived')\n",
    "plt.title('Average Ratings of Restaurants Survived')\n",
    "\n",
    "# Display the plot\n",
    "plt.show()\n"
   ]
  },
  {
   "cell_type": "markdown",
   "id": "c9434e36",
   "metadata": {},
   "source": [
    "### examine Survived"
   ]
  },
  {
   "cell_type": "code",
   "execution_count": 19,
   "id": "b6bf6fdb",
   "metadata": {},
   "outputs": [
    {
     "data": {
      "text/plain": [
       "0    266\n",
       "1    152\n",
       "Name: Survived, dtype: int64"
      ]
     },
     "execution_count": 19,
     "metadata": {},
     "output_type": "execute_result"
    }
   ],
   "source": [
    "td['Survived'].value_counts()"
   ]
  },
  {
   "cell_type": "code",
   "execution_count": 20,
   "id": "d8f40055",
   "metadata": {},
   "outputs": [
    {
     "data": {
      "text/plain": [
       "array([0, 1], dtype=int64)"
      ]
     },
     "execution_count": 20,
     "metadata": {},
     "output_type": "execute_result"
    }
   ],
   "source": [
    "td['Survived'].unique()"
   ]
  },
  {
   "cell_type": "code",
   "execution_count": 21,
   "id": "0d69fc78",
   "metadata": {},
   "outputs": [
    {
     "data": {
      "text/plain": [
       "0"
      ]
     },
     "execution_count": 21,
     "metadata": {},
     "output_type": "execute_result"
    }
   ],
   "source": [
    "td['Survived'].isnull().sum()\n"
   ]
  },
  {
   "cell_type": "markdown",
   "id": "d78f5f58",
   "metadata": {},
   "source": [
    "### examine Pclass"
   ]
  },
  {
   "cell_type": "code",
   "execution_count": 22,
   "id": "d10068ab",
   "metadata": {},
   "outputs": [
    {
     "data": {
      "text/plain": [
       "3    218\n",
       "1    107\n",
       "2     93\n",
       "Name: Pclass, dtype: int64"
      ]
     },
     "execution_count": 22,
     "metadata": {},
     "output_type": "execute_result"
    }
   ],
   "source": [
    "td['Pclass'].value_counts()"
   ]
  },
  {
   "cell_type": "code",
   "execution_count": 23,
   "id": "8fbe9b9e",
   "metadata": {},
   "outputs": [
    {
     "data": {
      "text/plain": [
       "array([3, 2, 1], dtype=int64)"
      ]
     },
     "execution_count": 23,
     "metadata": {},
     "output_type": "execute_result"
    }
   ],
   "source": [
    "td['Pclass'].unique()"
   ]
  },
  {
   "cell_type": "code",
   "execution_count": 24,
   "id": "89a85ba6",
   "metadata": {},
   "outputs": [
    {
     "data": {
      "text/plain": [
       "0"
      ]
     },
     "execution_count": 24,
     "metadata": {},
     "output_type": "execute_result"
    }
   ],
   "source": [
    "td['Pclass'].isnull().sum()\n"
   ]
  },
  {
   "cell_type": "code",
   "execution_count": 25,
   "id": "2623f806",
   "metadata": {},
   "outputs": [
    {
     "data": {
      "image/png": "[encoded data removed]",
      "text/plain": [
       "<Figure size 1200x600 with 1 Axes>"
      ]
     },
     "metadata": {},
     "output_type": "display_data"
    }
   ],
   "source": [
    "# Group by 'Locality' and calculate average ratings\n",
    "average_ratings = td.groupby('Pclass')['Survived'].mean().head(30)\n",
    "\n",
    "# Convert the result to a DataFrame for better visualization\n",
    "average_ratings_df = pd.DataFrame(average_ratings).reset_index()\n",
    "\n",
    "# Set the figure size\n",
    "plt.figure(figsize=(12, 6))\n",
    "\n",
    "# Plot the bar plot using Seaborn\n",
    "sns.barplot(data=average_ratings_df, x='Pclass', y='Survived')\n",
    "plt.xticks(rotation=45)\n",
    "plt.xlabel('Pclass')\n",
    "plt.ylabel(' Survived')\n",
    "plt.title('Average Ratings of Restaurants Survived')\n",
    "\n",
    "# Display the plot\n",
    "plt.show()\n"
   ]
  },
  {
   "cell_type": "markdown",
   "id": "02d3c2f7",
   "metadata": {},
   "source": [
    "### examine Name"
   ]
  },
  {
   "cell_type": "code",
   "execution_count": 96,
   "id": "d95b5ce9",
   "metadata": {},
   "outputs": [
    {
     "ename": "KeyError",
     "evalue": "'Name'",
     "output_type": "error",
     "traceback": [
      "\u001b[1;31m---------------------------------------------------------------------------\u001b[0m",
      "\u001b[1;31mKeyError\u001b[0m                                  Traceback (most recent call last)",
      "File \u001b[1;32m~\\anaconda3\\lib\\site-packages\\pandas\\core\\indexes\\base.py:3802\u001b[0m, in \u001b[0;36mIndex.get_loc\u001b[1;34m(self, key, method, tolerance)\u001b[0m\n\u001b[0;32m   3801\u001b[0m \u001b[38;5;28;01mtry\u001b[39;00m:\n\u001b[1;32m-> 3802\u001b[0m     \u001b[38;5;28;01mreturn\u001b[39;00m \u001b[38;5;28;43mself\u001b[39;49m\u001b[38;5;241;43m.\u001b[39;49m\u001b[43m_engine\u001b[49m\u001b[38;5;241;43m.\u001b[39;49m\u001b[43mget_loc\u001b[49m\u001b[43m(\u001b[49m\u001b[43mcasted_key\u001b[49m\u001b[43m)\u001b[49m\n\u001b[0;32m   3803\u001b[0m \u001b[38;5;28;01mexcept\u001b[39;00m \u001b[38;5;167;01mKeyError\u001b[39;00m \u001b[38;5;28;01mas\u001b[39;00m err:\n",
      "File \u001b[1;32m~\\anaconda3\\lib\\site-packages\\pandas\\_libs\\index.pyx:138\u001b[0m, in \u001b[0;36mpandas._libs.index.IndexEngine.get_loc\u001b[1;34m()\u001b[0m\n",
      "File \u001b[1;32m~\\anaconda3\\lib\\site-packages\\pandas\\_libs\\index.pyx:165\u001b[0m, in \u001b[0;36mpandas._libs.index.IndexEngine.get_loc\u001b[1;34m()\u001b[0m\n",
      "File \u001b[1;32mpandas\\_libs\\hashtable_class_helper.pxi:5745\u001b[0m, in \u001b[0;36mpandas._libs.hashtable.PyObjectHashTable.get_item\u001b[1;34m()\u001b[0m\n",
      "File \u001b[1;32mpandas\\_libs\\hashtable_class_helper.pxi:5753\u001b[0m, in \u001b[0;36mpandas._libs.hashtable.PyObjectHashTable.get_item\u001b[1;34m()\u001b[0m\n",
      "\u001b[1;31mKeyError\u001b[0m: 'Name'",
      "\nThe above exception was the direct cause of the following exception:\n",
      "\u001b[1;31mKeyError\u001b[0m                                  Traceback (most recent call last)",
      "Cell \u001b[1;32mIn[96], line 1\u001b[0m\n\u001b[1;32m----> 1\u001b[0m \u001b[43mtd\u001b[49m\u001b[43m[\u001b[49m\u001b[38;5;124;43m'\u001b[39;49m\u001b[38;5;124;43mName\u001b[39;49m\u001b[38;5;124;43m'\u001b[39;49m\u001b[43m]\u001b[49m\u001b[38;5;241m.\u001b[39mvalue_counts()\n",
      "File \u001b[1;32m~\\anaconda3\\lib\\site-packages\\pandas\\core\\frame.py:3807\u001b[0m, in \u001b[0;36mDataFrame.__getitem__\u001b[1;34m(self, key)\u001b[0m\n\u001b[0;32m   3805\u001b[0m \u001b[38;5;28;01mif\u001b[39;00m \u001b[38;5;28mself\u001b[39m\u001b[38;5;241m.\u001b[39mcolumns\u001b[38;5;241m.\u001b[39mnlevels \u001b[38;5;241m>\u001b[39m \u001b[38;5;241m1\u001b[39m:\n\u001b[0;32m   3806\u001b[0m     \u001b[38;5;28;01mreturn\u001b[39;00m \u001b[38;5;28mself\u001b[39m\u001b[38;5;241m.\u001b[39m_getitem_multilevel(key)\n\u001b[1;32m-> 3807\u001b[0m indexer \u001b[38;5;241m=\u001b[39m \u001b[38;5;28;43mself\u001b[39;49m\u001b[38;5;241;43m.\u001b[39;49m\u001b[43mcolumns\u001b[49m\u001b[38;5;241;43m.\u001b[39;49m\u001b[43mget_loc\u001b[49m\u001b[43m(\u001b[49m\u001b[43mkey\u001b[49m\u001b[43m)\u001b[49m\n\u001b[0;32m   3808\u001b[0m \u001b[38;5;28;01mif\u001b[39;00m is_integer(indexer):\n\u001b[0;32m   3809\u001b[0m     indexer \u001b[38;5;241m=\u001b[39m [indexer]\n",
      "File \u001b[1;32m~\\anaconda3\\lib\\site-packages\\pandas\\core\\indexes\\base.py:3804\u001b[0m, in \u001b[0;36mIndex.get_loc\u001b[1;34m(self, key, method, tolerance)\u001b[0m\n\u001b[0;32m   3802\u001b[0m     \u001b[38;5;28;01mreturn\u001b[39;00m \u001b[38;5;28mself\u001b[39m\u001b[38;5;241m.\u001b[39m_engine\u001b[38;5;241m.\u001b[39mget_loc(casted_key)\n\u001b[0;32m   3803\u001b[0m \u001b[38;5;28;01mexcept\u001b[39;00m \u001b[38;5;167;01mKeyError\u001b[39;00m \u001b[38;5;28;01mas\u001b[39;00m err:\n\u001b[1;32m-> 3804\u001b[0m     \u001b[38;5;28;01mraise\u001b[39;00m \u001b[38;5;167;01mKeyError\u001b[39;00m(key) \u001b[38;5;28;01mfrom\u001b[39;00m \u001b[38;5;21;01merr\u001b[39;00m\n\u001b[0;32m   3805\u001b[0m \u001b[38;5;28;01mexcept\u001b[39;00m \u001b[38;5;167;01mTypeError\u001b[39;00m:\n\u001b[0;32m   3806\u001b[0m     \u001b[38;5;66;03m# If we have a listlike key, _check_indexing_error will raise\u001b[39;00m\n\u001b[0;32m   3807\u001b[0m     \u001b[38;5;66;03m#  InvalidIndexError. Otherwise we fall through and re-raise\u001b[39;00m\n\u001b[0;32m   3808\u001b[0m     \u001b[38;5;66;03m#  the TypeError.\u001b[39;00m\n\u001b[0;32m   3809\u001b[0m     \u001b[38;5;28mself\u001b[39m\u001b[38;5;241m.\u001b[39m_check_indexing_error(key)\n",
      "\u001b[1;31mKeyError\u001b[0m: 'Name'"
     ]
    }
   ],
   "source": [
    "td['Name'].value_counts()"
   ]
  },
  {
   "cell_type": "code",
   "execution_count": 27,
   "id": "b27d21d3",
   "metadata": {},
   "outputs": [
    {
     "data": {
      "text/plain": [
       "0"
      ]
     },
     "execution_count": 27,
     "metadata": {},
     "output_type": "execute_result"
    }
   ],
   "source": [
    "td['Name'].isnull().sum()\n"
   ]
  },
  {
   "cell_type": "markdown",
   "id": "9f995dcf",
   "metadata": {},
   "source": [
    "### examine Sex"
   ]
  },
  {
   "cell_type": "code",
   "execution_count": 28,
   "id": "7154ae71",
   "metadata": {},
   "outputs": [
    {
     "data": {
      "text/plain": [
       "male      266\n",
       "female    152\n",
       "Name: Sex, dtype: int64"
      ]
     },
     "execution_count": 28,
     "metadata": {},
     "output_type": "execute_result"
    }
   ],
   "source": [
    "td['Sex'].value_counts()"
   ]
  },
  {
   "cell_type": "code",
   "execution_count": 29,
   "id": "a3d89e9b",
   "metadata": {},
   "outputs": [
    {
     "data": {
      "text/plain": [
       "0"
      ]
     },
     "execution_count": 29,
     "metadata": {},
     "output_type": "execute_result"
    }
   ],
   "source": [
    "td['Sex'].isnull().sum()\n"
   ]
  },
  {
   "cell_type": "code",
   "execution_count": 30,
   "id": "93105310",
   "metadata": {},
   "outputs": [
    {
     "data": {
      "image/png": "[encoded data removed]",
      "text/plain": [
       "<Figure size 640x480 with 1 Axes>"
      ]
     },
     "metadata": {},
     "output_type": "display_data"
    }
   ],
   "source": [
    "# now we just visulise Sex's data\n",
    "td['Survived'].value_counts().plot(kind='barh')\n",
    "plt.xlabel('Sex')\n",
    "plt.ylabel('Survived')\n",
    "plt.title('Value Counts of Survived')\n",
    "plt.show()\n",
    "\n",
    "\n"
   ]
  },
  {
   "cell_type": "code",
   "execution_count": 31,
   "id": "2d7ae5d2",
   "metadata": {},
   "outputs": [],
   "source": [
    "td.loc[td[\"Sex\"].isin([\"male\"]), \"Sex\"] = 1\n",
    "td.loc[td[\"Sex\"].isin([\"female\"]), \"Sex\"] = 2\n",
    "\n",
    "                       "
   ]
  },
  {
   "cell_type": "code",
   "execution_count": 32,
   "id": "496c25dc",
   "metadata": {},
   "outputs": [
    {
     "data": {
      "text/plain": [
       "1    266\n",
       "2    152\n",
       "Name: Sex, dtype: int64"
      ]
     },
     "execution_count": 32,
     "metadata": {},
     "output_type": "execute_result"
    }
   ],
   "source": [
    "td[\"Sex\"].value_counts()"
   ]
  },
  {
   "cell_type": "code",
   "execution_count": 33,
   "id": "066bf2fa",
   "metadata": {},
   "outputs": [
    {
     "name": "stderr",
     "output_type": "stream",
     "text": [
      "C:\\Users\\HP\\AppData\\Local\\Temp\\ipykernel_1144\\3323483945.py:1: FutureWarning: In a future version, the Index constructor will not infer numeric dtypes when passed object-dtype sequences (matching Series behavior)\n",
      "  sex_dummies=pd.get_dummies(td[\"Sex\"],prefix=\"Sex\")\n"
     ]
    }
   ],
   "source": [
    "sex_dummies=pd.get_dummies(td[\"Sex\"],prefix=\"Sex\")"
   ]
  },
  {
   "cell_type": "code",
   "execution_count": 34,
   "id": "20229332",
   "metadata": {},
   "outputs": [
    {
     "data": {
      "text/html": [
       "<div>\n",
       "<style scoped>\n",
       "    .dataframe tbody tr th:only-of-type {\n",
       "        vertical-align: middle;\n",
       "    }\n",
       "\n",
       "    .dataframe tbody tr th {\n",
       "        vertical-align: top;\n",
       "    }\n",
       "\n",
       "    .dataframe thead th {\n",
       "        text-align: right;\n",
       "    }\n",
       "</style>\n",
       "<table border=\"1\" class=\"dataframe\">\n",
       "  <thead>\n",
       "    <tr style=\"text-align: right;\">\n",
       "      <th></th>\n",
       "      <th>Sex_1</th>\n",
       "      <th>Sex_2</th>\n",
       "    </tr>\n",
       "  </thead>\n",
       "  <tbody>\n",
       "    <tr>\n",
       "      <th>0</th>\n",
       "      <td>1</td>\n",
       "      <td>0</td>\n",
       "    </tr>\n",
       "    <tr>\n",
       "      <th>1</th>\n",
       "      <td>0</td>\n",
       "      <td>1</td>\n",
       "    </tr>\n",
       "    <tr>\n",
       "      <th>2</th>\n",
       "      <td>1</td>\n",
       "      <td>0</td>\n",
       "    </tr>\n",
       "    <tr>\n",
       "      <th>3</th>\n",
       "      <td>1</td>\n",
       "      <td>0</td>\n",
       "    </tr>\n",
       "    <tr>\n",
       "      <th>4</th>\n",
       "      <td>0</td>\n",
       "      <td>1</td>\n",
       "    </tr>\n",
       "  </tbody>\n",
       "</table>\n",
       "</div>"
      ],
      "text/plain": [
       "   Sex_1  Sex_2\n",
       "0      1      0\n",
       "1      0      1\n",
       "2      1      0\n",
       "3      1      0\n",
       "4      0      1"
      ]
     },
     "execution_count": 34,
     "metadata": {},
     "output_type": "execute_result"
    }
   ],
   "source": [
    "sex_dummies.head()"
   ]
  },
  {
   "cell_type": "code",
   "execution_count": 35,
   "id": "d3652020",
   "metadata": {},
   "outputs": [
    {
     "name": "stderr",
     "output_type": "stream",
     "text": [
      "C:\\Users\\HP\\AppData\\Local\\Temp\\ipykernel_1144\\3510993848.py:1: FutureWarning: In a future version of pandas all arguments of concat except for the argument 'objs' will be keyword-only.\n",
      "  td=pd.concat([td,sex_dummies],1)\n",
      "C:\\Users\\HP\\AppData\\Local\\Temp\\ipykernel_1144\\3510993848.py:2: FutureWarning: In a future version of pandas all arguments of DataFrame.drop except for the argument 'labels' will be keyword-only.\n",
      "  td=td.drop([\"Sex\"],1)\n"
     ]
    }
   ],
   "source": [
    "td=pd.concat([td,sex_dummies],1)\n",
    "td=td.drop([\"Sex\"],1)"
   ]
  },
  {
   "cell_type": "code",
   "execution_count": 36,
   "id": "75bf63f9",
   "metadata": {},
   "outputs": [
    {
     "data": {
      "text/plain": [
       "PassengerId      int64\n",
       "Survived         int64\n",
       "Pclass           int64\n",
       "Name            object\n",
       "Age            float64\n",
       "SibSp            int64\n",
       "Parch            int64\n",
       "Ticket          object\n",
       "Fare           float64\n",
       "Cabin           object\n",
       "Embarked        object\n",
       "Sex_1            uint8\n",
       "Sex_2            uint8\n",
       "dtype: object"
      ]
     },
     "execution_count": 36,
     "metadata": {},
     "output_type": "execute_result"
    }
   ],
   "source": [
    "td.dtypes"
   ]
  },
  {
   "cell_type": "markdown",
   "id": "b6dbbbb6",
   "metadata": {},
   "source": [
    "### examine Age"
   ]
  },
  {
   "cell_type": "code",
   "execution_count": 37,
   "id": "ba83455e",
   "metadata": {},
   "outputs": [
    {
     "data": {
      "text/plain": [
       "21.0    17\n",
       "24.0    17\n",
       "22.0    16\n",
       "30.0    15\n",
       "18.0    13\n",
       "        ..\n",
       "76.0     1\n",
       "28.5     1\n",
       "22.5     1\n",
       "62.0     1\n",
       "38.5     1\n",
       "Name: Age, Length: 79, dtype: int64"
      ]
     },
     "execution_count": 37,
     "metadata": {},
     "output_type": "execute_result"
    }
   ],
   "source": [
    "td['Age'].value_counts()"
   ]
  },
  {
   "cell_type": "code",
   "execution_count": 38,
   "id": "47ed4399",
   "metadata": {},
   "outputs": [
    {
     "data": {
      "text/plain": [
       "86"
      ]
     },
     "execution_count": 38,
     "metadata": {},
     "output_type": "execute_result"
    }
   ],
   "source": [
    "td['Age'].isnull().sum()\n"
   ]
  },
  {
   "cell_type": "code",
   "execution_count": 39,
   "id": "dc06de69",
   "metadata": {},
   "outputs": [],
   "source": [
    "# Age : convert the dtype\n",
    "td['Age'] = pd.to_numeric(td['Age'], errors='coerce')"
   ]
  },
  {
   "cell_type": "code",
   "execution_count": 40,
   "id": "6bf91202",
   "metadata": {},
   "outputs": [],
   "source": [
    "td.dropna(subset=['Age'], inplace=True)\n"
   ]
  },
  {
   "cell_type": "code",
   "execution_count": 41,
   "id": "789929b2",
   "metadata": {},
   "outputs": [
    {
     "data": {
      "text/plain": [
       "0"
      ]
     },
     "execution_count": 41,
     "metadata": {},
     "output_type": "execute_result"
    }
   ],
   "source": [
    "td['Age'].isnull().sum()\n"
   ]
  },
  {
   "cell_type": "code",
   "execution_count": 42,
   "id": "bb8b767f",
   "metadata": {},
   "outputs": [
    {
     "data": {
      "image/png": "[encoded data removed]",
      "text/plain": [
       "<Figure size 1200x600 with 1 Axes>"
      ]
     },
     "metadata": {},
     "output_type": "display_data"
    }
   ],
   "source": [
    "# Group by 'Age' and calculate average Survived\n",
    "average_ratings = td.groupby('Age')['Survived'].mean()\n",
    "\n",
    "# Convert the result to a DataFrame for better visualization\n",
    "average_ratings_df = pd.DataFrame(average_ratings).reset_index()\n",
    "\n",
    "# Set the figure size\n",
    "plt.figure(figsize=(12, 6))\n",
    "\n",
    "# Plot the bar plot using Seaborn\n",
    "sns.barplot(data=average_ratings_df, x='Age', y='Survived')\n",
    "plt.xticks(rotation=45)\n",
    "plt.xlabel('Age')\n",
    "plt.ylabel(' Survived')\n",
    "plt.title('Average Survived')\n",
    "\n",
    "# Display the plot\n",
    "plt.show()\n"
   ]
  },
  {
   "cell_type": "markdown",
   "id": "fc47b7bf",
   "metadata": {},
   "source": [
    "### examine SibSp\n"
   ]
  },
  {
   "cell_type": "code",
   "execution_count": 43,
   "id": "f90110ea",
   "metadata": {},
   "outputs": [
    {
     "data": {
      "text/plain": [
       "0    214\n",
       "1     97\n",
       "2     11\n",
       "3      4\n",
       "4      4\n",
       "5      1\n",
       "8      1\n",
       "Name: SibSp, dtype: int64"
      ]
     },
     "execution_count": 43,
     "metadata": {},
     "output_type": "execute_result"
    }
   ],
   "source": [
    "td['SibSp'].value_counts()"
   ]
  },
  {
   "cell_type": "code",
   "execution_count": 44,
   "id": "4e11a3f0",
   "metadata": {},
   "outputs": [
    {
     "data": {
      "text/plain": [
       "0"
      ]
     },
     "execution_count": 44,
     "metadata": {},
     "output_type": "execute_result"
    }
   ],
   "source": [
    "td['SibSp'].isnull().sum()\n"
   ]
  },
  {
   "cell_type": "code",
   "execution_count": 97,
   "id": "269efb2a",
   "metadata": {},
   "outputs": [
    {
     "data": {
      "text/plain": [
       "PassengerId      int64\n",
       "Survived         int64\n",
       "Pclass           int64\n",
       "Age            float64\n",
       "SibSp            int64\n",
       "Parch            int64\n",
       "Fare           float64\n",
       "Sex_1            uint8\n",
       "Sex_2            uint8\n",
       "Embarked_01      uint8\n",
       "Embarked_02      uint8\n",
       "Embarked_03      uint8\n",
       "dtype: object"
      ]
     },
     "execution_count": 97,
     "metadata": {},
     "output_type": "execute_result"
    }
   ],
   "source": [
    "td.dtypes"
   ]
  },
  {
   "cell_type": "markdown",
   "id": "39c00a4e",
   "metadata": {},
   "source": [
    "### examine Parch\n"
   ]
  },
  {
   "cell_type": "code",
   "execution_count": 46,
   "id": "5afadacb",
   "metadata": {},
   "outputs": [
    {
     "data": {
      "text/plain": [
       "0    247\n",
       "1     50\n",
       "2     29\n",
       "3      3\n",
       "4      1\n",
       "6      1\n",
       "5      1\n",
       "Name: Parch, dtype: int64"
      ]
     },
     "execution_count": 46,
     "metadata": {},
     "output_type": "execute_result"
    }
   ],
   "source": [
    "td['Parch'].value_counts()"
   ]
  },
  {
   "cell_type": "code",
   "execution_count": 47,
   "id": "51c1d675",
   "metadata": {},
   "outputs": [
    {
     "data": {
      "text/plain": [
       "0"
      ]
     },
     "execution_count": 47,
     "metadata": {},
     "output_type": "execute_result"
    }
   ],
   "source": [
    "td['Parch'].isnull().sum()\n"
   ]
  },
  {
   "cell_type": "markdown",
   "id": "ac170358",
   "metadata": {},
   "source": [
    "### examine Ticket"
   ]
  },
  {
   "cell_type": "code",
   "execution_count": 48,
   "id": "8b393f6d",
   "metadata": {},
   "outputs": [
    {
     "data": {
      "text/plain": [
       "PC 17608              5\n",
       "113503                4\n",
       "SOTON/O.Q. 3101315    3\n",
       "C.A. 31029            3\n",
       "220845                3\n",
       "                     ..\n",
       "17475                 1\n",
       "345763                1\n",
       "SC/A4 23568           1\n",
       "250651                1\n",
       "SOTON/O.Q. 3101262    1\n",
       "Name: Ticket, Length: 285, dtype: int64"
      ]
     },
     "execution_count": 48,
     "metadata": {},
     "output_type": "execute_result"
    }
   ],
   "source": [
    "td['Ticket'].value_counts()"
   ]
  },
  {
   "cell_type": "code",
   "execution_count": 49,
   "id": "3334604d",
   "metadata": {},
   "outputs": [
    {
     "data": {
      "text/plain": [
       "0"
      ]
     },
     "execution_count": 49,
     "metadata": {},
     "output_type": "execute_result"
    }
   ],
   "source": [
    "td['Ticket'].isnull().sum()\n"
   ]
  },
  {
   "cell_type": "markdown",
   "id": "d09fa31e",
   "metadata": {},
   "source": [
    "### examine Fare"
   ]
  },
  {
   "cell_type": "code",
   "execution_count": 50,
   "id": "c95ece2b",
   "metadata": {},
   "outputs": [
    {
     "data": {
      "text/plain": [
       "26.0000     18\n",
       "13.0000     17\n",
       "10.5000     11\n",
       "8.0500       9\n",
       "7.7750       9\n",
       "            ..\n",
       "31.6792      1\n",
       "15.0458      1\n",
       "7.8208       1\n",
       "8.5167       1\n",
       "108.9000     1\n",
       "Name: Fare, Length: 148, dtype: int64"
      ]
     },
     "execution_count": 50,
     "metadata": {},
     "output_type": "execute_result"
    }
   ],
   "source": [
    "td['Fare'].value_counts()"
   ]
  },
  {
   "cell_type": "code",
   "execution_count": 51,
   "id": "1a2e9da6",
   "metadata": {},
   "outputs": [
    {
     "data": {
      "text/plain": [
       "1"
      ]
     },
     "execution_count": 51,
     "metadata": {},
     "output_type": "execute_result"
    }
   ],
   "source": [
    "td['Fare'].isnull().sum()\n"
   ]
  },
  {
   "cell_type": "code",
   "execution_count": 52,
   "id": "6b0d95a5",
   "metadata": {},
   "outputs": [],
   "source": [
    "td.dropna(subset=['Fare'], inplace=True)\n"
   ]
  },
  {
   "cell_type": "code",
   "execution_count": 53,
   "id": "5062dee4",
   "metadata": {},
   "outputs": [
    {
     "data": {
      "text/plain": [
       "0"
      ]
     },
     "execution_count": 53,
     "metadata": {},
     "output_type": "execute_result"
    }
   ],
   "source": [
    "td['Fare'].isnull().sum()\n"
   ]
  },
  {
   "cell_type": "code",
   "execution_count": 54,
   "id": "4f3b8fe4",
   "metadata": {},
   "outputs": [],
   "source": [
    "# Fare : convert the dtype\n",
    "\n",
    "td['Fare'] = pd.to_numeric(td['Fare'], errors='coerce')"
   ]
  },
  {
   "cell_type": "code",
   "execution_count": 55,
   "id": "0f70478f",
   "metadata": {},
   "outputs": [
    {
     "data": {
      "text/plain": [
       "26.0000     18\n",
       "13.0000     17\n",
       "10.5000     11\n",
       "8.0500       9\n",
       "7.7750       9\n",
       "            ..\n",
       "31.6792      1\n",
       "15.0458      1\n",
       "7.8208       1\n",
       "8.5167       1\n",
       "108.9000     1\n",
       "Name: Fare, Length: 148, dtype: int64"
      ]
     },
     "execution_count": 55,
     "metadata": {},
     "output_type": "execute_result"
    }
   ],
   "source": [
    "td['Fare'].value_counts()"
   ]
  },
  {
   "cell_type": "markdown",
   "id": "5572e5d8",
   "metadata": {},
   "source": [
    "### examine Cabin"
   ]
  },
  {
   "cell_type": "code",
   "execution_count": 56,
   "id": "a19d9ff1",
   "metadata": {},
   "outputs": [
    {
     "data": {
      "text/plain": [
       "B57 B59 B63 B66    3\n",
       "B45                2\n",
       "C23 C25 C27        2\n",
       "C116               2\n",
       "C80                2\n",
       "                  ..\n",
       "E52                1\n",
       "D30                1\n",
       "E31                1\n",
       "C62 C64            1\n",
       "C105               1\n",
       "Name: Cabin, Length: 72, dtype: int64"
      ]
     },
     "execution_count": 56,
     "metadata": {},
     "output_type": "execute_result"
    }
   ],
   "source": [
    "td['Cabin'].value_counts()"
   ]
  },
  {
   "cell_type": "code",
   "execution_count": 57,
   "id": "fdf3660c",
   "metadata": {},
   "outputs": [
    {
     "data": {
      "text/plain": [
       "244"
      ]
     },
     "execution_count": 57,
     "metadata": {},
     "output_type": "execute_result"
    }
   ],
   "source": [
    "td['Cabin'].isnull().sum()\n"
   ]
  },
  {
   "cell_type": "code",
   "execution_count": 58,
   "id": "7c80c388",
   "metadata": {},
   "outputs": [],
   "source": [
    "td.dropna(subset=['Cabin'], inplace=True)\n"
   ]
  },
  {
   "cell_type": "code",
   "execution_count": 59,
   "id": "88b18de8",
   "metadata": {},
   "outputs": [
    {
     "data": {
      "text/plain": [
       "0"
      ]
     },
     "execution_count": 59,
     "metadata": {},
     "output_type": "execute_result"
    }
   ],
   "source": [
    "td['Cabin'].isnull().sum()\n"
   ]
  },
  {
   "cell_type": "markdown",
   "id": "11ea61da",
   "metadata": {},
   "source": [
    "### examine Embarked"
   ]
  },
  {
   "cell_type": "code",
   "execution_count": 60,
   "id": "b0a47a9c",
   "metadata": {},
   "outputs": [
    {
     "data": {
      "text/plain": [
       "C    47\n",
       "S    39\n",
       "Q     1\n",
       "Name: Embarked, dtype: int64"
      ]
     },
     "execution_count": 60,
     "metadata": {},
     "output_type": "execute_result"
    }
   ],
   "source": [
    "td['Embarked'].value_counts()"
   ]
  },
  {
   "cell_type": "code",
   "execution_count": 61,
   "id": "4b1d1874",
   "metadata": {},
   "outputs": [
    {
     "data": {
      "text/plain": [
       "0"
      ]
     },
     "execution_count": 61,
     "metadata": {},
     "output_type": "execute_result"
    }
   ],
   "source": [
    "td['Embarked'].isnull().sum()\n"
   ]
  },
  {
   "cell_type": "code",
   "execution_count": 62,
   "id": "31fb0f63",
   "metadata": {},
   "outputs": [],
   "source": [
    "td.loc[td[\"Embarked\"].isin([\"C\"]), \"Embarked\"] = \"01\"\n",
    "td.loc[td[\"Embarked\"].isin([\"S\"]), \"Embarked\"] = \"02\"\n",
    "td.loc[td[\"Embarked\"].isin([\"Q\"]), \"Embarked\"] = \"03\"\n"
   ]
  },
  {
   "cell_type": "code",
   "execution_count": 63,
   "id": "4789abd3",
   "metadata": {},
   "outputs": [
    {
     "data": {
      "text/plain": [
       "01    47\n",
       "02    39\n",
       "03     1\n",
       "Name: Embarked, dtype: int64"
      ]
     },
     "execution_count": 63,
     "metadata": {},
     "output_type": "execute_result"
    }
   ],
   "source": [
    "td[\"Embarked\"].value_counts()"
   ]
  },
  {
   "cell_type": "code",
   "execution_count": 64,
   "id": "ecdb3a22",
   "metadata": {},
   "outputs": [],
   "source": [
    "# making dummies\n",
    "Embarked_dummies=pd.get_dummies(td[\"Embarked\"],prefix=\"Embarked\")"
   ]
  },
  {
   "cell_type": "code",
   "execution_count": 65,
   "id": "09cf9e3c",
   "metadata": {},
   "outputs": [
    {
     "data": {
      "text/html": [
       "<div>\n",
       "<style scoped>\n",
       "    .dataframe tbody tr th:only-of-type {\n",
       "        vertical-align: middle;\n",
       "    }\n",
       "\n",
       "    .dataframe tbody tr th {\n",
       "        vertical-align: top;\n",
       "    }\n",
       "\n",
       "    .dataframe thead th {\n",
       "        text-align: right;\n",
       "    }\n",
       "</style>\n",
       "<table border=\"1\" class=\"dataframe\">\n",
       "  <thead>\n",
       "    <tr style=\"text-align: right;\">\n",
       "      <th></th>\n",
       "      <th>Embarked_01</th>\n",
       "      <th>Embarked_02</th>\n",
       "      <th>Embarked_03</th>\n",
       "    </tr>\n",
       "  </thead>\n",
       "  <tbody>\n",
       "    <tr>\n",
       "      <th>12</th>\n",
       "      <td>0</td>\n",
       "      <td>1</td>\n",
       "      <td>0</td>\n",
       "    </tr>\n",
       "    <tr>\n",
       "      <th>14</th>\n",
       "      <td>0</td>\n",
       "      <td>1</td>\n",
       "      <td>0</td>\n",
       "    </tr>\n",
       "    <tr>\n",
       "      <th>24</th>\n",
       "      <td>1</td>\n",
       "      <td>0</td>\n",
       "      <td>0</td>\n",
       "    </tr>\n",
       "    <tr>\n",
       "      <th>26</th>\n",
       "      <td>1</td>\n",
       "      <td>0</td>\n",
       "      <td>0</td>\n",
       "    </tr>\n",
       "    <tr>\n",
       "      <th>28</th>\n",
       "      <td>0</td>\n",
       "      <td>1</td>\n",
       "      <td>0</td>\n",
       "    </tr>\n",
       "  </tbody>\n",
       "</table>\n",
       "</div>"
      ],
      "text/plain": [
       "    Embarked_01  Embarked_02  Embarked_03\n",
       "12            0            1            0\n",
       "14            0            1            0\n",
       "24            1            0            0\n",
       "26            1            0            0\n",
       "28            0            1            0"
      ]
     },
     "execution_count": 65,
     "metadata": {},
     "output_type": "execute_result"
    }
   ],
   "source": [
    "Embarked_dummies.head()"
   ]
  },
  {
   "cell_type": "code",
   "execution_count": 66,
   "id": "e850bf79",
   "metadata": {},
   "outputs": [
    {
     "name": "stderr",
     "output_type": "stream",
     "text": [
      "C:\\Users\\HP\\AppData\\Local\\Temp\\ipykernel_1144\\3910234095.py:1: FutureWarning: In a future version of pandas all arguments of concat except for the argument 'objs' will be keyword-only.\n",
      "  td=pd.concat([td,Embarked_dummies],1)\n",
      "C:\\Users\\HP\\AppData\\Local\\Temp\\ipykernel_1144\\3910234095.py:2: FutureWarning: In a future version of pandas all arguments of DataFrame.drop except for the argument 'labels' will be keyword-only.\n",
      "  td=td.drop([\"Embarked\"],1)\n"
     ]
    }
   ],
   "source": [
    "td=pd.concat([td,Embarked_dummies],1)\n",
    "td=td.drop([\"Embarked\"],1)"
   ]
  },
  {
   "cell_type": "code",
   "execution_count": 67,
   "id": "0024f361",
   "metadata": {},
   "outputs": [
    {
     "data": {
      "text/html": [
       "<div>\n",
       "<style scoped>\n",
       "    .dataframe tbody tr th:only-of-type {\n",
       "        vertical-align: middle;\n",
       "    }\n",
       "\n",
       "    .dataframe tbody tr th {\n",
       "        vertical-align: top;\n",
       "    }\n",
       "\n",
       "    .dataframe thead th {\n",
       "        text-align: right;\n",
       "    }\n",
       "</style>\n",
       "<table border=\"1\" class=\"dataframe\">\n",
       "  <thead>\n",
       "    <tr style=\"text-align: right;\">\n",
       "      <th></th>\n",
       "      <th>PassengerId</th>\n",
       "      <th>Survived</th>\n",
       "      <th>Pclass</th>\n",
       "      <th>Name</th>\n",
       "      <th>Age</th>\n",
       "      <th>SibSp</th>\n",
       "      <th>Parch</th>\n",
       "      <th>Ticket</th>\n",
       "      <th>Fare</th>\n",
       "      <th>Cabin</th>\n",
       "      <th>Sex_1</th>\n",
       "      <th>Sex_2</th>\n",
       "      <th>Embarked_01</th>\n",
       "      <th>Embarked_02</th>\n",
       "      <th>Embarked_03</th>\n",
       "    </tr>\n",
       "  </thead>\n",
       "  <tbody>\n",
       "    <tr>\n",
       "      <th>12</th>\n",
       "      <td>904</td>\n",
       "      <td>1</td>\n",
       "      <td>1</td>\n",
       "      <td>Snyder, Mrs. John Pillsbury (Nelle Stevenson)</td>\n",
       "      <td>23.0</td>\n",
       "      <td>1</td>\n",
       "      <td>0</td>\n",
       "      <td>21228</td>\n",
       "      <td>82.2667</td>\n",
       "      <td>B45</td>\n",
       "      <td>0</td>\n",
       "      <td>1</td>\n",
       "      <td>0</td>\n",
       "      <td>1</td>\n",
       "      <td>0</td>\n",
       "    </tr>\n",
       "    <tr>\n",
       "      <th>14</th>\n",
       "      <td>906</td>\n",
       "      <td>1</td>\n",
       "      <td>1</td>\n",
       "      <td>Chaffee, Mrs. Herbert Fuller (Carrie Constance...</td>\n",
       "      <td>47.0</td>\n",
       "      <td>1</td>\n",
       "      <td>0</td>\n",
       "      <td>W.E.P. 5734</td>\n",
       "      <td>61.1750</td>\n",
       "      <td>E31</td>\n",
       "      <td>0</td>\n",
       "      <td>1</td>\n",
       "      <td>0</td>\n",
       "      <td>1</td>\n",
       "      <td>0</td>\n",
       "    </tr>\n",
       "    <tr>\n",
       "      <th>24</th>\n",
       "      <td>916</td>\n",
       "      <td>1</td>\n",
       "      <td>1</td>\n",
       "      <td>Ryerson, Mrs. Arthur Larned (Emily Maria Borie)</td>\n",
       "      <td>48.0</td>\n",
       "      <td>1</td>\n",
       "      <td>3</td>\n",
       "      <td>PC 17608</td>\n",
       "      <td>262.3750</td>\n",
       "      <td>B57 B59 B63 B66</td>\n",
       "      <td>0</td>\n",
       "      <td>1</td>\n",
       "      <td>1</td>\n",
       "      <td>0</td>\n",
       "      <td>0</td>\n",
       "    </tr>\n",
       "    <tr>\n",
       "      <th>26</th>\n",
       "      <td>918</td>\n",
       "      <td>1</td>\n",
       "      <td>1</td>\n",
       "      <td>Ostby, Miss. Helene Ragnhild</td>\n",
       "      <td>22.0</td>\n",
       "      <td>0</td>\n",
       "      <td>1</td>\n",
       "      <td>113509</td>\n",
       "      <td>61.9792</td>\n",
       "      <td>B36</td>\n",
       "      <td>0</td>\n",
       "      <td>1</td>\n",
       "      <td>1</td>\n",
       "      <td>0</td>\n",
       "      <td>0</td>\n",
       "    </tr>\n",
       "    <tr>\n",
       "      <th>28</th>\n",
       "      <td>920</td>\n",
       "      <td>0</td>\n",
       "      <td>1</td>\n",
       "      <td>Brady, Mr. John Bertram</td>\n",
       "      <td>41.0</td>\n",
       "      <td>0</td>\n",
       "      <td>0</td>\n",
       "      <td>113054</td>\n",
       "      <td>30.5000</td>\n",
       "      <td>A21</td>\n",
       "      <td>1</td>\n",
       "      <td>0</td>\n",
       "      <td>0</td>\n",
       "      <td>1</td>\n",
       "      <td>0</td>\n",
       "    </tr>\n",
       "    <tr>\n",
       "      <th>...</th>\n",
       "      <td>...</td>\n",
       "      <td>...</td>\n",
       "      <td>...</td>\n",
       "      <td>...</td>\n",
       "      <td>...</td>\n",
       "      <td>...</td>\n",
       "      <td>...</td>\n",
       "      <td>...</td>\n",
       "      <td>...</td>\n",
       "      <td>...</td>\n",
       "      <td>...</td>\n",
       "      <td>...</td>\n",
       "      <td>...</td>\n",
       "      <td>...</td>\n",
       "      <td>...</td>\n",
       "    </tr>\n",
       "    <tr>\n",
       "      <th>404</th>\n",
       "      <td>1296</td>\n",
       "      <td>0</td>\n",
       "      <td>1</td>\n",
       "      <td>Frauenthal, Mr. Isaac Gerald</td>\n",
       "      <td>43.0</td>\n",
       "      <td>1</td>\n",
       "      <td>0</td>\n",
       "      <td>17765</td>\n",
       "      <td>27.7208</td>\n",
       "      <td>D40</td>\n",
       "      <td>1</td>\n",
       "      <td>0</td>\n",
       "      <td>1</td>\n",
       "      <td>0</td>\n",
       "      <td>0</td>\n",
       "    </tr>\n",
       "    <tr>\n",
       "      <th>405</th>\n",
       "      <td>1297</td>\n",
       "      <td>0</td>\n",
       "      <td>2</td>\n",
       "      <td>Nourney, Mr. Alfred (Baron von Drachstedt\")\"</td>\n",
       "      <td>20.0</td>\n",
       "      <td>0</td>\n",
       "      <td>0</td>\n",
       "      <td>SC/PARIS 2166</td>\n",
       "      <td>13.8625</td>\n",
       "      <td>D38</td>\n",
       "      <td>1</td>\n",
       "      <td>0</td>\n",
       "      <td>1</td>\n",
       "      <td>0</td>\n",
       "      <td>0</td>\n",
       "    </tr>\n",
       "    <tr>\n",
       "      <th>407</th>\n",
       "      <td>1299</td>\n",
       "      <td>0</td>\n",
       "      <td>1</td>\n",
       "      <td>Widener, Mr. George Dunton</td>\n",
       "      <td>50.0</td>\n",
       "      <td>1</td>\n",
       "      <td>1</td>\n",
       "      <td>113503</td>\n",
       "      <td>211.5000</td>\n",
       "      <td>C80</td>\n",
       "      <td>1</td>\n",
       "      <td>0</td>\n",
       "      <td>1</td>\n",
       "      <td>0</td>\n",
       "      <td>0</td>\n",
       "    </tr>\n",
       "    <tr>\n",
       "      <th>411</th>\n",
       "      <td>1303</td>\n",
       "      <td>1</td>\n",
       "      <td>1</td>\n",
       "      <td>Minahan, Mrs. William Edward (Lillian E Thorpe)</td>\n",
       "      <td>37.0</td>\n",
       "      <td>1</td>\n",
       "      <td>0</td>\n",
       "      <td>19928</td>\n",
       "      <td>90.0000</td>\n",
       "      <td>C78</td>\n",
       "      <td>0</td>\n",
       "      <td>1</td>\n",
       "      <td>0</td>\n",
       "      <td>0</td>\n",
       "      <td>1</td>\n",
       "    </tr>\n",
       "    <tr>\n",
       "      <th>414</th>\n",
       "      <td>1306</td>\n",
       "      <td>1</td>\n",
       "      <td>1</td>\n",
       "      <td>Oliva y Ocana, Dona. Fermina</td>\n",
       "      <td>39.0</td>\n",
       "      <td>0</td>\n",
       "      <td>0</td>\n",
       "      <td>PC 17758</td>\n",
       "      <td>108.9000</td>\n",
       "      <td>C105</td>\n",
       "      <td>0</td>\n",
       "      <td>1</td>\n",
       "      <td>1</td>\n",
       "      <td>0</td>\n",
       "      <td>0</td>\n",
       "    </tr>\n",
       "  </tbody>\n",
       "</table>\n",
       "<p>87 rows × 15 columns</p>\n",
       "</div>"
      ],
      "text/plain": [
       "     PassengerId  Survived  Pclass  \\\n",
       "12           904         1       1   \n",
       "14           906         1       1   \n",
       "24           916         1       1   \n",
       "26           918         1       1   \n",
       "28           920         0       1   \n",
       "..           ...       ...     ...   \n",
       "404         1296         0       1   \n",
       "405         1297         0       2   \n",
       "407         1299         0       1   \n",
       "411         1303         1       1   \n",
       "414         1306         1       1   \n",
       "\n",
       "                                                  Name   Age  SibSp  Parch  \\\n",
       "12       Snyder, Mrs. John Pillsbury (Nelle Stevenson)  23.0      1      0   \n",
       "14   Chaffee, Mrs. Herbert Fuller (Carrie Constance...  47.0      1      0   \n",
       "24     Ryerson, Mrs. Arthur Larned (Emily Maria Borie)  48.0      1      3   \n",
       "26                        Ostby, Miss. Helene Ragnhild  22.0      0      1   \n",
       "28                             Brady, Mr. John Bertram  41.0      0      0   \n",
       "..                                                 ...   ...    ...    ...   \n",
       "404                       Frauenthal, Mr. Isaac Gerald  43.0      1      0   \n",
       "405       Nourney, Mr. Alfred (Baron von Drachstedt\")\"  20.0      0      0   \n",
       "407                         Widener, Mr. George Dunton  50.0      1      1   \n",
       "411    Minahan, Mrs. William Edward (Lillian E Thorpe)  37.0      1      0   \n",
       "414                       Oliva y Ocana, Dona. Fermina  39.0      0      0   \n",
       "\n",
       "            Ticket      Fare            Cabin  Sex_1  Sex_2  Embarked_01  \\\n",
       "12           21228   82.2667              B45      0      1            0   \n",
       "14     W.E.P. 5734   61.1750              E31      0      1            0   \n",
       "24        PC 17608  262.3750  B57 B59 B63 B66      0      1            1   \n",
       "26          113509   61.9792              B36      0      1            1   \n",
       "28          113054   30.5000              A21      1      0            0   \n",
       "..             ...       ...              ...    ...    ...          ...   \n",
       "404          17765   27.7208              D40      1      0            1   \n",
       "405  SC/PARIS 2166   13.8625              D38      1      0            1   \n",
       "407         113503  211.5000              C80      1      0            1   \n",
       "411          19928   90.0000              C78      0      1            0   \n",
       "414       PC 17758  108.9000             C105      0      1            1   \n",
       "\n",
       "     Embarked_02  Embarked_03  \n",
       "12             1            0  \n",
       "14             1            0  \n",
       "24             0            0  \n",
       "26             0            0  \n",
       "28             1            0  \n",
       "..           ...          ...  \n",
       "404            0            0  \n",
       "405            0            0  \n",
       "407            0            0  \n",
       "411            0            1  \n",
       "414            0            0  \n",
       "\n",
       "[87 rows x 15 columns]"
      ]
     },
     "execution_count": 67,
     "metadata": {},
     "output_type": "execute_result"
    }
   ],
   "source": [
    "td "
   ]
  },
  {
   "cell_type": "code",
   "execution_count": 68,
   "id": "e5270a78",
   "metadata": {},
   "outputs": [
    {
     "data": {
      "image/png": "[encoded data removed]",
      "text/plain": [
       "<Figure size 1000x800 with 2 Axes>"
      ]
     },
     "metadata": {},
     "output_type": "display_data"
    }
   ],
   "source": [
    "# Select the columns of interest\n",
    "columns_of_interest = ['PassengerId','Pclass','Age','SibSp','Parch','Fare','Sex_1','Sex_2','Embarked_01','Embarked_02','Embarked_03']\n",
    "subset_df = td[columns_of_interest]\n",
    "\n",
    "# Compute the correlation matrix\n",
    "correlation_matrix = subset_df.corr()\n",
    "\n",
    "# Create the heatmap\n",
    "plt.figure(figsize=(10, 8))\n",
    "sns.heatmap(correlation_matrix, annot=True, cmap='coolwarm', vmin=-1, vmax=1)\n",
    "plt.title('Correlation Heatmap')\n",
    "plt.show()\n"
   ]
  },
  {
   "cell_type": "code",
   "execution_count": 69,
   "id": "47dfc3d0",
   "metadata": {},
   "outputs": [
    {
     "data": {
      "text/plain": [
       "PassengerId      int64\n",
       "Survived         int64\n",
       "Pclass           int64\n",
       "Name            object\n",
       "Age            float64\n",
       "SibSp            int64\n",
       "Parch            int64\n",
       "Ticket          object\n",
       "Fare           float64\n",
       "Cabin           object\n",
       "Sex_1            uint8\n",
       "Sex_2            uint8\n",
       "Embarked_01      uint8\n",
       "Embarked_02      uint8\n",
       "Embarked_03      uint8\n",
       "dtype: object"
      ]
     },
     "execution_count": 69,
     "metadata": {},
     "output_type": "execute_result"
    }
   ],
   "source": [
    "td.dtypes"
   ]
  },
  {
   "cell_type": "markdown",
   "id": "34de5d19",
   "metadata": {},
   "source": [
    "### delete unwanted coloumn"
   ]
  },
  {
   "cell_type": "code",
   "execution_count": 70,
   "id": "613b2f33",
   "metadata": {},
   "outputs": [],
   "source": [
    "del td[\"Name\"]\n",
    "del td[\"Ticket\"]\n",
    "del td[\"Cabin\"]\n"
   ]
  },
  {
   "cell_type": "code",
   "execution_count": null,
   "id": "163aa6c7",
   "metadata": {},
   "outputs": [],
   "source": []
  },
  {
   "cell_type": "code",
   "execution_count": null,
   "id": "d8f7f6d4",
   "metadata": {},
   "outputs": [],
   "source": []
  },
  {
   "cell_type": "code",
   "execution_count": 71,
   "id": "d042d673",
   "metadata": {},
   "outputs": [
    {
     "data": {
      "text/plain": [
       "(87, 12)"
      ]
     },
     "execution_count": 71,
     "metadata": {},
     "output_type": "execute_result"
    }
   ],
   "source": [
    "td.shape"
   ]
  },
  {
   "cell_type": "code",
   "execution_count": 72,
   "id": "96afcf2a",
   "metadata": {},
   "outputs": [
    {
     "data": {
      "text/plain": [
       "Index(['PassengerId', 'Survived', 'Pclass', 'Age', 'SibSp', 'Parch', 'Fare',\n",
       "       'Sex_1', 'Sex_2', 'Embarked_01', 'Embarked_02', 'Embarked_03'],\n",
       "      dtype='object')"
      ]
     },
     "execution_count": 72,
     "metadata": {},
     "output_type": "execute_result"
    }
   ],
   "source": [
    "td.columns"
   ]
  },
  {
   "cell_type": "markdown",
   "id": "3f4b224e",
   "metadata": {},
   "source": [
    "### Built Model\n"
   ]
  },
  {
   "cell_type": "code",
   "execution_count": 73,
   "id": "b714e3cc",
   "metadata": {},
   "outputs": [],
   "source": [
    "x = td.iloc[:, :-1].values\n",
    "y = td.iloc[:, -1].values"
   ]
  },
  {
   "cell_type": "code",
   "execution_count": 74,
   "id": "0293305b",
   "metadata": {},
   "outputs": [
    {
     "data": {
      "text/plain": [
       "array([[9.040000e+02, 1.000000e+00, 1.000000e+00, 2.300000e+01,\n",
       "        1.000000e+00, 0.000000e+00, 8.226670e+01, 0.000000e+00,\n",
       "        1.000000e+00, 0.000000e+00, 1.000000e+00],\n",
       "       [9.060000e+02, 1.000000e+00, 1.000000e+00, 4.700000e+01,\n",
       "        1.000000e+00, 0.000000e+00, 6.117500e+01, 0.000000e+00,\n",
       "        1.000000e+00, 0.000000e+00, 1.000000e+00],\n",
       "       [9.160000e+02, 1.000000e+00, 1.000000e+00, 4.800000e+01,\n",
       "        1.000000e+00, 3.000000e+00, 2.623750e+02, 0.000000e+00,\n",
       "        1.000000e+00, 1.000000e+00, 0.000000e+00],\n",
       "       [9.180000e+02, 1.000000e+00, 1.000000e+00, 2.200000e+01,\n",
       "        0.000000e+00, 1.000000e+00, 6.197920e+01, 0.000000e+00,\n",
       "        1.000000e+00, 1.000000e+00, 0.000000e+00],\n",
       "       [9.200000e+02, 0.000000e+00, 1.000000e+00, 4.100000e+01,\n",
       "        0.000000e+00, 0.000000e+00, 3.050000e+01, 1.000000e+00,\n",
       "        0.000000e+00, 0.000000e+00, 1.000000e+00],\n",
       "       [9.260000e+02, 0.000000e+00, 1.000000e+00, 3.000000e+01,\n",
       "        1.000000e+00, 0.000000e+00, 5.775000e+01, 1.000000e+00,\n",
       "        0.000000e+00, 1.000000e+00, 0.000000e+00],\n",
       "       [9.360000e+02, 1.000000e+00, 1.000000e+00, 4.500000e+01,\n",
       "        1.000000e+00, 0.000000e+00, 5.255420e+01, 0.000000e+00,\n",
       "        1.000000e+00, 0.000000e+00, 1.000000e+00],\n",
       "       [9.380000e+02, 0.000000e+00, 1.000000e+00, 4.500000e+01,\n",
       "        0.000000e+00, 0.000000e+00, 2.970000e+01, 1.000000e+00,\n",
       "        0.000000e+00, 1.000000e+00, 0.000000e+00],\n",
       "       [9.400000e+02, 1.000000e+00, 1.000000e+00, 6.000000e+01,\n",
       "        0.000000e+00, 0.000000e+00, 7.629170e+01, 0.000000e+00,\n",
       "        1.000000e+00, 1.000000e+00, 0.000000e+00],\n",
       "       [9.420000e+02, 0.000000e+00, 1.000000e+00, 2.400000e+01,\n",
       "        1.000000e+00, 0.000000e+00, 6.000000e+01, 1.000000e+00,\n",
       "        0.000000e+00, 0.000000e+00, 1.000000e+00],\n",
       "       [9.450000e+02, 1.000000e+00, 1.000000e+00, 2.800000e+01,\n",
       "        3.000000e+00, 2.000000e+00, 2.630000e+02, 0.000000e+00,\n",
       "        1.000000e+00, 0.000000e+00, 1.000000e+00],\n",
       "       [9.490000e+02, 0.000000e+00, 3.000000e+00, 2.500000e+01,\n",
       "        0.000000e+00, 0.000000e+00, 7.650000e+00, 1.000000e+00,\n",
       "        0.000000e+00, 0.000000e+00, 1.000000e+00],\n",
       "       [9.510000e+02, 1.000000e+00, 1.000000e+00, 3.600000e+01,\n",
       "        0.000000e+00, 0.000000e+00, 2.623750e+02, 0.000000e+00,\n",
       "        1.000000e+00, 1.000000e+00, 0.000000e+00],\n",
       "       [9.560000e+02, 0.000000e+00, 1.000000e+00, 1.300000e+01,\n",
       "        2.000000e+00, 2.000000e+00, 2.623750e+02, 1.000000e+00,\n",
       "        0.000000e+00, 1.000000e+00, 0.000000e+00],\n",
       "       [9.600000e+02, 0.000000e+00, 1.000000e+00, 3.100000e+01,\n",
       "        0.000000e+00, 0.000000e+00, 2.853750e+01, 1.000000e+00,\n",
       "        0.000000e+00, 1.000000e+00, 0.000000e+00],\n",
       "       [9.610000e+02, 1.000000e+00, 1.000000e+00, 6.000000e+01,\n",
       "        1.000000e+00, 4.000000e+00, 2.630000e+02, 0.000000e+00,\n",
       "        1.000000e+00, 0.000000e+00, 1.000000e+00],\n",
       "       [9.650000e+02, 0.000000e+00, 1.000000e+00, 2.850000e+01,\n",
       "        0.000000e+00, 0.000000e+00, 2.772080e+01, 1.000000e+00,\n",
       "        0.000000e+00, 1.000000e+00, 0.000000e+00],\n",
       "       [9.660000e+02, 1.000000e+00, 1.000000e+00, 3.500000e+01,\n",
       "        0.000000e+00, 0.000000e+00, 2.115000e+02, 0.000000e+00,\n",
       "        1.000000e+00, 1.000000e+00, 0.000000e+00],\n",
       "       [9.670000e+02, 0.000000e+00, 1.000000e+00, 3.250000e+01,\n",
       "        0.000000e+00, 0.000000e+00, 2.115000e+02, 1.000000e+00,\n",
       "        0.000000e+00, 1.000000e+00, 0.000000e+00],\n",
       "       [9.690000e+02, 1.000000e+00, 1.000000e+00, 5.500000e+01,\n",
       "        2.000000e+00, 0.000000e+00, 2.570000e+01, 0.000000e+00,\n",
       "        1.000000e+00, 0.000000e+00, 1.000000e+00],\n",
       "       [9.730000e+02, 0.000000e+00, 1.000000e+00, 6.700000e+01,\n",
       "        1.000000e+00, 0.000000e+00, 2.217792e+02, 1.000000e+00,\n",
       "        0.000000e+00, 0.000000e+00, 1.000000e+00],\n",
       "       [9.840000e+02, 1.000000e+00, 1.000000e+00, 2.700000e+01,\n",
       "        1.000000e+00, 2.000000e+00, 5.200000e+01, 0.000000e+00,\n",
       "        1.000000e+00, 0.000000e+00, 1.000000e+00],\n",
       "       [9.880000e+02, 1.000000e+00, 1.000000e+00, 7.600000e+01,\n",
       "        1.000000e+00, 0.000000e+00, 7.885000e+01, 0.000000e+00,\n",
       "        1.000000e+00, 0.000000e+00, 1.000000e+00],\n",
       "       [9.920000e+02, 1.000000e+00, 1.000000e+00, 4.300000e+01,\n",
       "        1.000000e+00, 0.000000e+00, 5.544170e+01, 0.000000e+00,\n",
       "        1.000000e+00, 1.000000e+00, 0.000000e+00],\n",
       "       [1.001000e+03, 0.000000e+00, 2.000000e+00, 1.850000e+01,\n",
       "        0.000000e+00, 0.000000e+00, 1.300000e+01, 1.000000e+00,\n",
       "        0.000000e+00, 0.000000e+00, 1.000000e+00],\n",
       "       [1.004000e+03, 1.000000e+00, 1.000000e+00, 3.600000e+01,\n",
       "        0.000000e+00, 0.000000e+00, 3.167920e+01, 0.000000e+00,\n",
       "        1.000000e+00, 1.000000e+00, 0.000000e+00],\n",
       "       [1.006000e+03, 1.000000e+00, 1.000000e+00, 6.300000e+01,\n",
       "        1.000000e+00, 0.000000e+00, 2.217792e+02, 0.000000e+00,\n",
       "        1.000000e+00, 0.000000e+00, 1.000000e+00],\n",
       "       [1.009000e+03, 1.000000e+00, 3.000000e+00, 1.000000e+00,\n",
       "        1.000000e+00, 1.000000e+00, 1.670000e+01, 0.000000e+00,\n",
       "        1.000000e+00, 0.000000e+00, 1.000000e+00],\n",
       "       [1.010000e+03, 0.000000e+00, 1.000000e+00, 3.600000e+01,\n",
       "        0.000000e+00, 0.000000e+00, 7.524170e+01, 1.000000e+00,\n",
       "        0.000000e+00, 1.000000e+00, 0.000000e+00],\n",
       "       [1.014000e+03, 1.000000e+00, 1.000000e+00, 3.500000e+01,\n",
       "        1.000000e+00, 0.000000e+00, 5.775000e+01, 0.000000e+00,\n",
       "        1.000000e+00, 1.000000e+00, 0.000000e+00],\n",
       "       [1.023000e+03, 0.000000e+00, 1.000000e+00, 5.300000e+01,\n",
       "        0.000000e+00, 0.000000e+00, 2.850000e+01, 1.000000e+00,\n",
       "        0.000000e+00, 1.000000e+00, 0.000000e+00],\n",
       "       [1.034000e+03, 0.000000e+00, 1.000000e+00, 6.100000e+01,\n",
       "        1.000000e+00, 3.000000e+00, 2.623750e+02, 1.000000e+00,\n",
       "        0.000000e+00, 1.000000e+00, 0.000000e+00],\n",
       "       [1.042000e+03, 1.000000e+00, 1.000000e+00, 2.300000e+01,\n",
       "        0.000000e+00, 1.000000e+00, 8.315830e+01, 0.000000e+00,\n",
       "        1.000000e+00, 1.000000e+00, 0.000000e+00],\n",
       "       [1.048000e+03, 1.000000e+00, 1.000000e+00, 2.900000e+01,\n",
       "        0.000000e+00, 0.000000e+00, 2.217792e+02, 0.000000e+00,\n",
       "        1.000000e+00, 0.000000e+00, 1.000000e+00],\n",
       "       [1.050000e+03, 0.000000e+00, 1.000000e+00, 4.200000e+01,\n",
       "        0.000000e+00, 0.000000e+00, 2.655000e+01, 1.000000e+00,\n",
       "        0.000000e+00, 0.000000e+00, 1.000000e+00],\n",
       "       [1.058000e+03, 0.000000e+00, 1.000000e+00, 4.800000e+01,\n",
       "        0.000000e+00, 0.000000e+00, 5.049580e+01, 1.000000e+00,\n",
       "        0.000000e+00, 1.000000e+00, 0.000000e+00],\n",
       "       [1.069000e+03, 0.000000e+00, 1.000000e+00, 5.400000e+01,\n",
       "        1.000000e+00, 0.000000e+00, 5.544170e+01, 1.000000e+00,\n",
       "        0.000000e+00, 1.000000e+00, 0.000000e+00],\n",
       "       [1.070000e+03, 1.000000e+00, 2.000000e+00, 3.600000e+01,\n",
       "        0.000000e+00, 3.000000e+00, 3.900000e+01, 0.000000e+00,\n",
       "        1.000000e+00, 0.000000e+00, 1.000000e+00],\n",
       "       [1.071000e+03, 1.000000e+00, 1.000000e+00, 6.400000e+01,\n",
       "        0.000000e+00, 2.000000e+00, 8.315830e+01, 0.000000e+00,\n",
       "        1.000000e+00, 1.000000e+00, 0.000000e+00],\n",
       "       [1.073000e+03, 0.000000e+00, 1.000000e+00, 3.700000e+01,\n",
       "        1.000000e+00, 1.000000e+00, 8.315830e+01, 1.000000e+00,\n",
       "        0.000000e+00, 1.000000e+00, 0.000000e+00],\n",
       "       [1.074000e+03, 1.000000e+00, 1.000000e+00, 1.800000e+01,\n",
       "        1.000000e+00, 0.000000e+00, 5.310000e+01, 0.000000e+00,\n",
       "        1.000000e+00, 0.000000e+00, 1.000000e+00],\n",
       "       [1.076000e+03, 1.000000e+00, 1.000000e+00, 2.700000e+01,\n",
       "        1.000000e+00, 1.000000e+00, 2.475208e+02, 0.000000e+00,\n",
       "        1.000000e+00, 1.000000e+00, 0.000000e+00],\n",
       "       [1.088000e+03, 0.000000e+00, 1.000000e+00, 6.000000e+00,\n",
       "        0.000000e+00, 2.000000e+00, 1.345000e+02, 1.000000e+00,\n",
       "        0.000000e+00, 1.000000e+00, 0.000000e+00],\n",
       "       [1.094000e+03, 0.000000e+00, 1.000000e+00, 4.700000e+01,\n",
       "        1.000000e+00, 0.000000e+00, 2.275250e+02, 1.000000e+00,\n",
       "        0.000000e+00, 1.000000e+00, 0.000000e+00],\n",
       "       [1.100000e+03, 1.000000e+00, 1.000000e+00, 3.300000e+01,\n",
       "        0.000000e+00, 0.000000e+00, 2.772080e+01, 0.000000e+00,\n",
       "        1.000000e+00, 1.000000e+00, 0.000000e+00],\n",
       "       [1.107000e+03, 0.000000e+00, 1.000000e+00, 4.200000e+01,\n",
       "        0.000000e+00, 0.000000e+00, 4.250000e+01, 1.000000e+00,\n",
       "        0.000000e+00, 0.000000e+00, 1.000000e+00],\n",
       "       [1.110000e+03, 1.000000e+00, 1.000000e+00, 5.000000e+01,\n",
       "        1.000000e+00, 1.000000e+00, 2.115000e+02, 0.000000e+00,\n",
       "        1.000000e+00, 1.000000e+00, 0.000000e+00],\n",
       "       [1.114000e+03, 1.000000e+00, 2.000000e+00, 2.200000e+01,\n",
       "        0.000000e+00, 0.000000e+00, 1.050000e+01, 0.000000e+00,\n",
       "        1.000000e+00, 0.000000e+00, 1.000000e+00],\n",
       "       [1.126000e+03, 0.000000e+00, 1.000000e+00, 3.900000e+01,\n",
       "        1.000000e+00, 0.000000e+00, 7.128330e+01, 1.000000e+00,\n",
       "        0.000000e+00, 1.000000e+00, 0.000000e+00],\n",
       "       [1.128000e+03, 0.000000e+00, 1.000000e+00, 6.400000e+01,\n",
       "        1.000000e+00, 0.000000e+00, 7.525000e+01, 1.000000e+00,\n",
       "        0.000000e+00, 1.000000e+00, 0.000000e+00],\n",
       "       [1.131000e+03, 1.000000e+00, 1.000000e+00, 4.800000e+01,\n",
       "        1.000000e+00, 0.000000e+00, 1.064250e+02, 0.000000e+00,\n",
       "        1.000000e+00, 1.000000e+00, 0.000000e+00],\n",
       "       [1.134000e+03, 0.000000e+00, 1.000000e+00, 4.500000e+01,\n",
       "        1.000000e+00, 1.000000e+00, 1.345000e+02, 1.000000e+00,\n",
       "        0.000000e+00, 1.000000e+00, 0.000000e+00],\n",
       "       [1.137000e+03, 0.000000e+00, 1.000000e+00, 4.100000e+01,\n",
       "        1.000000e+00, 0.000000e+00, 5.186250e+01, 1.000000e+00,\n",
       "        0.000000e+00, 0.000000e+00, 1.000000e+00],\n",
       "       [1.144000e+03, 0.000000e+00, 1.000000e+00, 2.700000e+01,\n",
       "        1.000000e+00, 0.000000e+00, 1.367792e+02, 1.000000e+00,\n",
       "        0.000000e+00, 1.000000e+00, 0.000000e+00],\n",
       "       [1.162000e+03, 0.000000e+00, 1.000000e+00, 4.600000e+01,\n",
       "        0.000000e+00, 0.000000e+00, 7.524170e+01, 1.000000e+00,\n",
       "        0.000000e+00, 1.000000e+00, 0.000000e+00],\n",
       "       [1.164000e+03, 1.000000e+00, 1.000000e+00, 2.600000e+01,\n",
       "        1.000000e+00, 0.000000e+00, 1.367792e+02, 0.000000e+00,\n",
       "        1.000000e+00, 1.000000e+00, 0.000000e+00],\n",
       "       [1.179000e+03, 0.000000e+00, 1.000000e+00, 2.400000e+01,\n",
       "        1.000000e+00, 0.000000e+00, 8.226670e+01, 1.000000e+00,\n",
       "        0.000000e+00, 0.000000e+00, 1.000000e+00],\n",
       "       [1.185000e+03, 0.000000e+00, 1.000000e+00, 5.300000e+01,\n",
       "        1.000000e+00, 1.000000e+00, 8.185830e+01, 1.000000e+00,\n",
       "        0.000000e+00, 0.000000e+00, 1.000000e+00],\n",
       "       [1.197000e+03, 1.000000e+00, 1.000000e+00, 6.400000e+01,\n",
       "        1.000000e+00, 1.000000e+00, 2.655000e+01, 0.000000e+00,\n",
       "        1.000000e+00, 0.000000e+00, 1.000000e+00],\n",
       "       [1.198000e+03, 0.000000e+00, 1.000000e+00, 3.000000e+01,\n",
       "        1.000000e+00, 2.000000e+00, 1.515500e+02, 1.000000e+00,\n",
       "        0.000000e+00, 0.000000e+00, 1.000000e+00],\n",
       "       [1.200000e+03, 0.000000e+00, 1.000000e+00, 5.500000e+01,\n",
       "        1.000000e+00, 1.000000e+00, 9.350000e+01, 1.000000e+00,\n",
       "        0.000000e+00, 0.000000e+00, 1.000000e+00],\n",
       "       [1.206000e+03, 1.000000e+00, 1.000000e+00, 5.500000e+01,\n",
       "        0.000000e+00, 0.000000e+00, 1.356333e+02, 0.000000e+00,\n",
       "        1.000000e+00, 1.000000e+00, 0.000000e+00],\n",
       "       [1.208000e+03, 0.000000e+00, 1.000000e+00, 5.700000e+01,\n",
       "        1.000000e+00, 0.000000e+00, 1.465208e+02, 1.000000e+00,\n",
       "        0.000000e+00, 1.000000e+00, 0.000000e+00],\n",
       "       [1.213000e+03, 0.000000e+00, 3.000000e+00, 2.500000e+01,\n",
       "        0.000000e+00, 0.000000e+00, 7.229200e+00, 1.000000e+00,\n",
       "        0.000000e+00, 1.000000e+00, 0.000000e+00],\n",
       "       [1.214000e+03, 0.000000e+00, 2.000000e+00, 2.600000e+01,\n",
       "        0.000000e+00, 0.000000e+00, 1.300000e+01, 1.000000e+00,\n",
       "        0.000000e+00, 0.000000e+00, 1.000000e+00],\n",
       "       [1.218000e+03, 1.000000e+00, 2.000000e+00, 1.200000e+01,\n",
       "        2.000000e+00, 1.000000e+00, 3.900000e+01, 0.000000e+00,\n",
       "        1.000000e+00, 0.000000e+00, 1.000000e+00],\n",
       "       [1.223000e+03, 0.000000e+00, 1.000000e+00, 3.900000e+01,\n",
       "        0.000000e+00, 0.000000e+00, 2.970000e+01, 1.000000e+00,\n",
       "        0.000000e+00, 1.000000e+00, 0.000000e+00],\n",
       "       [1.227000e+03, 0.000000e+00, 1.000000e+00, 3.000000e+01,\n",
       "        0.000000e+00, 0.000000e+00, 2.600000e+01, 1.000000e+00,\n",
       "        0.000000e+00, 0.000000e+00, 1.000000e+00],\n",
       "       [1.235000e+03, 1.000000e+00, 1.000000e+00, 5.800000e+01,\n",
       "        0.000000e+00, 1.000000e+00, 5.123292e+02, 0.000000e+00,\n",
       "        1.000000e+00, 1.000000e+00, 0.000000e+00],\n",
       "       [1.242000e+03, 1.000000e+00, 1.000000e+00, 4.500000e+01,\n",
       "        0.000000e+00, 1.000000e+00, 6.335830e+01, 0.000000e+00,\n",
       "        1.000000e+00, 1.000000e+00, 0.000000e+00],\n",
       "       [1.247000e+03, 0.000000e+00, 1.000000e+00, 5.000000e+01,\n",
       "        0.000000e+00, 0.000000e+00, 2.600000e+01, 1.000000e+00,\n",
       "        0.000000e+00, 0.000000e+00, 1.000000e+00],\n",
       "       [1.248000e+03, 1.000000e+00, 1.000000e+00, 5.900000e+01,\n",
       "        2.000000e+00, 0.000000e+00, 5.147920e+01, 0.000000e+00,\n",
       "        1.000000e+00, 0.000000e+00, 1.000000e+00],\n",
       "       [1.256000e+03, 1.000000e+00, 1.000000e+00, 2.500000e+01,\n",
       "        1.000000e+00, 0.000000e+00, 5.544170e+01, 0.000000e+00,\n",
       "        1.000000e+00, 1.000000e+00, 0.000000e+00],\n",
       "       [1.263000e+03, 1.000000e+00, 1.000000e+00, 3.100000e+01,\n",
       "        0.000000e+00, 0.000000e+00, 1.345000e+02, 0.000000e+00,\n",
       "        1.000000e+00, 1.000000e+00, 0.000000e+00],\n",
       "       [1.264000e+03, 0.000000e+00, 1.000000e+00, 4.900000e+01,\n",
       "        0.000000e+00, 0.000000e+00, 0.000000e+00, 1.000000e+00,\n",
       "        0.000000e+00, 0.000000e+00, 1.000000e+00],\n",
       "       [1.266000e+03, 1.000000e+00, 1.000000e+00, 5.400000e+01,\n",
       "        1.000000e+00, 1.000000e+00, 8.185830e+01, 0.000000e+00,\n",
       "        1.000000e+00, 0.000000e+00, 1.000000e+00],\n",
       "       [1.270000e+03, 0.000000e+00, 1.000000e+00, 5.500000e+01,\n",
       "        0.000000e+00, 0.000000e+00, 5.000000e+01, 1.000000e+00,\n",
       "        0.000000e+00, 0.000000e+00, 1.000000e+00],\n",
       "       [1.282000e+03, 0.000000e+00, 1.000000e+00, 2.300000e+01,\n",
       "        0.000000e+00, 0.000000e+00, 9.350000e+01, 1.000000e+00,\n",
       "        0.000000e+00, 0.000000e+00, 1.000000e+00],\n",
       "       [1.283000e+03, 1.000000e+00, 1.000000e+00, 5.100000e+01,\n",
       "        0.000000e+00, 1.000000e+00, 3.940000e+01, 0.000000e+00,\n",
       "        1.000000e+00, 0.000000e+00, 1.000000e+00],\n",
       "       [1.287000e+03, 1.000000e+00, 1.000000e+00, 1.800000e+01,\n",
       "        1.000000e+00, 0.000000e+00, 6.000000e+01, 0.000000e+00,\n",
       "        1.000000e+00, 0.000000e+00, 1.000000e+00],\n",
       "       [1.289000e+03, 1.000000e+00, 1.000000e+00, 4.800000e+01,\n",
       "        1.000000e+00, 1.000000e+00, 7.920000e+01, 0.000000e+00,\n",
       "        1.000000e+00, 1.000000e+00, 0.000000e+00],\n",
       "       [1.292000e+03, 1.000000e+00, 1.000000e+00, 3.000000e+01,\n",
       "        0.000000e+00, 0.000000e+00, 1.648667e+02, 0.000000e+00,\n",
       "        1.000000e+00, 0.000000e+00, 1.000000e+00],\n",
       "       [1.296000e+03, 0.000000e+00, 1.000000e+00, 4.300000e+01,\n",
       "        1.000000e+00, 0.000000e+00, 2.772080e+01, 1.000000e+00,\n",
       "        0.000000e+00, 1.000000e+00, 0.000000e+00],\n",
       "       [1.297000e+03, 0.000000e+00, 2.000000e+00, 2.000000e+01,\n",
       "        0.000000e+00, 0.000000e+00, 1.386250e+01, 1.000000e+00,\n",
       "        0.000000e+00, 1.000000e+00, 0.000000e+00],\n",
       "       [1.299000e+03, 0.000000e+00, 1.000000e+00, 5.000000e+01,\n",
       "        1.000000e+00, 1.000000e+00, 2.115000e+02, 1.000000e+00,\n",
       "        0.000000e+00, 1.000000e+00, 0.000000e+00],\n",
       "       [1.303000e+03, 1.000000e+00, 1.000000e+00, 3.700000e+01,\n",
       "        1.000000e+00, 0.000000e+00, 9.000000e+01, 0.000000e+00,\n",
       "        1.000000e+00, 0.000000e+00, 0.000000e+00],\n",
       "       [1.306000e+03, 1.000000e+00, 1.000000e+00, 3.900000e+01,\n",
       "        0.000000e+00, 0.000000e+00, 1.089000e+02, 0.000000e+00,\n",
       "        1.000000e+00, 1.000000e+00, 0.000000e+00]])"
      ]
     },
     "execution_count": 74,
     "metadata": {},
     "output_type": "execute_result"
    }
   ],
   "source": [
    "x\n"
   ]
  },
  {
   "cell_type": "code",
   "execution_count": 75,
   "id": "399e394c",
   "metadata": {},
   "outputs": [
    {
     "data": {
      "text/plain": [
       "array([0, 0, 0, 0, 0, 0, 0, 0, 0, 0, 0, 0, 0, 0, 0, 0, 0, 0, 0, 0, 0, 0,\n",
       "       0, 0, 0, 0, 0, 0, 0, 0, 0, 0, 0, 0, 0, 0, 0, 0, 0, 0, 0, 0, 0, 0,\n",
       "       0, 0, 0, 0, 0, 0, 0, 0, 0, 0, 0, 0, 0, 0, 0, 0, 0, 0, 0, 0, 0, 0,\n",
       "       0, 0, 0, 0, 0, 0, 0, 0, 0, 0, 0, 0, 0, 0, 0, 0, 0, 0, 0, 1, 0],\n",
       "      dtype=uint8)"
      ]
     },
     "execution_count": 75,
     "metadata": {},
     "output_type": "execute_result"
    }
   ],
   "source": [
    "y"
   ]
  },
  {
   "cell_type": "code",
   "execution_count": 76,
   "id": "357f0abe",
   "metadata": {},
   "outputs": [],
   "source": [
    "from sklearn.model_selection import train_test_split\n",
    "x_train, x_test, y_train, y_test = train_test_split(x, y, test_size = 0.15, random_state = 0)"
   ]
  },
  {
   "cell_type": "code",
   "execution_count": 77,
   "id": "85194733",
   "metadata": {},
   "outputs": [],
   "source": [
    "# Splitting into Train and Test Sets\n",
    "td_train, td_test= train_test_split(td, test_size=0.2, random_state=42)"
   ]
  },
  {
   "cell_type": "code",
   "execution_count": 78,
   "id": "30bebb0a",
   "metadata": {},
   "outputs": [
    {
     "data": {
      "text/plain": [
       "(14, 11)"
      ]
     },
     "execution_count": 78,
     "metadata": {},
     "output_type": "execute_result"
    }
   ],
   "source": [
    "x_test.shape\n"
   ]
  },
  {
   "cell_type": "code",
   "execution_count": 79,
   "id": "3b2095cc",
   "metadata": {},
   "outputs": [
    {
     "data": {
      "text/plain": [
       "(73,)"
      ]
     },
     "execution_count": 79,
     "metadata": {},
     "output_type": "execute_result"
    }
   ],
   "source": [
    "y_train.shape"
   ]
  },
  {
   "cell_type": "code",
   "execution_count": 80,
   "id": "fd8d94ef",
   "metadata": {},
   "outputs": [
    {
     "name": "stdout",
     "output_type": "stream",
     "text": [
      "[[9.400000e+02 1.000000e+00 1.000000e+00 6.000000e+01 0.000000e+00\n",
      "  0.000000e+00 7.629170e+01 0.000000e+00 1.000000e+00 1.000000e+00\n",
      "  0.000000e+00]\n",
      " [9.650000e+02 0.000000e+00 1.000000e+00 2.850000e+01 0.000000e+00\n",
      "  0.000000e+00 2.772080e+01 1.000000e+00 0.000000e+00 1.000000e+00\n",
      "  0.000000e+00]\n",
      " [1.001000e+03 0.000000e+00 2.000000e+00 1.850000e+01 0.000000e+00\n",
      "  0.000000e+00 1.300000e+01 1.000000e+00 0.000000e+00 0.000000e+00\n",
      "  1.000000e+00]\n",
      " [1.179000e+03 0.000000e+00 1.000000e+00 2.400000e+01 1.000000e+00\n",
      "  0.000000e+00 8.226670e+01 1.000000e+00 0.000000e+00 0.000000e+00\n",
      "  1.000000e+00]\n",
      " [1.266000e+03 1.000000e+00 1.000000e+00 5.400000e+01 1.000000e+00\n",
      "  1.000000e+00 8.185830e+01 0.000000e+00 1.000000e+00 0.000000e+00\n",
      "  1.000000e+00]\n",
      " [1.088000e+03 0.000000e+00 1.000000e+00 6.000000e+00 0.000000e+00\n",
      "  2.000000e+00 1.345000e+02 1.000000e+00 0.000000e+00 1.000000e+00\n",
      "  0.000000e+00]\n",
      " [9.880000e+02 1.000000e+00 1.000000e+00 7.600000e+01 1.000000e+00\n",
      "  0.000000e+00 7.885000e+01 0.000000e+00 1.000000e+00 0.000000e+00\n",
      "  1.000000e+00]\n",
      " [9.360000e+02 1.000000e+00 1.000000e+00 4.500000e+01 1.000000e+00\n",
      "  0.000000e+00 5.255420e+01 0.000000e+00 1.000000e+00 0.000000e+00\n",
      "  1.000000e+00]\n",
      " [1.206000e+03 1.000000e+00 1.000000e+00 5.500000e+01 0.000000e+00\n",
      "  0.000000e+00 1.356333e+02 0.000000e+00 1.000000e+00 1.000000e+00\n",
      "  0.000000e+00]\n",
      " [1.126000e+03 0.000000e+00 1.000000e+00 3.900000e+01 1.000000e+00\n",
      "  0.000000e+00 7.128330e+01 1.000000e+00 0.000000e+00 1.000000e+00\n",
      "  0.000000e+00]\n",
      " [1.242000e+03 1.000000e+00 1.000000e+00 4.500000e+01 0.000000e+00\n",
      "  1.000000e+00 6.335830e+01 0.000000e+00 1.000000e+00 1.000000e+00\n",
      "  0.000000e+00]\n",
      " [1.162000e+03 0.000000e+00 1.000000e+00 4.600000e+01 0.000000e+00\n",
      "  0.000000e+00 7.524170e+01 1.000000e+00 0.000000e+00 1.000000e+00\n",
      "  0.000000e+00]\n",
      " [1.248000e+03 1.000000e+00 1.000000e+00 5.900000e+01 2.000000e+00\n",
      "  0.000000e+00 5.147920e+01 0.000000e+00 1.000000e+00 0.000000e+00\n",
      "  1.000000e+00]\n",
      " [1.282000e+03 0.000000e+00 1.000000e+00 2.300000e+01 0.000000e+00\n",
      "  0.000000e+00 9.350000e+01 1.000000e+00 0.000000e+00 0.000000e+00\n",
      "  1.000000e+00]\n",
      " [1.289000e+03 1.000000e+00 1.000000e+00 4.800000e+01 1.000000e+00\n",
      "  1.000000e+00 7.920000e+01 0.000000e+00 1.000000e+00 1.000000e+00\n",
      "  0.000000e+00]\n",
      " [9.180000e+02 1.000000e+00 1.000000e+00 2.200000e+01 0.000000e+00\n",
      "  1.000000e+00 6.197920e+01 0.000000e+00 1.000000e+00 1.000000e+00\n",
      "  0.000000e+00]\n",
      " [1.208000e+03 0.000000e+00 1.000000e+00 5.700000e+01 1.000000e+00\n",
      "  0.000000e+00 1.465208e+02 1.000000e+00 0.000000e+00 1.000000e+00\n",
      "  0.000000e+00]\n",
      " [1.263000e+03 1.000000e+00 1.000000e+00 3.100000e+01 0.000000e+00\n",
      "  0.000000e+00 1.345000e+02 0.000000e+00 1.000000e+00 1.000000e+00\n",
      "  0.000000e+00]\n",
      " [1.009000e+03 1.000000e+00 3.000000e+00 1.000000e+00 1.000000e+00\n",
      "  1.000000e+00 1.670000e+01 0.000000e+00 1.000000e+00 0.000000e+00\n",
      "  1.000000e+00]\n",
      " [9.670000e+02 0.000000e+00 1.000000e+00 3.250000e+01 0.000000e+00\n",
      "  0.000000e+00 2.115000e+02 1.000000e+00 0.000000e+00 1.000000e+00\n",
      "  0.000000e+00]\n",
      " [1.131000e+03 1.000000e+00 1.000000e+00 4.800000e+01 1.000000e+00\n",
      "  0.000000e+00 1.064250e+02 0.000000e+00 1.000000e+00 1.000000e+00\n",
      "  0.000000e+00]\n",
      " [1.134000e+03 0.000000e+00 1.000000e+00 4.500000e+01 1.000000e+00\n",
      "  1.000000e+00 1.345000e+02 1.000000e+00 0.000000e+00 1.000000e+00\n",
      "  0.000000e+00]\n",
      " [1.256000e+03 1.000000e+00 1.000000e+00 2.500000e+01 1.000000e+00\n",
      "  0.000000e+00 5.544170e+01 0.000000e+00 1.000000e+00 1.000000e+00\n",
      "  0.000000e+00]\n",
      " [1.198000e+03 0.000000e+00 1.000000e+00 3.000000e+01 1.000000e+00\n",
      "  2.000000e+00 1.515500e+02 1.000000e+00 0.000000e+00 0.000000e+00\n",
      "  1.000000e+00]\n",
      " [1.164000e+03 1.000000e+00 1.000000e+00 2.600000e+01 1.000000e+00\n",
      "  0.000000e+00 1.367792e+02 0.000000e+00 1.000000e+00 1.000000e+00\n",
      "  0.000000e+00]\n",
      " [9.200000e+02 0.000000e+00 1.000000e+00 4.100000e+01 0.000000e+00\n",
      "  0.000000e+00 3.050000e+01 1.000000e+00 0.000000e+00 0.000000e+00\n",
      "  1.000000e+00]\n",
      " [9.610000e+02 1.000000e+00 1.000000e+00 6.000000e+01 1.000000e+00\n",
      "  4.000000e+00 2.630000e+02 0.000000e+00 1.000000e+00 0.000000e+00\n",
      "  1.000000e+00]\n",
      " [9.660000e+02 1.000000e+00 1.000000e+00 3.500000e+01 0.000000e+00\n",
      "  0.000000e+00 2.115000e+02 0.000000e+00 1.000000e+00 1.000000e+00\n",
      "  0.000000e+00]\n",
      " [1.074000e+03 1.000000e+00 1.000000e+00 1.800000e+01 1.000000e+00\n",
      "  0.000000e+00 5.310000e+01 0.000000e+00 1.000000e+00 0.000000e+00\n",
      "  1.000000e+00]\n",
      " [1.071000e+03 1.000000e+00 1.000000e+00 6.400000e+01 0.000000e+00\n",
      "  2.000000e+00 8.315830e+01 0.000000e+00 1.000000e+00 1.000000e+00\n",
      "  0.000000e+00]\n",
      " [9.260000e+02 0.000000e+00 1.000000e+00 3.000000e+01 1.000000e+00\n",
      "  0.000000e+00 5.775000e+01 1.000000e+00 0.000000e+00 1.000000e+00\n",
      "  0.000000e+00]\n",
      " [1.287000e+03 1.000000e+00 1.000000e+00 1.800000e+01 1.000000e+00\n",
      "  0.000000e+00 6.000000e+01 0.000000e+00 1.000000e+00 0.000000e+00\n",
      "  1.000000e+00]\n",
      " [1.235000e+03 1.000000e+00 1.000000e+00 5.800000e+01 0.000000e+00\n",
      "  1.000000e+00 5.123292e+02 0.000000e+00 1.000000e+00 1.000000e+00\n",
      "  0.000000e+00]\n",
      " [9.040000e+02 1.000000e+00 1.000000e+00 2.300000e+01 1.000000e+00\n",
      "  0.000000e+00 8.226670e+01 0.000000e+00 1.000000e+00 0.000000e+00\n",
      "  1.000000e+00]\n",
      " [1.050000e+03 0.000000e+00 1.000000e+00 4.200000e+01 0.000000e+00\n",
      "  0.000000e+00 2.655000e+01 1.000000e+00 0.000000e+00 0.000000e+00\n",
      "  1.000000e+00]\n",
      " [1.010000e+03 0.000000e+00 1.000000e+00 3.600000e+01 0.000000e+00\n",
      "  0.000000e+00 7.524170e+01 1.000000e+00 0.000000e+00 1.000000e+00\n",
      "  0.000000e+00]\n",
      " [9.490000e+02 0.000000e+00 3.000000e+00 2.500000e+01 0.000000e+00\n",
      "  0.000000e+00 7.650000e+00 1.000000e+00 0.000000e+00 0.000000e+00\n",
      "  1.000000e+00]\n",
      " [1.058000e+03 0.000000e+00 1.000000e+00 4.800000e+01 0.000000e+00\n",
      "  0.000000e+00 5.049580e+01 1.000000e+00 0.000000e+00 1.000000e+00\n",
      "  0.000000e+00]\n",
      " [9.920000e+02 1.000000e+00 1.000000e+00 4.300000e+01 1.000000e+00\n",
      "  0.000000e+00 5.544170e+01 0.000000e+00 1.000000e+00 1.000000e+00\n",
      "  0.000000e+00]\n",
      " [1.137000e+03 0.000000e+00 1.000000e+00 4.100000e+01 1.000000e+00\n",
      "  0.000000e+00 5.186250e+01 1.000000e+00 0.000000e+00 0.000000e+00\n",
      "  1.000000e+00]\n",
      " [9.450000e+02 1.000000e+00 1.000000e+00 2.800000e+01 3.000000e+00\n",
      "  2.000000e+00 2.630000e+02 0.000000e+00 1.000000e+00 0.000000e+00\n",
      "  1.000000e+00]\n",
      " [1.034000e+03 0.000000e+00 1.000000e+00 6.100000e+01 1.000000e+00\n",
      "  3.000000e+00 2.623750e+02 1.000000e+00 0.000000e+00 1.000000e+00\n",
      "  0.000000e+00]\n",
      " [1.200000e+03 0.000000e+00 1.000000e+00 5.500000e+01 1.000000e+00\n",
      "  1.000000e+00 9.350000e+01 1.000000e+00 0.000000e+00 0.000000e+00\n",
      "  1.000000e+00]\n",
      " [1.185000e+03 0.000000e+00 1.000000e+00 5.300000e+01 1.000000e+00\n",
      "  1.000000e+00 8.185830e+01 1.000000e+00 0.000000e+00 0.000000e+00\n",
      "  1.000000e+00]\n",
      " [1.283000e+03 1.000000e+00 1.000000e+00 5.100000e+01 0.000000e+00\n",
      "  1.000000e+00 3.940000e+01 0.000000e+00 1.000000e+00 0.000000e+00\n",
      "  1.000000e+00]\n",
      " [9.060000e+02 1.000000e+00 1.000000e+00 4.700000e+01 1.000000e+00\n",
      "  0.000000e+00 6.117500e+01 0.000000e+00 1.000000e+00 0.000000e+00\n",
      "  1.000000e+00]\n",
      " [1.042000e+03 1.000000e+00 1.000000e+00 2.300000e+01 0.000000e+00\n",
      "  1.000000e+00 8.315830e+01 0.000000e+00 1.000000e+00 1.000000e+00\n",
      "  0.000000e+00]\n",
      " [1.264000e+03 0.000000e+00 1.000000e+00 4.900000e+01 0.000000e+00\n",
      "  0.000000e+00 0.000000e+00 1.000000e+00 0.000000e+00 0.000000e+00\n",
      "  1.000000e+00]\n",
      " [9.600000e+02 0.000000e+00 1.000000e+00 3.100000e+01 0.000000e+00\n",
      "  0.000000e+00 2.853750e+01 1.000000e+00 0.000000e+00 1.000000e+00\n",
      "  0.000000e+00]\n",
      " [1.296000e+03 0.000000e+00 1.000000e+00 4.300000e+01 1.000000e+00\n",
      "  0.000000e+00 2.772080e+01 1.000000e+00 0.000000e+00 1.000000e+00\n",
      "  0.000000e+00]\n",
      " [9.690000e+02 1.000000e+00 1.000000e+00 5.500000e+01 2.000000e+00\n",
      "  0.000000e+00 2.570000e+01 0.000000e+00 1.000000e+00 0.000000e+00\n",
      "  1.000000e+00]\n",
      " [1.014000e+03 1.000000e+00 1.000000e+00 3.500000e+01 1.000000e+00\n",
      "  0.000000e+00 5.775000e+01 0.000000e+00 1.000000e+00 1.000000e+00\n",
      "  0.000000e+00]\n",
      " [1.128000e+03 0.000000e+00 1.000000e+00 6.400000e+01 1.000000e+00\n",
      "  0.000000e+00 7.525000e+01 1.000000e+00 0.000000e+00 1.000000e+00\n",
      "  0.000000e+00]\n",
      " [1.299000e+03 0.000000e+00 1.000000e+00 5.000000e+01 1.000000e+00\n",
      "  1.000000e+00 2.115000e+02 1.000000e+00 0.000000e+00 1.000000e+00\n",
      "  0.000000e+00]\n",
      " [1.303000e+03 1.000000e+00 1.000000e+00 3.700000e+01 1.000000e+00\n",
      "  0.000000e+00 9.000000e+01 0.000000e+00 1.000000e+00 0.000000e+00\n",
      "  0.000000e+00]\n",
      " [9.730000e+02 0.000000e+00 1.000000e+00 6.700000e+01 1.000000e+00\n",
      "  0.000000e+00 2.217792e+02 1.000000e+00 0.000000e+00 0.000000e+00\n",
      "  1.000000e+00]\n",
      " [1.292000e+03 1.000000e+00 1.000000e+00 3.000000e+01 0.000000e+00\n",
      "  0.000000e+00 1.648667e+02 0.000000e+00 1.000000e+00 0.000000e+00\n",
      "  1.000000e+00]\n",
      " [1.004000e+03 1.000000e+00 1.000000e+00 3.600000e+01 0.000000e+00\n",
      "  0.000000e+00 3.167920e+01 0.000000e+00 1.000000e+00 1.000000e+00\n",
      "  0.000000e+00]\n",
      " [1.070000e+03 1.000000e+00 2.000000e+00 3.600000e+01 0.000000e+00\n",
      "  3.000000e+00 3.900000e+01 0.000000e+00 1.000000e+00 0.000000e+00\n",
      "  1.000000e+00]\n",
      " [1.110000e+03 1.000000e+00 1.000000e+00 5.000000e+01 1.000000e+00\n",
      "  1.000000e+00 2.115000e+02 0.000000e+00 1.000000e+00 1.000000e+00\n",
      "  0.000000e+00]\n",
      " [1.073000e+03 0.000000e+00 1.000000e+00 3.700000e+01 1.000000e+00\n",
      "  1.000000e+00 8.315830e+01 1.000000e+00 0.000000e+00 1.000000e+00\n",
      "  0.000000e+00]\n",
      " [1.218000e+03 1.000000e+00 2.000000e+00 1.200000e+01 2.000000e+00\n",
      "  1.000000e+00 3.900000e+01 0.000000e+00 1.000000e+00 0.000000e+00\n",
      "  1.000000e+00]\n",
      " [1.197000e+03 1.000000e+00 1.000000e+00 6.400000e+01 1.000000e+00\n",
      "  1.000000e+00 2.655000e+01 0.000000e+00 1.000000e+00 0.000000e+00\n",
      "  1.000000e+00]\n",
      " [9.510000e+02 1.000000e+00 1.000000e+00 3.600000e+01 0.000000e+00\n",
      "  0.000000e+00 2.623750e+02 0.000000e+00 1.000000e+00 1.000000e+00\n",
      "  0.000000e+00]\n",
      " [1.247000e+03 0.000000e+00 1.000000e+00 5.000000e+01 0.000000e+00\n",
      "  0.000000e+00 2.600000e+01 1.000000e+00 0.000000e+00 0.000000e+00\n",
      "  1.000000e+00]\n",
      " [1.069000e+03 0.000000e+00 1.000000e+00 5.400000e+01 1.000000e+00\n",
      "  0.000000e+00 5.544170e+01 1.000000e+00 0.000000e+00 1.000000e+00\n",
      "  0.000000e+00]\n",
      " [9.840000e+02 1.000000e+00 1.000000e+00 2.700000e+01 1.000000e+00\n",
      "  2.000000e+00 5.200000e+01 0.000000e+00 1.000000e+00 0.000000e+00\n",
      "  1.000000e+00]\n",
      " [9.420000e+02 0.000000e+00 1.000000e+00 2.400000e+01 1.000000e+00\n",
      "  0.000000e+00 6.000000e+01 1.000000e+00 0.000000e+00 0.000000e+00\n",
      "  1.000000e+00]\n",
      " [1.297000e+03 0.000000e+00 2.000000e+00 2.000000e+01 0.000000e+00\n",
      "  0.000000e+00 1.386250e+01 1.000000e+00 0.000000e+00 1.000000e+00\n",
      "  0.000000e+00]\n",
      " [1.227000e+03 0.000000e+00 1.000000e+00 3.000000e+01 0.000000e+00\n",
      "  0.000000e+00 2.600000e+01 1.000000e+00 0.000000e+00 0.000000e+00\n",
      "  1.000000e+00]\n",
      " [1.214000e+03 0.000000e+00 2.000000e+00 2.600000e+01 0.000000e+00\n",
      "  0.000000e+00 1.300000e+01 1.000000e+00 0.000000e+00 0.000000e+00\n",
      "  1.000000e+00]\n",
      " [1.114000e+03 1.000000e+00 2.000000e+00 2.200000e+01 0.000000e+00\n",
      "  0.000000e+00 1.050000e+01 0.000000e+00 1.000000e+00 0.000000e+00\n",
      "  1.000000e+00]\n",
      " [1.100000e+03 1.000000e+00 1.000000e+00 3.300000e+01 0.000000e+00\n",
      "  0.000000e+00 2.772080e+01 0.000000e+00 1.000000e+00 1.000000e+00\n",
      "  0.000000e+00]]\n"
     ]
    }
   ],
   "source": [
    "print(x_train)"
   ]
  },
  {
   "cell_type": "code",
   "execution_count": 81,
   "id": "1c12641d",
   "metadata": {},
   "outputs": [
    {
     "name": "stdout",
     "output_type": "stream",
     "text": [
      "[0 0 0 0 0 0 0 0 0 0 0 0 0 0 0 0 0 0 0 0 0 0 0 0 0 0 0 0 0 0 0 0 0 0 0 0 0\n",
      " 0 0 0 0 0 0 0 0 0 0 0 0 0 0 0 0 0 1 0 0 0 0 0 0 0 0 0 0 0 0 0 0 0 0 0 0]\n"
     ]
    }
   ],
   "source": [
    "print(y_train)"
   ]
  },
  {
   "cell_type": "code",
   "execution_count": 82,
   "id": "223daf21",
   "metadata": {},
   "outputs": [
    {
     "name": "stdout",
     "output_type": "stream",
     "text": [
      "[[9.160000e+02 1.000000e+00 1.000000e+00 4.800000e+01 1.000000e+00\n",
      "  3.000000e+00 2.623750e+02 0.000000e+00 1.000000e+00 1.000000e+00\n",
      "  0.000000e+00]\n",
      " [9.560000e+02 0.000000e+00 1.000000e+00 1.300000e+01 2.000000e+00\n",
      "  2.000000e+00 2.623750e+02 1.000000e+00 0.000000e+00 1.000000e+00\n",
      "  0.000000e+00]\n",
      " [1.144000e+03 0.000000e+00 1.000000e+00 2.700000e+01 1.000000e+00\n",
      "  0.000000e+00 1.367792e+02 1.000000e+00 0.000000e+00 1.000000e+00\n",
      "  0.000000e+00]\n",
      " [1.076000e+03 1.000000e+00 1.000000e+00 2.700000e+01 1.000000e+00\n",
      "  1.000000e+00 2.475208e+02 0.000000e+00 1.000000e+00 1.000000e+00\n",
      "  0.000000e+00]\n",
      " [1.223000e+03 0.000000e+00 1.000000e+00 3.900000e+01 0.000000e+00\n",
      "  0.000000e+00 2.970000e+01 1.000000e+00 0.000000e+00 1.000000e+00\n",
      "  0.000000e+00]\n",
      " [1.023000e+03 0.000000e+00 1.000000e+00 5.300000e+01 0.000000e+00\n",
      "  0.000000e+00 2.850000e+01 1.000000e+00 0.000000e+00 1.000000e+00\n",
      "  0.000000e+00]\n",
      " [1.107000e+03 0.000000e+00 1.000000e+00 4.200000e+01 0.000000e+00\n",
      "  0.000000e+00 4.250000e+01 1.000000e+00 0.000000e+00 0.000000e+00\n",
      "  1.000000e+00]\n",
      " [1.094000e+03 0.000000e+00 1.000000e+00 4.700000e+01 1.000000e+00\n",
      "  0.000000e+00 2.275250e+02 1.000000e+00 0.000000e+00 1.000000e+00\n",
      "  0.000000e+00]\n",
      " [1.270000e+03 0.000000e+00 1.000000e+00 5.500000e+01 0.000000e+00\n",
      "  0.000000e+00 5.000000e+01 1.000000e+00 0.000000e+00 0.000000e+00\n",
      "  1.000000e+00]\n",
      " [1.306000e+03 1.000000e+00 1.000000e+00 3.900000e+01 0.000000e+00\n",
      "  0.000000e+00 1.089000e+02 0.000000e+00 1.000000e+00 1.000000e+00\n",
      "  0.000000e+00]\n",
      " [9.380000e+02 0.000000e+00 1.000000e+00 4.500000e+01 0.000000e+00\n",
      "  0.000000e+00 2.970000e+01 1.000000e+00 0.000000e+00 1.000000e+00\n",
      "  0.000000e+00]\n",
      " [1.006000e+03 1.000000e+00 1.000000e+00 6.300000e+01 1.000000e+00\n",
      "  0.000000e+00 2.217792e+02 0.000000e+00 1.000000e+00 0.000000e+00\n",
      "  1.000000e+00]\n",
      " [1.048000e+03 1.000000e+00 1.000000e+00 2.900000e+01 0.000000e+00\n",
      "  0.000000e+00 2.217792e+02 0.000000e+00 1.000000e+00 0.000000e+00\n",
      "  1.000000e+00]\n",
      " [1.213000e+03 0.000000e+00 3.000000e+00 2.500000e+01 0.000000e+00\n",
      "  0.000000e+00 7.229200e+00 1.000000e+00 0.000000e+00 1.000000e+00\n",
      "  0.000000e+00]]\n"
     ]
    }
   ],
   "source": [
    "print(x_test)"
   ]
  },
  {
   "cell_type": "code",
   "execution_count": 83,
   "id": "4d86ad2e",
   "metadata": {},
   "outputs": [
    {
     "name": "stdout",
     "output_type": "stream",
     "text": [
      "[0 0 0 0 0 0 0 0 0 0 0 0 0 0]\n"
     ]
    }
   ],
   "source": [
    "print(y_test)"
   ]
  },
  {
   "cell_type": "code",
   "execution_count": 84,
   "id": "84526a83",
   "metadata": {},
   "outputs": [
    {
     "name": "stderr",
     "output_type": "stream",
     "text": [
      "C:\\Users\\HP\\AppData\\Local\\Temp\\ipykernel_1144\\3831744837.py:1: FutureWarning: In a future version of pandas all arguments of DataFrame.drop except for the argument 'labels' will be keyword-only.\n",
      "  x_train=td_train.drop(['Survived'],1)\n",
      "C:\\Users\\HP\\AppData\\Local\\Temp\\ipykernel_1144\\3831744837.py:3: FutureWarning: In a future version of pandas all arguments of DataFrame.drop except for the argument 'labels' will be keyword-only.\n",
      "  x_test=td_train.drop(['Survived'],1)\n"
     ]
    }
   ],
   "source": [
    "x_train=td_train.drop(['Survived'],1)\n",
    "y_train=td_train['Survived']\n",
    "x_test=td_train.drop(['Survived'],1)\n",
    "y_test=td_train['Survived']"
   ]
  },
  {
   "cell_type": "code",
   "execution_count": 85,
   "id": "f448ff68",
   "metadata": {},
   "outputs": [],
   "source": [
    "from sklearn.preprocessing import StandardScaler\n",
    "sc = StandardScaler()\n",
    "x_train = sc.fit_transform(x_train)\n",
    "x_test = sc.transform(x_test)"
   ]
  },
  {
   "cell_type": "code",
   "execution_count": 86,
   "id": "dacb3a2b",
   "metadata": {},
   "outputs": [
    {
     "data": {
      "text/plain": [
       "array([[ 0.55753027, -0.29138576, -0.94242252,  0.7309634 , -0.57294631,\n",
       "         0.70047452, -1.01459931,  1.01459931,  0.85146932, -0.82639387,\n",
       "        -0.12126781],\n",
       "       [ 1.38744731, -0.29138576, -0.5994523 , -1.00822538, -0.57294631,\n",
       "         0.66822614, -1.01459931,  1.01459931,  0.85146932, -0.82639387,\n",
       "        -0.12126781],\n",
       "       [-1.24481481,  4.17652921, -1.01101656, -1.00822538, -0.57294631,\n",
       "        -1.12657308,  0.98561076, -0.98561076, -1.17444044,  1.21007674,\n",
       "        -0.12126781],\n",
       "       [-0.62447278, -0.29138576,  0.90961667, -1.00822538, -0.57294631,\n",
       "        -0.83156666,  0.98561076, -0.98561076,  0.85146932, -0.82639387,\n",
       "        -0.12126781],\n",
       "       [-0.19693976, -0.29138576, -1.49117487,  0.7309634 , -0.57294631,\n",
       "        -0.48350154, -1.01459931,  1.01459931, -1.17444044,  1.21007674,\n",
       "        -0.12126781],\n",
       "       [-0.73345179, -0.29138576, -0.25648208, -1.00822538, -0.57294631,\n",
       "        -0.17021888,  0.98561076, -0.98561076,  0.85146932, -0.82639387,\n",
       "        -0.12126781],\n",
       "       [-1.30349581, -0.29138576, -1.07961061,  0.7309634 , -0.57294631,\n",
       "        -0.38587352,  0.98561076, -0.98561076, -1.17444044,  1.21007674,\n",
       "        -0.12126781],\n",
       "       [ 1.05212729, -0.29138576, -0.05069995, -1.00822538, -0.57294631,\n",
       "        -0.81458787,  0.98561076, -0.98561076,  0.85146932, -0.82639387,\n",
       "        -0.12126781],\n",
       "       [-1.43762382, -0.29138576, -0.66804634,  0.7309634 , -0.57294631,\n",
       "        -0.41770874,  0.98561076, -0.98561076,  0.85146932, -0.82639387,\n",
       "        -0.12126781],\n",
       "       [-0.20532276, -0.29138576, -0.18788803,  0.7309634 ,  0.52520079,\n",
       "        -0.05820699,  0.98561076, -0.98561076,  0.85146932, -0.82639387,\n",
       "        -0.12126781],\n",
       "       [-0.53225978, -0.29138576,  1.45836903,  0.7309634 ,  2.72149499,\n",
       "         2.47752807,  0.98561076, -0.98561076,  0.85146932, -0.82639387,\n",
       "        -0.12126781],\n",
       "       [-0.33106777, -0.29138576,  0.56664645, -1.00822538, -0.57294631,\n",
       "        -0.52034834,  0.98561076, -0.98561076,  0.85146932, -0.82639387,\n",
       "        -0.12126781],\n",
       "       [ 0.07969925, -0.29138576,  0.15508219, -1.00822538, -0.57294631,\n",
       "        -0.63348082,  0.98561076, -0.98561076, -1.17444044,  1.21007674,\n",
       "        -0.12126781],\n",
       "       [ 0.02101825, -0.29138576, -0.46226421, -1.00822538, -0.57294631,\n",
       "        -0.84259155, -1.01459931,  1.01459931,  0.85146932, -0.82639387,\n",
       "        -0.12126781],\n",
       "       [-1.1106868 , -0.29138576, -0.77093741, -1.00822538, -0.57294631,\n",
       "        -0.84259155,  0.98561076, -0.98561076,  0.85146932, -0.82639387,\n",
       "        -0.12126781],\n",
       "       [-0.07957776, -0.29138576, -2.3143034 , -1.00822538,  1.62334789,\n",
       "         0.66822614,  0.98561076, -0.98561076,  0.85146932, -0.82639387,\n",
       "        -0.12126781],\n",
       "       [-0.39813177, -0.29138576,  0.15508219, -1.00822538, -0.57294631,\n",
       "        -0.85915719,  0.98561076, -0.98561076, -1.17444044,  1.21007674,\n",
       "        -0.12126781],\n",
       "       [-1.33702781, -0.29138576,  0.36086432, -1.00822538, -0.57294631,\n",
       "        -0.81458787,  0.98561076, -0.98561076,  0.85146932, -0.82639387,\n",
       "        -0.12126781],\n",
       "       [ 0.25574226, -0.29138576,  1.66415116,  0.7309634 , -0.57294631,\n",
       "        -0.17010144,  0.98561076, -0.98561076,  0.85146932, -0.82639387,\n",
       "        -0.12126781],\n",
       "       [ 0.90961629, -0.29138576,  1.04680476, -1.00822538, -0.57294631,\n",
       "         0.68426119, -1.01459931,  1.01459931,  0.85146932, -0.82639387,\n",
       "        -0.12126781],\n",
       "       [-1.0771548 , -0.29138576,  1.04680476,  2.47015219, -0.57294631,\n",
       "        -0.87118383, -1.01459931,  1.01459931, -1.17444044,  1.21007674,\n",
       "        -0.12126781],\n",
       "       [ 1.32876631, -0.29138576, -1.01101656,  0.7309634 , -0.57294631,\n",
       "        -0.45036885, -1.01459931,  1.01459931,  0.85146932, -0.82639387,\n",
       "        -0.12126781],\n",
       "       [-0.78374979, -0.29138576, -0.25648208, -1.00822538, -0.57294631,\n",
       "        -0.7865842 , -1.01459931,  1.01459931,  0.85146932, -0.82639387,\n",
       "        -0.12126781],\n",
       "       [ 0.13838025,  1.94257172, -1.2167987 , -1.00822538, -0.57294631,\n",
       "        -1.08624846, -1.01459931,  1.01459931, -1.17444044,  1.21007674,\n",
       "        -0.12126781],\n",
       "       [-1.18613381, -0.29138576, -1.83414509,  2.47015219,  1.62334789,\n",
       "         2.47752807,  0.98561076, -0.98561076,  0.85146932, -0.82639387,\n",
       "        -0.12126781],\n",
       "       [-0.80889879,  1.94257172, -1.45687785, -1.00822538, -0.57294631,\n",
       "        -1.05087599,  0.98561076, -0.98561076, -1.17444044,  1.21007674,\n",
       "        -0.12126781],\n",
       "       [-1.50468782, -0.29138576, -1.2167987 , -1.00822538,  0.52520079,\n",
       "        -0.35786984, -1.01459931,  1.01459931,  0.85146932, -0.82639387,\n",
       "        -0.12126781],\n",
       "       [-1.1023038 , -0.29138576, -0.32507612, -1.00822538, -0.57294631,\n",
       "         1.75769827, -1.01459931,  1.01459931,  0.85146932, -0.82639387,\n",
       "        -0.12126781],\n",
       "       [-0.22208876, -0.29138576,  1.66415116, -1.00822538,  1.62334789,\n",
       "        -0.05820699, -1.01459931,  1.01459931,  0.85146932, -0.82639387,\n",
       "        -0.12126781],\n",
       "       [-1.32026181, -0.29138576,  1.38977498, -1.00822538, -0.57294631,\n",
       "        -0.15536244, -1.01459931,  1.01459931,  0.85146932, -0.82639387,\n",
       "        -0.12126781],\n",
       "       [ 1.2114043 , -0.29138576,  0.36086432, -1.00822538,  0.52520079,\n",
       "        -0.33835697, -1.01459931,  1.01459931,  0.85146932, -0.82639387,\n",
       "        -0.12126781],\n",
       "       [-1.35379382, -0.29138576,  0.36086432,  0.7309634 , -0.57294631,\n",
       "        -0.49122406, -1.01459931,  1.01459931, -1.17444044,  1.21007674,\n",
       "        -0.12126781],\n",
       "       [ 0.68327528, -0.29138576, -1.07961061,  0.7309634 , -0.57294631,\n",
       "        -0.07082223,  0.98561076, -0.98561076, -1.17444044,  1.21007674,\n",
       "        -0.12126781],\n",
       "       [-0.23885476, -0.29138576,  0.97821072,  0.7309634 , -0.57294631,\n",
       "        -0.45036885,  0.98561076, -0.98561076,  0.85146932, -0.82639387,\n",
       "        -0.12126781],\n",
       "       [ 1.55510732, -0.29138576,  0.77242858, -1.00822538,  0.52520079,\n",
       "        -0.67734268, -1.01459931,  1.01459931, -1.17444044,  1.21007674,\n",
       "        -0.12126781],\n",
       "       [ 1.74791633, -0.29138576, -0.05069995, -1.00822538, -0.57294631,\n",
       "         0.30601203, -1.01459931,  1.01459931,  0.85146932, -0.82639387,\n",
       "        -0.12126781],\n",
       "       [ 0.54076427, -0.29138576,  0.42945836, -1.00822538, -0.57294631,\n",
       "        -0.17021888,  0.98561076, -0.98561076,  0.85146932, -0.82639387,\n",
       "        -0.12126781],\n",
       "       [-0.02927975, -0.29138576,  0.49805241,  0.7309634 , -0.57294631,\n",
       "         1.98443582,  0.98561076, -0.98561076,  0.85146932, -0.82639387,\n",
       "        -0.12126781],\n",
       "       [ 0.28089126, -0.29138576,  0.56664645,  0.7309634 , -0.57294631,\n",
       "         0.27099328, -1.01459931,  1.01459931,  0.85146932, -0.82639387,\n",
       "        -0.12126781],\n",
       "       [ 0.10484825, -0.29138576,  0.70383454,  0.7309634 ,  0.52520079,\n",
       "         1.75769827, -1.01459931,  1.01459931,  0.85146932, -0.82639387,\n",
       "        -0.12126781],\n",
       "       [ 1.72276732, -0.29138576, -0.18788803,  0.7309634 , -0.57294631,\n",
       "         0.03859614, -1.01459931,  1.01459931, -1.17444044, -0.82639387,\n",
       "         8.24621125],\n",
       "       [-1.14421881, -0.29138576,  1.38977498,  0.7309634 ,  3.81964208,\n",
       "         2.48637119, -1.01459931,  1.01459931, -1.17444044,  1.21007674,\n",
       "        -0.12126781],\n",
       "       [ 1.2533193 , -0.29138576,  0.70383454, -1.00822538, -0.57294631,\n",
       "        -0.86693913,  0.98561076, -0.98561076, -1.17444044,  1.21007674,\n",
       "        -0.12126781],\n",
       "       [-0.74183479,  4.17652921, -2.65727362,  0.7309634 ,  0.52520079,\n",
       "        -0.99852473, -1.01459931,  1.01459931, -1.17444044,  1.21007674,\n",
       "        -0.12126781],\n",
       "       [-0.18017376, -0.29138576, -0.87382848,  0.7309634 ,  0.52520079,\n",
       "         2.26735616, -1.01459931,  1.01459931,  0.85146932, -0.82639387,\n",
       "        -0.12126781],\n",
       "       [ 0.92638229, -0.29138576,  1.18399285,  0.7309634 , -0.57294631,\n",
       "         0.83830831,  0.98561076, -0.98561076,  0.85146932, -0.82639387,\n",
       "        -0.12126781],\n",
       "       [ 0.83416928, -0.29138576,  1.66415116,  0.7309634 ,  0.52520079,\n",
       "        -0.85915719, -1.01459931,  1.01459931, -1.17444044,  1.21007674,\n",
       "        -0.12126781],\n",
       "       [ 0.23897626, -0.29138576, -0.05069995,  0.7309634 , -0.57294631,\n",
       "        -0.22622623,  0.98561076, -0.98561076,  0.85146932, -0.82639387,\n",
       "        -0.12126781],\n",
       "       [ 1.54672432, -0.29138576, -1.14820465, -1.00822538, -0.57294631,\n",
       "         0.08811761,  0.98561076, -0.98561076, -1.17444044,  1.21007674,\n",
       "        -0.12126781],\n",
       "       [ 0.73357328, -0.29138576,  0.90961667,  0.7309634 ,  0.52520079,\n",
       "        -0.07660068,  0.98561076, -0.98561076, -1.17444044,  1.21007674,\n",
       "        -0.12126781],\n",
       "       [-0.46519577, -0.29138576, -1.14820465, -1.00822538,  0.52520079,\n",
       "        -0.05820699, -1.01459931,  1.01459931,  0.85146932, -0.82639387,\n",
       "        -0.12126781],\n",
       "       [ 1.66408632, -0.29138576,  0.22367623,  0.7309634 , -0.57294631,\n",
       "        -0.84259155,  0.98561076, -0.98561076,  0.85146932, -0.82639387,\n",
       "        -0.12126781],\n",
       "       [ 0.84255228, -0.29138576, -0.66804634,  0.7309634 ,  1.62334789,\n",
       "         0.9094664 ,  0.98561076, -0.98561076, -1.17444044,  1.21007674,\n",
       "        -0.12126781],\n",
       "       [ 0.96829729,  4.17652921, -1.01101656, -1.00822538, -0.57294631,\n",
       "        -1.13252697,  0.98561076, -0.98561076,  0.85146932, -0.82639387,\n",
       "        -0.12126781],\n",
       "       [ 1.41259631, -0.29138576,  0.97821072,  0.7309634 ,  0.52520079,\n",
       "        -0.07660068, -1.01459931,  1.01459931, -1.17444044,  1.21007674,\n",
       "        -0.12126781],\n",
       "       [-0.23047176,  1.94257172, -0.25648208, -1.00822538,  2.72149499,\n",
       "        -0.68300228, -1.01459931,  1.01459931, -1.17444044,  1.21007674,\n",
       "        -0.12126781],\n",
       "       [-0.69991979, -0.29138576, -0.32507612,  0.7309634 , -0.57294631,\n",
       "        -0.41770874, -1.01459931,  1.01459931,  0.85146932, -0.82639387,\n",
       "        -0.12126781],\n",
       "       [-1.60528383, -0.29138576,  0.49805241,  0.7309634 , -0.57294631,\n",
       "        -0.36924845, -1.01459931,  1.01459931, -1.17444044,  1.21007674,\n",
       "        -0.12126781],\n",
       "       [ 0.33118926, -0.29138576,  0.08648814,  0.7309634 , -0.57294631,\n",
       "        -0.50101091,  0.98561076, -0.98561076, -1.17444044,  1.21007674,\n",
       "        -0.12126781],\n",
       "       [-0.9514098 , -0.29138576, -0.87382848,  0.7309634 ,  1.62334789,\n",
       "        -0.49906543, -1.01459931,  1.01459931, -1.17444044,  1.21007674,\n",
       "        -0.12126781],\n",
       "       [-1.52145382, -0.29138576,  0.56664645,  0.7309634 ,  2.72149499,\n",
       "         2.47752807, -1.01459931,  1.01459931,  0.85146932, -0.82639387,\n",
       "        -0.12126781],\n",
       "       [-0.88434579, -0.29138576,  0.22367623,  0.7309634 , -0.57294631,\n",
       "        -0.45036885, -1.01459931,  1.01459931,  0.85146932, -0.82639387,\n",
       "        -0.12126781],\n",
       "       [ 1.63055432, -0.29138576, -0.66804634, -1.00822538, -0.57294631,\n",
       "         1.09788424, -1.01459931,  1.01459931, -1.17444044,  1.21007674,\n",
       "        -0.12126781],\n",
       "       [ 1.39583031, -0.29138576,  0.6352405 , -1.00822538, -0.57294631,\n",
       "        -1.23481284,  0.98561076, -0.98561076, -1.17444044,  1.21007674,\n",
       "        -0.12126781],\n",
       "       [-1.0436228 , -0.29138576,  1.86993329,  0.7309634 , -0.57294631,\n",
       "         1.90313856,  0.98561076, -0.98561076, -1.17444044,  1.21007674,\n",
       "        -0.12126781],\n",
       "       [ 0.85931829, -0.29138576,  1.04680476,  0.7309634 ,  0.52520079,\n",
       "         0.08811761,  0.98561076, -0.98561076, -1.17444044,  1.21007674,\n",
       "        -0.12126781],\n",
       "       [ 1.2617023 , -0.29138576,  1.32118094,  2.47015219, -0.57294631,\n",
       "        -0.50643422, -1.01459931,  1.01459931, -1.17444044,  1.21007674,\n",
       "        -0.12126781],\n",
       "       [-1.15260181, -0.29138576, -0.5994523 , -1.00822538, -0.57294631,\n",
       "        -0.83103607,  0.98561076, -0.98561076,  0.85146932, -0.82639387,\n",
       "        -0.12126781],\n",
       "       [ 0.30604026, -0.29138576,  0.36086432,  0.7309634 ,  0.52520079,\n",
       "         0.66822614,  0.98561076, -0.98561076,  0.85146932, -0.82639387,\n",
       "        -0.12126781]])"
      ]
     },
     "execution_count": 86,
     "metadata": {},
     "output_type": "execute_result"
    }
   ],
   "source": [
    "x_train"
   ]
  },
  {
   "cell_type": "code",
   "execution_count": 87,
   "id": "65473ea4",
   "metadata": {},
   "outputs": [
    {
     "data": {
      "text/plain": [
       "array([[ 0.55753027, -0.29138576, -0.94242252,  0.7309634 , -0.57294631,\n",
       "         0.70047452, -1.01459931,  1.01459931,  0.85146932, -0.82639387,\n",
       "        -0.12126781],\n",
       "       [ 1.38744731, -0.29138576, -0.5994523 , -1.00822538, -0.57294631,\n",
       "         0.66822614, -1.01459931,  1.01459931,  0.85146932, -0.82639387,\n",
       "        -0.12126781],\n",
       "       [-1.24481481,  4.17652921, -1.01101656, -1.00822538, -0.57294631,\n",
       "        -1.12657308,  0.98561076, -0.98561076, -1.17444044,  1.21007674,\n",
       "        -0.12126781],\n",
       "       [-0.62447278, -0.29138576,  0.90961667, -1.00822538, -0.57294631,\n",
       "        -0.83156666,  0.98561076, -0.98561076,  0.85146932, -0.82639387,\n",
       "        -0.12126781],\n",
       "       [-0.19693976, -0.29138576, -1.49117487,  0.7309634 , -0.57294631,\n",
       "        -0.48350154, -1.01459931,  1.01459931, -1.17444044,  1.21007674,\n",
       "        -0.12126781],\n",
       "       [-0.73345179, -0.29138576, -0.25648208, -1.00822538, -0.57294631,\n",
       "        -0.17021888,  0.98561076, -0.98561076,  0.85146932, -0.82639387,\n",
       "        -0.12126781],\n",
       "       [-1.30349581, -0.29138576, -1.07961061,  0.7309634 , -0.57294631,\n",
       "        -0.38587352,  0.98561076, -0.98561076, -1.17444044,  1.21007674,\n",
       "        -0.12126781],\n",
       "       [ 1.05212729, -0.29138576, -0.05069995, -1.00822538, -0.57294631,\n",
       "        -0.81458787,  0.98561076, -0.98561076,  0.85146932, -0.82639387,\n",
       "        -0.12126781],\n",
       "       [-1.43762382, -0.29138576, -0.66804634,  0.7309634 , -0.57294631,\n",
       "        -0.41770874,  0.98561076, -0.98561076,  0.85146932, -0.82639387,\n",
       "        -0.12126781],\n",
       "       [-0.20532276, -0.29138576, -0.18788803,  0.7309634 ,  0.52520079,\n",
       "        -0.05820699,  0.98561076, -0.98561076,  0.85146932, -0.82639387,\n",
       "        -0.12126781],\n",
       "       [-0.53225978, -0.29138576,  1.45836903,  0.7309634 ,  2.72149499,\n",
       "         2.47752807,  0.98561076, -0.98561076,  0.85146932, -0.82639387,\n",
       "        -0.12126781],\n",
       "       [-0.33106777, -0.29138576,  0.56664645, -1.00822538, -0.57294631,\n",
       "        -0.52034834,  0.98561076, -0.98561076,  0.85146932, -0.82639387,\n",
       "        -0.12126781],\n",
       "       [ 0.07969925, -0.29138576,  0.15508219, -1.00822538, -0.57294631,\n",
       "        -0.63348082,  0.98561076, -0.98561076, -1.17444044,  1.21007674,\n",
       "        -0.12126781],\n",
       "       [ 0.02101825, -0.29138576, -0.46226421, -1.00822538, -0.57294631,\n",
       "        -0.84259155, -1.01459931,  1.01459931,  0.85146932, -0.82639387,\n",
       "        -0.12126781],\n",
       "       [-1.1106868 , -0.29138576, -0.77093741, -1.00822538, -0.57294631,\n",
       "        -0.84259155,  0.98561076, -0.98561076,  0.85146932, -0.82639387,\n",
       "        -0.12126781],\n",
       "       [-0.07957776, -0.29138576, -2.3143034 , -1.00822538,  1.62334789,\n",
       "         0.66822614,  0.98561076, -0.98561076,  0.85146932, -0.82639387,\n",
       "        -0.12126781],\n",
       "       [-0.39813177, -0.29138576,  0.15508219, -1.00822538, -0.57294631,\n",
       "        -0.85915719,  0.98561076, -0.98561076, -1.17444044,  1.21007674,\n",
       "        -0.12126781],\n",
       "       [-1.33702781, -0.29138576,  0.36086432, -1.00822538, -0.57294631,\n",
       "        -0.81458787,  0.98561076, -0.98561076,  0.85146932, -0.82639387,\n",
       "        -0.12126781],\n",
       "       [ 0.25574226, -0.29138576,  1.66415116,  0.7309634 , -0.57294631,\n",
       "        -0.17010144,  0.98561076, -0.98561076,  0.85146932, -0.82639387,\n",
       "        -0.12126781],\n",
       "       [ 0.90961629, -0.29138576,  1.04680476, -1.00822538, -0.57294631,\n",
       "         0.68426119, -1.01459931,  1.01459931,  0.85146932, -0.82639387,\n",
       "        -0.12126781],\n",
       "       [-1.0771548 , -0.29138576,  1.04680476,  2.47015219, -0.57294631,\n",
       "        -0.87118383, -1.01459931,  1.01459931, -1.17444044,  1.21007674,\n",
       "        -0.12126781],\n",
       "       [ 1.32876631, -0.29138576, -1.01101656,  0.7309634 , -0.57294631,\n",
       "        -0.45036885, -1.01459931,  1.01459931,  0.85146932, -0.82639387,\n",
       "        -0.12126781],\n",
       "       [-0.78374979, -0.29138576, -0.25648208, -1.00822538, -0.57294631,\n",
       "        -0.7865842 , -1.01459931,  1.01459931,  0.85146932, -0.82639387,\n",
       "        -0.12126781],\n",
       "       [ 0.13838025,  1.94257172, -1.2167987 , -1.00822538, -0.57294631,\n",
       "        -1.08624846, -1.01459931,  1.01459931, -1.17444044,  1.21007674,\n",
       "        -0.12126781],\n",
       "       [-1.18613381, -0.29138576, -1.83414509,  2.47015219,  1.62334789,\n",
       "         2.47752807,  0.98561076, -0.98561076,  0.85146932, -0.82639387,\n",
       "        -0.12126781],\n",
       "       [-0.80889879,  1.94257172, -1.45687785, -1.00822538, -0.57294631,\n",
       "        -1.05087599,  0.98561076, -0.98561076, -1.17444044,  1.21007674,\n",
       "        -0.12126781],\n",
       "       [-1.50468782, -0.29138576, -1.2167987 , -1.00822538,  0.52520079,\n",
       "        -0.35786984, -1.01459931,  1.01459931,  0.85146932, -0.82639387,\n",
       "        -0.12126781],\n",
       "       [-1.1023038 , -0.29138576, -0.32507612, -1.00822538, -0.57294631,\n",
       "         1.75769827, -1.01459931,  1.01459931,  0.85146932, -0.82639387,\n",
       "        -0.12126781],\n",
       "       [-0.22208876, -0.29138576,  1.66415116, -1.00822538,  1.62334789,\n",
       "        -0.05820699, -1.01459931,  1.01459931,  0.85146932, -0.82639387,\n",
       "        -0.12126781],\n",
       "       [-1.32026181, -0.29138576,  1.38977498, -1.00822538, -0.57294631,\n",
       "        -0.15536244, -1.01459931,  1.01459931,  0.85146932, -0.82639387,\n",
       "        -0.12126781],\n",
       "       [ 1.2114043 , -0.29138576,  0.36086432, -1.00822538,  0.52520079,\n",
       "        -0.33835697, -1.01459931,  1.01459931,  0.85146932, -0.82639387,\n",
       "        -0.12126781],\n",
       "       [-1.35379382, -0.29138576,  0.36086432,  0.7309634 , -0.57294631,\n",
       "        -0.49122406, -1.01459931,  1.01459931, -1.17444044,  1.21007674,\n",
       "        -0.12126781],\n",
       "       [ 0.68327528, -0.29138576, -1.07961061,  0.7309634 , -0.57294631,\n",
       "        -0.07082223,  0.98561076, -0.98561076, -1.17444044,  1.21007674,\n",
       "        -0.12126781],\n",
       "       [-0.23885476, -0.29138576,  0.97821072,  0.7309634 , -0.57294631,\n",
       "        -0.45036885,  0.98561076, -0.98561076,  0.85146932, -0.82639387,\n",
       "        -0.12126781],\n",
       "       [ 1.55510732, -0.29138576,  0.77242858, -1.00822538,  0.52520079,\n",
       "        -0.67734268, -1.01459931,  1.01459931, -1.17444044,  1.21007674,\n",
       "        -0.12126781],\n",
       "       [ 1.74791633, -0.29138576, -0.05069995, -1.00822538, -0.57294631,\n",
       "         0.30601203, -1.01459931,  1.01459931,  0.85146932, -0.82639387,\n",
       "        -0.12126781],\n",
       "       [ 0.54076427, -0.29138576,  0.42945836, -1.00822538, -0.57294631,\n",
       "        -0.17021888,  0.98561076, -0.98561076,  0.85146932, -0.82639387,\n",
       "        -0.12126781],\n",
       "       [-0.02927975, -0.29138576,  0.49805241,  0.7309634 , -0.57294631,\n",
       "         1.98443582,  0.98561076, -0.98561076,  0.85146932, -0.82639387,\n",
       "        -0.12126781],\n",
       "       [ 0.28089126, -0.29138576,  0.56664645,  0.7309634 , -0.57294631,\n",
       "         0.27099328, -1.01459931,  1.01459931,  0.85146932, -0.82639387,\n",
       "        -0.12126781],\n",
       "       [ 0.10484825, -0.29138576,  0.70383454,  0.7309634 ,  0.52520079,\n",
       "         1.75769827, -1.01459931,  1.01459931,  0.85146932, -0.82639387,\n",
       "        -0.12126781],\n",
       "       [ 1.72276732, -0.29138576, -0.18788803,  0.7309634 , -0.57294631,\n",
       "         0.03859614, -1.01459931,  1.01459931, -1.17444044, -0.82639387,\n",
       "         8.24621125],\n",
       "       [-1.14421881, -0.29138576,  1.38977498,  0.7309634 ,  3.81964208,\n",
       "         2.48637119, -1.01459931,  1.01459931, -1.17444044,  1.21007674,\n",
       "        -0.12126781],\n",
       "       [ 1.2533193 , -0.29138576,  0.70383454, -1.00822538, -0.57294631,\n",
       "        -0.86693913,  0.98561076, -0.98561076, -1.17444044,  1.21007674,\n",
       "        -0.12126781],\n",
       "       [-0.74183479,  4.17652921, -2.65727362,  0.7309634 ,  0.52520079,\n",
       "        -0.99852473, -1.01459931,  1.01459931, -1.17444044,  1.21007674,\n",
       "        -0.12126781],\n",
       "       [-0.18017376, -0.29138576, -0.87382848,  0.7309634 ,  0.52520079,\n",
       "         2.26735616, -1.01459931,  1.01459931,  0.85146932, -0.82639387,\n",
       "        -0.12126781],\n",
       "       [ 0.92638229, -0.29138576,  1.18399285,  0.7309634 , -0.57294631,\n",
       "         0.83830831,  0.98561076, -0.98561076,  0.85146932, -0.82639387,\n",
       "        -0.12126781],\n",
       "       [ 0.83416928, -0.29138576,  1.66415116,  0.7309634 ,  0.52520079,\n",
       "        -0.85915719, -1.01459931,  1.01459931, -1.17444044,  1.21007674,\n",
       "        -0.12126781],\n",
       "       [ 0.23897626, -0.29138576, -0.05069995,  0.7309634 , -0.57294631,\n",
       "        -0.22622623,  0.98561076, -0.98561076,  0.85146932, -0.82639387,\n",
       "        -0.12126781],\n",
       "       [ 1.54672432, -0.29138576, -1.14820465, -1.00822538, -0.57294631,\n",
       "         0.08811761,  0.98561076, -0.98561076, -1.17444044,  1.21007674,\n",
       "        -0.12126781],\n",
       "       [ 0.73357328, -0.29138576,  0.90961667,  0.7309634 ,  0.52520079,\n",
       "        -0.07660068,  0.98561076, -0.98561076, -1.17444044,  1.21007674,\n",
       "        -0.12126781],\n",
       "       [-0.46519577, -0.29138576, -1.14820465, -1.00822538,  0.52520079,\n",
       "        -0.05820699, -1.01459931,  1.01459931,  0.85146932, -0.82639387,\n",
       "        -0.12126781],\n",
       "       [ 1.66408632, -0.29138576,  0.22367623,  0.7309634 , -0.57294631,\n",
       "        -0.84259155,  0.98561076, -0.98561076,  0.85146932, -0.82639387,\n",
       "        -0.12126781],\n",
       "       [ 0.84255228, -0.29138576, -0.66804634,  0.7309634 ,  1.62334789,\n",
       "         0.9094664 ,  0.98561076, -0.98561076, -1.17444044,  1.21007674,\n",
       "        -0.12126781],\n",
       "       [ 0.96829729,  4.17652921, -1.01101656, -1.00822538, -0.57294631,\n",
       "        -1.13252697,  0.98561076, -0.98561076,  0.85146932, -0.82639387,\n",
       "        -0.12126781],\n",
       "       [ 1.41259631, -0.29138576,  0.97821072,  0.7309634 ,  0.52520079,\n",
       "        -0.07660068, -1.01459931,  1.01459931, -1.17444044,  1.21007674,\n",
       "        -0.12126781],\n",
       "       [-0.23047176,  1.94257172, -0.25648208, -1.00822538,  2.72149499,\n",
       "        -0.68300228, -1.01459931,  1.01459931, -1.17444044,  1.21007674,\n",
       "        -0.12126781],\n",
       "       [-0.69991979, -0.29138576, -0.32507612,  0.7309634 , -0.57294631,\n",
       "        -0.41770874, -1.01459931,  1.01459931,  0.85146932, -0.82639387,\n",
       "        -0.12126781],\n",
       "       [-1.60528383, -0.29138576,  0.49805241,  0.7309634 , -0.57294631,\n",
       "        -0.36924845, -1.01459931,  1.01459931, -1.17444044,  1.21007674,\n",
       "        -0.12126781],\n",
       "       [ 0.33118926, -0.29138576,  0.08648814,  0.7309634 , -0.57294631,\n",
       "        -0.50101091,  0.98561076, -0.98561076, -1.17444044,  1.21007674,\n",
       "        -0.12126781],\n",
       "       [-0.9514098 , -0.29138576, -0.87382848,  0.7309634 ,  1.62334789,\n",
       "        -0.49906543, -1.01459931,  1.01459931, -1.17444044,  1.21007674,\n",
       "        -0.12126781],\n",
       "       [-1.52145382, -0.29138576,  0.56664645,  0.7309634 ,  2.72149499,\n",
       "         2.47752807, -1.01459931,  1.01459931,  0.85146932, -0.82639387,\n",
       "        -0.12126781],\n",
       "       [-0.88434579, -0.29138576,  0.22367623,  0.7309634 , -0.57294631,\n",
       "        -0.45036885, -1.01459931,  1.01459931,  0.85146932, -0.82639387,\n",
       "        -0.12126781],\n",
       "       [ 1.63055432, -0.29138576, -0.66804634, -1.00822538, -0.57294631,\n",
       "         1.09788424, -1.01459931,  1.01459931, -1.17444044,  1.21007674,\n",
       "        -0.12126781],\n",
       "       [ 1.39583031, -0.29138576,  0.6352405 , -1.00822538, -0.57294631,\n",
       "        -1.23481284,  0.98561076, -0.98561076, -1.17444044,  1.21007674,\n",
       "        -0.12126781],\n",
       "       [-1.0436228 , -0.29138576,  1.86993329,  0.7309634 , -0.57294631,\n",
       "         1.90313856,  0.98561076, -0.98561076, -1.17444044,  1.21007674,\n",
       "        -0.12126781],\n",
       "       [ 0.85931829, -0.29138576,  1.04680476,  0.7309634 ,  0.52520079,\n",
       "         0.08811761,  0.98561076, -0.98561076, -1.17444044,  1.21007674,\n",
       "        -0.12126781],\n",
       "       [ 1.2617023 , -0.29138576,  1.32118094,  2.47015219, -0.57294631,\n",
       "        -0.50643422, -1.01459931,  1.01459931, -1.17444044,  1.21007674,\n",
       "        -0.12126781],\n",
       "       [-1.15260181, -0.29138576, -0.5994523 , -1.00822538, -0.57294631,\n",
       "        -0.83103607,  0.98561076, -0.98561076,  0.85146932, -0.82639387,\n",
       "        -0.12126781],\n",
       "       [ 0.30604026, -0.29138576,  0.36086432,  0.7309634 ,  0.52520079,\n",
       "         0.66822614,  0.98561076, -0.98561076,  0.85146932, -0.82639387,\n",
       "        -0.12126781]])"
      ]
     },
     "execution_count": 87,
     "metadata": {},
     "output_type": "execute_result"
    }
   ],
   "source": [
    "x_test"
   ]
  },
  {
   "cell_type": "markdown",
   "id": "d5785d03",
   "metadata": {},
   "source": [
    "### fix LogisticRegression model"
   ]
  },
  {
   "cell_type": "code",
   "execution_count": 88,
   "id": "af844259",
   "metadata": {},
   "outputs": [
    {
     "data": {
      "text/html": [
       "<style>#sk-container-id-1 {color: black;background-color: white;}#sk-container-id-1 pre{padding: 0;}#sk-container-id-1 div.sk-toggleable {background-color: white;}#sk-container-id-1 label.sk-toggleable__label {cursor: pointer;display: block;width: 100%;margin-bottom: 0;padding: 0.3em;box-sizing: border-box;text-align: center;}#sk-container-id-1 label.sk-toggleable__label-arrow:before {content: \"▸\";float: left;margin-right: 0.25em;color: #696969;}#sk-container-id-1 label.sk-toggleable__label-arrow:hover:before {color: black;}#sk-container-id-1 div.sk-estimator:hover label.sk-toggleable__label-arrow:before {color: black;}#sk-container-id-1 div.sk-toggleable__content {max-height: 0;max-width: 0;overflow: hidden;text-align: left;background-color: #f0f8ff;}#sk-container-id-1 div.sk-toggleable__content pre {margin: 0.2em;color: black;border-radius: 0.25em;background-color: #f0f8ff;}#sk-container-id-1 input.sk-toggleable__control:checked~div.sk-toggleable__content {max-height: 200px;max-width: 100%;overflow: auto;}#sk-container-id-1 input.sk-toggleable__control:checked~label.sk-toggleable__label-arrow:before {content: \"▾\";}#sk-container-id-1 div.sk-estimator input.sk-toggleable__control:checked~label.sk-toggleable__label {background-color: #d4ebff;}#sk-container-id-1 div.sk-label input.sk-toggleable__control:checked~label.sk-toggleable__label {background-color: #d4ebff;}#sk-container-id-1 input.sk-hidden--visually {border: 0;clip: rect(1px 1px 1px 1px);clip: rect(1px, 1px, 1px, 1px);height: 1px;margin: -1px;overflow: hidden;padding: 0;position: absolute;width: 1px;}#sk-container-id-1 div.sk-estimator {font-family: monospace;background-color: #f0f8ff;border: 1px dotted black;border-radius: 0.25em;box-sizing: border-box;margin-bottom: 0.5em;}#sk-container-id-1 div.sk-estimator:hover {background-color: #d4ebff;}#sk-container-id-1 div.sk-parallel-item::after {content: \"\";width: 100%;border-bottom: 1px solid gray;flex-grow: 1;}#sk-container-id-1 div.sk-label:hover label.sk-toggleable__label {background-color: #d4ebff;}#sk-container-id-1 div.sk-serial::before {content: \"\";position: absolute;border-left: 1px solid gray;box-sizing: border-box;top: 0;bottom: 0;left: 50%;z-index: 0;}#sk-container-id-1 div.sk-serial {display: flex;flex-direction: column;align-items: center;background-color: white;padding-right: 0.2em;padding-left: 0.2em;position: relative;}#sk-container-id-1 div.sk-item {position: relative;z-index: 1;}#sk-container-id-1 div.sk-parallel {display: flex;align-items: stretch;justify-content: center;background-color: white;position: relative;}#sk-container-id-1 div.sk-item::before, #sk-container-id-1 div.sk-parallel-item::before {content: \"\";position: absolute;border-left: 1px solid gray;box-sizing: border-box;top: 0;bottom: 0;left: 50%;z-index: -1;}#sk-container-id-1 div.sk-parallel-item {display: flex;flex-direction: column;z-index: 1;position: relative;background-color: white;}#sk-container-id-1 div.sk-parallel-item:first-child::after {align-self: flex-end;width: 50%;}#sk-container-id-1 div.sk-parallel-item:last-child::after {align-self: flex-start;width: 50%;}#sk-container-id-1 div.sk-parallel-item:only-child::after {width: 0;}#sk-container-id-1 div.sk-dashed-wrapped {border: 1px dashed gray;margin: 0 0.4em 0.5em 0.4em;box-sizing: border-box;padding-bottom: 0.4em;background-color: white;}#sk-container-id-1 div.sk-label label {font-family: monospace;font-weight: bold;display: inline-block;line-height: 1.2em;}#sk-container-id-1 div.sk-label-container {text-align: center;}#sk-container-id-1 div.sk-container {/* jupyter's `normalize.less` sets `[hidden] { display: none; }` but bootstrap.min.css set `[hidden] { display: none !important; }` so we also need the `!important` here to be able to override the default hidden behavior on the sphinx rendered scikit-learn.org. See: https://github.com/scikit-learn/scikit-learn/issues/21755 */display: inline-block !important;position: relative;}#sk-container-id-1 div.sk-text-repr-fallback {display: none;}</style><div id=\"sk-container-id-1\" class=\"sk-top-container\"><div class=\"sk-text-repr-fallback\"><pre>LogisticRegression()</pre><b>In a Jupyter environment, please rerun this cell to show the HTML representation or trust the notebook. <br />On GitHub, the HTML representation is unable to render, please try loading this page with nbviewer.org.</b></div><div class=\"sk-container\" hidden><div class=\"sk-item\"><div class=\"sk-estimator sk-toggleable\"><input class=\"sk-toggleable__control sk-hidden--visually\" id=\"sk-estimator-id-1\" type=\"checkbox\" checked><label for=\"sk-estimator-id-1\" class=\"sk-toggleable__label sk-toggleable__label-arrow\">LogisticRegression</label><div class=\"sk-toggleable__content\"><pre>LogisticRegression()</pre></div></div></div></div></div>"
      ],
      "text/plain": [
       "LogisticRegression()"
      ]
     },
     "execution_count": 88,
     "metadata": {},
     "output_type": "execute_result"
    }
   ],
   "source": [
    "from sklearn.linear_model import LogisticRegression\n",
    "classifier = LogisticRegression()\n",
    "classifier.fit(x_train, y_train)"
   ]
  },
  {
   "cell_type": "code",
   "execution_count": 89,
   "id": "da89d79a",
   "metadata": {},
   "outputs": [
    {
     "name": "stdout",
     "output_type": "stream",
     "text": [
      "Help on class LogisticRegression in module sklearn.linear_model._logistic:\n",
      "\n",
      "class LogisticRegression(sklearn.linear_model._base.LinearClassifierMixin, sklearn.linear_model._base.SparseCoefMixin, sklearn.base.BaseEstimator)\n",
      " |  LogisticRegression(penalty='l2', *, dual=False, tol=0.0001, C=1.0, fit_intercept=True, intercept_scaling=1, class_weight=None, random_state=None, solver='lbfgs', max_iter=100, multi_class='auto', verbose=0, warm_start=False, n_jobs=None, l1_ratio=None)\n",
      " |  \n",
      " |  Logistic Regression (aka logit, MaxEnt) classifier.\n",
      " |  \n",
      " |  In the multiclass case, the training algorithm uses the one-vs-rest (OvR)\n",
      " |  scheme if the 'multi_class' option is set to 'ovr', and uses the\n",
      " |  cross-entropy loss if the 'multi_class' option is set to 'multinomial'.\n",
      " |  (Currently the 'multinomial' option is supported only by the 'lbfgs',\n",
      " |  'sag', 'saga' and 'newton-cg' solvers.)\n",
      " |  \n",
      " |  This class implements regularized logistic regression using the\n",
      " |  'liblinear' library, 'newton-cg', 'sag', 'saga' and 'lbfgs' solvers. **Note\n",
      " |  that regularization is applied by default**. It can handle both dense\n",
      " |  and sparse input. Use C-ordered arrays or CSR matrices containing 64-bit\n",
      " |  floats for optimal performance; any other input format will be converted\n",
      " |  (and copied).\n",
      " |  \n",
      " |  The 'newton-cg', 'sag', and 'lbfgs' solvers support only L2 regularization\n",
      " |  with primal formulation, or no regularization. The 'liblinear' solver\n",
      " |  supports both L1 and L2 regularization, with a dual formulation only for\n",
      " |  the L2 penalty. The Elastic-Net regularization is only supported by the\n",
      " |  'saga' solver.\n",
      " |  \n",
      " |  Read more in the :ref:`User Guide <logistic_regression>`.\n",
      " |  \n",
      " |  Parameters\n",
      " |  ----------\n",
      " |  penalty : {'l1', 'l2', 'elasticnet', None}, default='l2'\n",
      " |      Specify the norm of the penalty:\n",
      " |  \n",
      " |      - `None`: no penalty is added;\n",
      " |      - `'l2'`: add a L2 penalty term and it is the default choice;\n",
      " |      - `'l1'`: add a L1 penalty term;\n",
      " |      - `'elasticnet'`: both L1 and L2 penalty terms are added.\n",
      " |  \n",
      " |      .. warning::\n",
      " |         Some penalties may not work with some solvers. See the parameter\n",
      " |         `solver` below, to know the compatibility between the penalty and\n",
      " |         solver.\n",
      " |  \n",
      " |      .. versionadded:: 0.19\n",
      " |         l1 penalty with SAGA solver (allowing 'multinomial' + L1)\n",
      " |  \n",
      " |      .. deprecated:: 1.2\n",
      " |         The 'none' option was deprecated in version 1.2, and will be removed\n",
      " |         in 1.4. Use `None` instead.\n",
      " |  \n",
      " |  dual : bool, default=False\n",
      " |      Dual or primal formulation. Dual formulation is only implemented for\n",
      " |      l2 penalty with liblinear solver. Prefer dual=False when\n",
      " |      n_samples > n_features.\n",
      " |  \n",
      " |  tol : float, default=1e-4\n",
      " |      Tolerance for stopping criteria.\n",
      " |  \n",
      " |  C : float, default=1.0\n",
      " |      Inverse of regularization strength; must be a positive float.\n",
      " |      Like in support vector machines, smaller values specify stronger\n",
      " |      regularization.\n",
      " |  \n",
      " |  fit_intercept : bool, default=True\n",
      " |      Specifies if a constant (a.k.a. bias or intercept) should be\n",
      " |      added to the decision function.\n",
      " |  \n",
      " |  intercept_scaling : float, default=1\n",
      " |      Useful only when the solver 'liblinear' is used\n",
      " |      and self.fit_intercept is set to True. In this case, x becomes\n",
      " |      [x, self.intercept_scaling],\n",
      " |      i.e. a \"synthetic\" feature with constant value equal to\n",
      " |      intercept_scaling is appended to the instance vector.\n",
      " |      The intercept becomes ``intercept_scaling * synthetic_feature_weight``.\n",
      " |  \n",
      " |      Note! the synthetic feature weight is subject to l1/l2 regularization\n",
      " |      as all other features.\n",
      " |      To lessen the effect of regularization on synthetic feature weight\n",
      " |      (and therefore on the intercept) intercept_scaling has to be increased.\n",
      " |  \n",
      " |  class_weight : dict or 'balanced', default=None\n",
      " |      Weights associated with classes in the form ``{class_label: weight}``.\n",
      " |      If not given, all classes are supposed to have weight one.\n",
      " |  \n",
      " |      The \"balanced\" mode uses the values of y to automatically adjust\n",
      " |      weights inversely proportional to class frequencies in the input data\n",
      " |      as ``n_samples / (n_classes * np.bincount(y))``.\n",
      " |  \n",
      " |      Note that these weights will be multiplied with sample_weight (passed\n",
      " |      through the fit method) if sample_weight is specified.\n",
      " |  \n",
      " |      .. versionadded:: 0.17\n",
      " |         *class_weight='balanced'*\n",
      " |  \n",
      " |  random_state : int, RandomState instance, default=None\n",
      " |      Used when ``solver`` == 'sag', 'saga' or 'liblinear' to shuffle the\n",
      " |      data. See :term:`Glossary <random_state>` for details.\n",
      " |  \n",
      " |  solver : {'lbfgs', 'liblinear', 'newton-cg', 'newton-cholesky', 'sag', 'saga'},             default='lbfgs'\n",
      " |  \n",
      " |      Algorithm to use in the optimization problem. Default is 'lbfgs'.\n",
      " |      To choose a solver, you might want to consider the following aspects:\n",
      " |  \n",
      " |          - For small datasets, 'liblinear' is a good choice, whereas 'sag'\n",
      " |            and 'saga' are faster for large ones;\n",
      " |          - For multiclass problems, only 'newton-cg', 'sag', 'saga' and\n",
      " |            'lbfgs' handle multinomial loss;\n",
      " |          - 'liblinear' is limited to one-versus-rest schemes.\n",
      " |          - 'newton-cholesky' is a good choice for `n_samples` >> `n_features`,\n",
      " |            especially with one-hot encoded categorical features with rare\n",
      " |            categories. Note that it is limited to binary classification and the\n",
      " |            one-versus-rest reduction for multiclass classification. Be aware that\n",
      " |            the memory usage of this solver has a quadratic dependency on\n",
      " |            `n_features` because it explicitly computes the Hessian matrix.\n",
      " |  \n",
      " |      .. warning::\n",
      " |         The choice of the algorithm depends on the penalty chosen.\n",
      " |         Supported penalties by solver:\n",
      " |  \n",
      " |         - 'lbfgs'           -   ['l2', None]\n",
      " |         - 'liblinear'       -   ['l1', 'l2']\n",
      " |         - 'newton-cg'       -   ['l2', None]\n",
      " |         - 'newton-cholesky' -   ['l2', None]\n",
      " |         - 'sag'             -   ['l2', None]\n",
      " |         - 'saga'            -   ['elasticnet', 'l1', 'l2', None]\n",
      " |  \n",
      " |      .. note::\n",
      " |         'sag' and 'saga' fast convergence is only guaranteed on features\n",
      " |         with approximately the same scale. You can preprocess the data with\n",
      " |         a scaler from :mod:`sklearn.preprocessing`.\n",
      " |  \n",
      " |      .. seealso::\n",
      " |         Refer to the User Guide for more information regarding\n",
      " |         :class:`LogisticRegression` and more specifically the\n",
      " |         :ref:`Table <Logistic_regression>`\n",
      " |         summarizing solver/penalty supports.\n",
      " |  \n",
      " |      .. versionadded:: 0.17\n",
      " |         Stochastic Average Gradient descent solver.\n",
      " |      .. versionadded:: 0.19\n",
      " |         SAGA solver.\n",
      " |      .. versionchanged:: 0.22\n",
      " |          The default solver changed from 'liblinear' to 'lbfgs' in 0.22.\n",
      " |      .. versionadded:: 1.2\n",
      " |         newton-cholesky solver.\n",
      " |  \n",
      " |  max_iter : int, default=100\n",
      " |      Maximum number of iterations taken for the solvers to converge.\n",
      " |  \n",
      " |  multi_class : {'auto', 'ovr', 'multinomial'}, default='auto'\n",
      " |      If the option chosen is 'ovr', then a binary problem is fit for each\n",
      " |      label. For 'multinomial' the loss minimised is the multinomial loss fit\n",
      " |      across the entire probability distribution, *even when the data is\n",
      " |      binary*. 'multinomial' is unavailable when solver='liblinear'.\n",
      " |      'auto' selects 'ovr' if the data is binary, or if solver='liblinear',\n",
      " |      and otherwise selects 'multinomial'.\n",
      " |  \n",
      " |      .. versionadded:: 0.18\n",
      " |         Stochastic Average Gradient descent solver for 'multinomial' case.\n",
      " |      .. versionchanged:: 0.22\n",
      " |          Default changed from 'ovr' to 'auto' in 0.22.\n",
      " |  \n",
      " |  verbose : int, default=0\n",
      " |      For the liblinear and lbfgs solvers set verbose to any positive\n",
      " |      number for verbosity.\n",
      " |  \n",
      " |  warm_start : bool, default=False\n",
      " |      When set to True, reuse the solution of the previous call to fit as\n",
      " |      initialization, otherwise, just erase the previous solution.\n",
      " |      Useless for liblinear solver. See :term:`the Glossary <warm_start>`.\n",
      " |  \n",
      " |      .. versionadded:: 0.17\n",
      " |         *warm_start* to support *lbfgs*, *newton-cg*, *sag*, *saga* solvers.\n",
      " |  \n",
      " |  n_jobs : int, default=None\n",
      " |      Number of CPU cores used when parallelizing over classes if\n",
      " |      multi_class='ovr'\". This parameter is ignored when the ``solver`` is\n",
      " |      set to 'liblinear' regardless of whether 'multi_class' is specified or\n",
      " |      not. ``None`` means 1 unless in a :obj:`joblib.parallel_backend`\n",
      " |      context. ``-1`` means using all processors.\n",
      " |      See :term:`Glossary <n_jobs>` for more details.\n",
      " |  \n",
      " |  l1_ratio : float, default=None\n",
      " |      The Elastic-Net mixing parameter, with ``0 <= l1_ratio <= 1``. Only\n",
      " |      used if ``penalty='elasticnet'``. Setting ``l1_ratio=0`` is equivalent\n",
      " |      to using ``penalty='l2'``, while setting ``l1_ratio=1`` is equivalent\n",
      " |      to using ``penalty='l1'``. For ``0 < l1_ratio <1``, the penalty is a\n",
      " |      combination of L1 and L2.\n",
      " |  \n",
      " |  Attributes\n",
      " |  ----------\n",
      " |  \n",
      " |  classes_ : ndarray of shape (n_classes, )\n",
      " |      A list of class labels known to the classifier.\n",
      " |  \n",
      " |  coef_ : ndarray of shape (1, n_features) or (n_classes, n_features)\n",
      " |      Coefficient of the features in the decision function.\n",
      " |  \n",
      " |      `coef_` is of shape (1, n_features) when the given problem is binary.\n",
      " |      In particular, when `multi_class='multinomial'`, `coef_` corresponds\n",
      " |      to outcome 1 (True) and `-coef_` corresponds to outcome 0 (False).\n",
      " |  \n",
      " |  intercept_ : ndarray of shape (1,) or (n_classes,)\n",
      " |      Intercept (a.k.a. bias) added to the decision function.\n",
      " |  \n",
      " |      If `fit_intercept` is set to False, the intercept is set to zero.\n",
      " |      `intercept_` is of shape (1,) when the given problem is binary.\n",
      " |      In particular, when `multi_class='multinomial'`, `intercept_`\n",
      " |      corresponds to outcome 1 (True) and `-intercept_` corresponds to\n",
      " |      outcome 0 (False).\n",
      " |  \n",
      " |  n_features_in_ : int\n",
      " |      Number of features seen during :term:`fit`.\n",
      " |  \n",
      " |      .. versionadded:: 0.24\n",
      " |  \n",
      " |  feature_names_in_ : ndarray of shape (`n_features_in_`,)\n",
      " |      Names of features seen during :term:`fit`. Defined only when `X`\n",
      " |      has feature names that are all strings.\n",
      " |  \n",
      " |      .. versionadded:: 1.0\n",
      " |  \n",
      " |  n_iter_ : ndarray of shape (n_classes,) or (1, )\n",
      " |      Actual number of iterations for all classes. If binary or multinomial,\n",
      " |      it returns only 1 element. For liblinear solver, only the maximum\n",
      " |      number of iteration across all classes is given.\n",
      " |  \n",
      " |      .. versionchanged:: 0.20\n",
      " |  \n",
      " |          In SciPy <= 1.0.0 the number of lbfgs iterations may exceed\n",
      " |          ``max_iter``. ``n_iter_`` will now report at most ``max_iter``.\n",
      " |  \n",
      " |  See Also\n",
      " |  --------\n",
      " |  SGDClassifier : Incrementally trained logistic regression (when given\n",
      " |      the parameter ``loss=\"log\"``).\n",
      " |  LogisticRegressionCV : Logistic regression with built-in cross validation.\n",
      " |  \n",
      " |  Notes\n",
      " |  -----\n",
      " |  The underlying C implementation uses a random number generator to\n",
      " |  select features when fitting the model. It is thus not uncommon,\n",
      " |  to have slightly different results for the same input data. If\n",
      " |  that happens, try with a smaller tol parameter.\n",
      " |  \n",
      " |  Predict output may not match that of standalone liblinear in certain\n",
      " |  cases. See :ref:`differences from liblinear <liblinear_differences>`\n",
      " |  in the narrative documentation.\n",
      " |  \n",
      " |  References\n",
      " |  ----------\n",
      " |  \n",
      " |  L-BFGS-B -- Software for Large-scale Bound-constrained Optimization\n",
      " |      Ciyou Zhu, Richard Byrd, Jorge Nocedal and Jose Luis Morales.\n",
      " |      http://users.iems.northwestern.edu/~nocedal/lbfgsb.html\n",
      " |  \n",
      " |  LIBLINEAR -- A Library for Large Linear Classification\n",
      " |      https://www.csie.ntu.edu.tw/~cjlin/liblinear/\n",
      " |  \n",
      " |  SAG -- Mark Schmidt, Nicolas Le Roux, and Francis Bach\n",
      " |      Minimizing Finite Sums with the Stochastic Average Gradient\n",
      " |      https://hal.inria.fr/hal-00860051/document\n",
      " |  \n",
      " |  SAGA -- Defazio, A., Bach F. & Lacoste-Julien S. (2014).\n",
      " |          :arxiv:`\"SAGA: A Fast Incremental Gradient Method With Support\n",
      " |          for Non-Strongly Convex Composite Objectives\" <1407.0202>`\n",
      " |  \n",
      " |  Hsiang-Fu Yu, Fang-Lan Huang, Chih-Jen Lin (2011). Dual coordinate descent\n",
      " |      methods for logistic regression and maximum entropy models.\n",
      " |      Machine Learning 85(1-2):41-75.\n",
      " |      https://www.csie.ntu.edu.tw/~cjlin/papers/maxent_dual.pdf\n",
      " |  \n",
      " |  Examples\n",
      " |  --------\n",
      " |  >>> from sklearn.datasets import load_iris\n",
      " |  >>> from sklearn.linear_model import LogisticRegression\n",
      " |  >>> X, y = load_iris(return_X_y=True)\n",
      " |  >>> clf = LogisticRegression(random_state=0).fit(X, y)\n",
      " |  >>> clf.predict(X[:2, :])\n",
      " |  array([0, 0])\n",
      " |  >>> clf.predict_proba(X[:2, :])\n",
      " |  array([[9.8...e-01, 1.8...e-02, 1.4...e-08],\n",
      " |         [9.7...e-01, 2.8...e-02, ...e-08]])\n",
      " |  >>> clf.score(X, y)\n",
      " |  0.97...\n",
      " |  \n",
      " |  Method resolution order:\n",
      " |      LogisticRegression\n",
      " |      sklearn.linear_model._base.LinearClassifierMixin\n",
      " |      sklearn.base.ClassifierMixin\n",
      " |      sklearn.linear_model._base.SparseCoefMixin\n",
      " |      sklearn.base.BaseEstimator\n",
      " |      builtins.object\n",
      " |  \n",
      " |  Methods defined here:\n",
      " |  \n",
      " |  __init__(self, penalty='l2', *, dual=False, tol=0.0001, C=1.0, fit_intercept=True, intercept_scaling=1, class_weight=None, random_state=None, solver='lbfgs', max_iter=100, multi_class='auto', verbose=0, warm_start=False, n_jobs=None, l1_ratio=None)\n",
      " |      Initialize self.  See help(type(self)) for accurate signature.\n",
      " |  \n",
      " |  fit(self, X, y, sample_weight=None)\n",
      " |      Fit the model according to the given training data.\n",
      " |      \n",
      " |      Parameters\n",
      " |      ----------\n",
      " |      X : {array-like, sparse matrix} of shape (n_samples, n_features)\n",
      " |          Training vector, where `n_samples` is the number of samples and\n",
      " |          `n_features` is the number of features.\n",
      " |      \n",
      " |      y : array-like of shape (n_samples,)\n",
      " |          Target vector relative to X.\n",
      " |      \n",
      " |      sample_weight : array-like of shape (n_samples,) default=None\n",
      " |          Array of weights that are assigned to individual samples.\n",
      " |          If not provided, then each sample is given unit weight.\n",
      " |      \n",
      " |          .. versionadded:: 0.17\n",
      " |             *sample_weight* support to LogisticRegression.\n",
      " |      \n",
      " |      Returns\n",
      " |      -------\n",
      " |      self\n",
      " |          Fitted estimator.\n",
      " |      \n",
      " |      Notes\n",
      " |      -----\n",
      " |      The SAGA solver supports both float64 and float32 bit arrays.\n",
      " |  \n",
      " |  predict_log_proba(self, X)\n",
      " |      Predict logarithm of probability estimates.\n",
      " |      \n",
      " |      The returned estimates for all classes are ordered by the\n",
      " |      label of classes.\n",
      " |      \n",
      " |      Parameters\n",
      " |      ----------\n",
      " |      X : array-like of shape (n_samples, n_features)\n",
      " |          Vector to be scored, where `n_samples` is the number of samples and\n",
      " |          `n_features` is the number of features.\n",
      " |      \n",
      " |      Returns\n",
      " |      -------\n",
      " |      T : array-like of shape (n_samples, n_classes)\n",
      " |          Returns the log-probability of the sample for each class in the\n",
      " |          model, where classes are ordered as they are in ``self.classes_``.\n",
      " |  \n",
      " |  predict_proba(self, X)\n",
      " |      Probability estimates.\n",
      " |      \n",
      " |      The returned estimates for all classes are ordered by the\n",
      " |      label of classes.\n",
      " |      \n",
      " |      For a multi_class problem, if multi_class is set to be \"multinomial\"\n",
      " |      the softmax function is used to find the predicted probability of\n",
      " |      each class.\n",
      " |      Else use a one-vs-rest approach, i.e calculate the probability\n",
      " |      of each class assuming it to be positive using the logistic function.\n",
      " |      and normalize these values across all the classes.\n",
      " |      \n",
      " |      Parameters\n",
      " |      ----------\n",
      " |      X : array-like of shape (n_samples, n_features)\n",
      " |          Vector to be scored, where `n_samples` is the number of samples and\n",
      " |          `n_features` is the number of features.\n",
      " |      \n",
      " |      Returns\n",
      " |      -------\n",
      " |      T : array-like of shape (n_samples, n_classes)\n",
      " |          Returns the probability of the sample for each class in the model,\n",
      " |          where classes are ordered as they are in ``self.classes_``.\n",
      " |  \n",
      " |  ----------------------------------------------------------------------\n",
      " |  Data and other attributes defined here:\n",
      " |  \n",
      " |  __annotations__ = {'_parameter_constraints': <class 'dict'>}\n",
      " |  \n",
      " |  ----------------------------------------------------------------------\n",
      " |  Methods inherited from sklearn.linear_model._base.LinearClassifierMixin:\n",
      " |  \n",
      " |  decision_function(self, X)\n",
      " |      Predict confidence scores for samples.\n",
      " |      \n",
      " |      The confidence score for a sample is proportional to the signed\n",
      " |      distance of that sample to the hyperplane.\n",
      " |      \n",
      " |      Parameters\n",
      " |      ----------\n",
      " |      X : {array-like, sparse matrix} of shape (n_samples, n_features)\n",
      " |          The data matrix for which we want to get the confidence scores.\n",
      " |      \n",
      " |      Returns\n",
      " |      -------\n",
      " |      scores : ndarray of shape (n_samples,) or (n_samples, n_classes)\n",
      " |          Confidence scores per `(n_samples, n_classes)` combination. In the\n",
      " |          binary case, confidence score for `self.classes_[1]` where >0 means\n",
      " |          this class would be predicted.\n",
      " |  \n",
      " |  predict(self, X)\n",
      " |      Predict class labels for samples in X.\n",
      " |      \n",
      " |      Parameters\n",
      " |      ----------\n",
      " |      X : {array-like, sparse matrix} of shape (n_samples, n_features)\n",
      " |          The data matrix for which we want to get the predictions.\n",
      " |      \n",
      " |      Returns\n",
      " |      -------\n",
      " |      y_pred : ndarray of shape (n_samples,)\n",
      " |          Vector containing the class labels for each sample.\n",
      " |  \n",
      " |  ----------------------------------------------------------------------\n",
      " |  Methods inherited from sklearn.base.ClassifierMixin:\n",
      " |  \n",
      " |  score(self, X, y, sample_weight=None)\n",
      " |      Return the mean accuracy on the given test data and labels.\n",
      " |      \n",
      " |      In multi-label classification, this is the subset accuracy\n",
      " |      which is a harsh metric since you require for each sample that\n",
      " |      each label set be correctly predicted.\n",
      " |      \n",
      " |      Parameters\n",
      " |      ----------\n",
      " |      X : array-like of shape (n_samples, n_features)\n",
      " |          Test samples.\n",
      " |      \n",
      " |      y : array-like of shape (n_samples,) or (n_samples, n_outputs)\n",
      " |          True labels for `X`.\n",
      " |      \n",
      " |      sample_weight : array-like of shape (n_samples,), default=None\n",
      " |          Sample weights.\n",
      " |      \n",
      " |      Returns\n",
      " |      -------\n",
      " |      score : float\n",
      " |          Mean accuracy of ``self.predict(X)`` wrt. `y`.\n",
      " |  \n",
      " |  ----------------------------------------------------------------------\n",
      " |  Data descriptors inherited from sklearn.base.ClassifierMixin:\n",
      " |  \n",
      " |  __dict__\n",
      " |      dictionary for instance variables (if defined)\n",
      " |  \n",
      " |  __weakref__\n",
      " |      list of weak references to the object (if defined)\n",
      " |  \n",
      " |  ----------------------------------------------------------------------\n",
      " |  Methods inherited from sklearn.linear_model._base.SparseCoefMixin:\n",
      " |  \n",
      " |  densify(self)\n",
      " |      Convert coefficient matrix to dense array format.\n",
      " |      \n",
      " |      Converts the ``coef_`` member (back) to a numpy.ndarray. This is the\n",
      " |      default format of ``coef_`` and is required for fitting, so calling\n",
      " |      this method is only required on models that have previously been\n",
      " |      sparsified; otherwise, it is a no-op.\n",
      " |      \n",
      " |      Returns\n",
      " |      -------\n",
      " |      self\n",
      " |          Fitted estimator.\n",
      " |  \n",
      " |  sparsify(self)\n",
      " |      Convert coefficient matrix to sparse format.\n",
      " |      \n",
      " |      Converts the ``coef_`` member to a scipy.sparse matrix, which for\n",
      " |      L1-regularized models can be much more memory- and storage-efficient\n",
      " |      than the usual numpy.ndarray representation.\n",
      " |      \n",
      " |      The ``intercept_`` member is not converted.\n",
      " |      \n",
      " |      Returns\n",
      " |      -------\n",
      " |      self\n",
      " |          Fitted estimator.\n",
      " |      \n",
      " |      Notes\n",
      " |      -----\n",
      " |      For non-sparse models, i.e. when there are not many zeros in ``coef_``,\n",
      " |      this may actually *increase* memory usage, so use this method with\n",
      " |      care. A rule of thumb is that the number of zero elements, which can\n",
      " |      be computed with ``(coef_ == 0).sum()``, must be more than 50% for this\n",
      " |      to provide significant benefits.\n",
      " |      \n",
      " |      After calling this method, further fitting with the partial_fit\n",
      " |      method (if any) will not work until you call densify.\n",
      " |  \n",
      " |  ----------------------------------------------------------------------\n",
      " |  Methods inherited from sklearn.base.BaseEstimator:\n",
      " |  \n",
      " |  __getstate__(self)\n",
      " |  \n",
      " |  __repr__(self, N_CHAR_MAX=700)\n",
      " |      Return repr(self).\n",
      " |  \n",
      " |  __setstate__(self, state)\n",
      " |  \n",
      " |  get_params(self, deep=True)\n",
      " |      Get parameters for this estimator.\n",
      " |      \n",
      " |      Parameters\n",
      " |      ----------\n",
      " |      deep : bool, default=True\n",
      " |          If True, will return the parameters for this estimator and\n",
      " |          contained subobjects that are estimators.\n",
      " |      \n",
      " |      Returns\n",
      " |      -------\n",
      " |      params : dict\n",
      " |          Parameter names mapped to their values.\n",
      " |  \n",
      " |  set_params(self, **params)\n",
      " |      Set the parameters of this estimator.\n",
      " |      \n",
      " |      The method works on simple estimators as well as on nested objects\n",
      " |      (such as :class:`~sklearn.pipeline.Pipeline`). The latter have\n",
      " |      parameters of the form ``<component>__<parameter>`` so that it's\n",
      " |      possible to update each component of a nested object.\n",
      " |      \n",
      " |      Parameters\n",
      " |      ----------\n",
      " |      **params : dict\n",
      " |          Estimator parameters.\n",
      " |      \n",
      " |      Returns\n",
      " |      -------\n",
      " |      self : estimator instance\n",
      " |          Estimator instance.\n",
      "\n"
     ]
    }
   ],
   "source": [
    "help(LogisticRegression)"
   ]
  },
  {
   "cell_type": "markdown",
   "id": "79715e9b",
   "metadata": {},
   "source": [
    "### chake accurasy"
   ]
  },
  {
   "cell_type": "code",
   "execution_count": 90,
   "id": "ad95e7ac",
   "metadata": {},
   "outputs": [
    {
     "name": "stdout",
     "output_type": "stream",
     "text": [
      "Accuracy: 1.0\n"
     ]
    }
   ],
   "source": [
    "# Computing the accuracy:\n",
    "from sklearn.metrics import accuracy_score\n",
    "y_pred = classifier.predict(x_test)\n",
    "accuracy = accuracy_score(y_test, y_pred)\n",
    "print(\"Accuracy:\", accuracy)"
   ]
  },
  {
   "cell_type": "code",
   "execution_count": 91,
   "id": "8b23600f",
   "metadata": {},
   "outputs": [
    {
     "name": "stdout",
     "output_type": "stream",
     "text": [
      "[[35  0]\n",
      " [ 0 34]]\n"
     ]
    },
    {
     "data": {
      "text/plain": [
       "1.0"
      ]
     },
     "execution_count": 91,
     "metadata": {},
     "output_type": "execute_result"
    }
   ],
   "source": [
    "from sklearn.metrics import confusion_matrix, accuracy_score\n",
    "cm = confusion_matrix(y_test, y_pred)\n",
    "print(cm)\n",
    "accuracy_score(y_test, y_pred)"
   ]
  },
  {
   "cell_type": "code",
   "execution_count": 92,
   "id": "57daca8f",
   "metadata": {},
   "outputs": [
    {
     "name": "stdout",
     "output_type": "stream",
     "text": [
      "Accuracy scores: [1. 1. 1. 1. 1.]\n",
      "Mean accuracy: 1.0\n"
     ]
    }
   ],
   "source": [
    "from sklearn.model_selection import cross_val_score\n",
    "\n",
    "# Cross-validation\n",
    "accuracy_scores = cross_val_score(classifier,x_test , y_test, cv=5)\n",
    "\n",
    "# Compute mean accuracy\n",
    "mean_accuracy = np.mean(accuracy_scores)\n",
    "\n",
    "# Print accuracy scores and mean accuracy\n",
    "print(\"Accuracy scores:\", accuracy_scores)\n",
    "print(\"Mean accuracy:\", mean_accuracy)"
   ]
  },
  {
   "cell_type": "code",
   "execution_count": 93,
   "id": "21eb1720",
   "metadata": {},
   "outputs": [
    {
     "name": "stdout",
     "output_type": "stream",
     "text": [
      "1.0\n"
     ]
    }
   ],
   "source": [
    "# Use score method to get accuracy of model\n",
    "score = classifier.score(x_test, y_test)\n",
    "print(score)"
   ]
  },
  {
   "cell_type": "code",
   "execution_count": 94,
   "id": "921564b0",
   "metadata": {},
   "outputs": [
    {
     "data": {
      "image/png": "[encoded data removed]",
      "text/plain": [
       "<Figure size 900x900 with 2 Axes>"
      ]
     },
     "metadata": {},
     "output_type": "display_data"
    }
   ],
   "source": [
    "plt.figure(figsize=(9,9))\n",
    "sns.heatmap(cm, annot=True, fmt=\".3f\", linewidths=.5, square = True, cmap = 'Blues_r');\n",
    "plt.ylabel('Actual label');\n",
    "plt.xlabel('Predicted label');\n",
    "all_sample_title = 'Accuracy Score: {0}'.format(score)\n",
    "plt.title(all_sample_title, size = 15);"
   ]
  },
  {
   "cell_type": "code",
   "execution_count": 95,
   "id": "facee355",
   "metadata": {},
   "outputs": [
    {
     "name": "stdout",
     "output_type": "stream",
     "text": [
      "              precision    recall  f1-score   support\n",
      "\n",
      "      Grid 1       1.00      1.00      1.00        35\n",
      "      Grid 2       1.00      1.00      1.00        34\n",
      "\n",
      "    accuracy                           1.00        69\n",
      "   macro avg       1.00      1.00      1.00        69\n",
      "weighted avg       1.00      1.00      1.00        69\n",
      "\n"
     ]
    }
   ],
   "source": [
    "from sklearn.metrics import classification_report\n",
    "target_names = ['Grid 1', 'Grid 2']\n",
    "print(classification_report(y_test, y_pred, target_names=target_names))"
   ]
  },
  {
   "cell_type": "code",
   "execution_count": null,
   "id": "fa29d3a5",
   "metadata": {},
   "outputs": [],
   "source": []
  },
  {
   "cell_type": "code",
   "execution_count": null,
   "id": "c81fd93f",
   "metadata": {},
   "outputs": [],
   "source": []
  },
  {
   "cell_type": "code",
   "execution_count": null,
   "id": "f4dc3a93",
   "metadata": {},
   "outputs": [],
   "source": []
  },
  {
   "cell_type": "code",
   "execution_count": null,
   "id": "509da3b1",
   "metadata": {},
   "outputs": [],
   "source": []
  }
 ],
 "metadata": {
  "kernelspec": {
   "display_name": "Python 3 (ipykernel)",
   "language": "python",
   "name": "python3"
  },
  "language_info": {
   "codemirror_mode": {
    "name": "ipython",
    "version": 3
   },
   "file_extension": ".py",
   "mimetype": "text/x-python",
   "name": "python",
   "nbconvert_exporter": "python",
   "pygments_lexer": "ipython3",
   "version": "3.10.9"
  }
 },
 "nbformat": 4,
 "nbformat_minor": 5
}
