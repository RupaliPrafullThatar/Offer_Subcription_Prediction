{
 "cells": [
  {
   "cell_type": "markdown",
   "id": "a3744079",
   "metadata": {
    "id": "ypIJd5yMjQbc",
    "papermill": {
     "duration": 0.084708,
     "end_time": "2022-05-16T02:14:53.328899",
     "exception": false,
     "start_time": "2022-05-16T02:14:53.244191",
     "status": "completed"
    },
    "tags": []
   },
   "source": [
    "# Introduction\n",
    "#### In this notebook, we dived into **Exploratory Data Analysis** for the stroke prediction dataset.\n",
    "\n",
    "#### We also **built Supervised Learning and Unsupervised Learning models** and evaluated their performance. Finally, we made some **interesting conclusions.**\n",
    "\n",
    "#### Let's start!\n",
    "(Kindly **upvote my notebook** if you find it helpful. Honest feedback is welcome)"
   ]
  },
  {
   "cell_type": "markdown",
   "id": "fa48b512",
   "metadata": {
    "id": "mOhCHBKllEOF",
    "papermill": {
     "duration": 0.082253,
     "end_time": "2022-05-16T02:14:53.495004",
     "exception": false,
     "start_time": "2022-05-16T02:14:53.412751",
     "status": "completed"
    },
    "tags": []
   },
   "source": [
    "# **Import libraries**"
   ]
  },
  {
   "cell_type": "code",
   "execution_count": 1,
   "id": "305b4165",
   "metadata": {
    "execution": {
     "iopub.execute_input": "2022-05-16T02:14:53.662861Z",
     "iopub.status.busy": "2022-05-16T02:14:53.662104Z",
     "iopub.status.idle": "2022-05-16T02:14:53.675180Z",
     "shell.execute_reply": "2022-05-16T02:14:53.674269Z"
    },
    "id": "GB3suH13jPjA",
    "papermill": {
     "duration": 0.099318,
     "end_time": "2022-05-16T02:14:53.677520",
     "exception": false,
     "start_time": "2022-05-16T02:14:53.578202",
     "status": "completed"
    },
    "tags": []
   },
   "outputs": [],
   "source": [
    "import pandas as pd\n",
    "import numpy as np\n",
    "import matplotlib.pyplot as plt\n",
    "import warnings\n",
    "warnings.filterwarnings(\"ignore\")"
   ]
  },
  {
   "cell_type": "markdown",
   "id": "806c0d27",
   "metadata": {
    "papermill": {
     "duration": 0.083166,
     "end_time": "2022-05-16T02:14:53.844017",
     "exception": false,
     "start_time": "2022-05-16T02:14:53.760851",
     "status": "completed"
    },
    "tags": []
   },
   "source": [
    "# **Load the data**"
   ]
  },
  {
   "cell_type": "code",
   "execution_count": 2,
   "id": "e875ca6e",
   "metadata": {
    "execution": {
     "iopub.execute_input": "2022-05-16T02:14:54.013115Z",
     "iopub.status.busy": "2022-05-16T02:14:54.012443Z",
     "iopub.status.idle": "2022-05-16T02:14:54.072579Z",
     "shell.execute_reply": "2022-05-16T02:14:54.071711Z"
    },
    "id": "SDq4umkYjDRP",
    "outputId": "238f8013-1599-4b8f-9180-2e0f68dacf15",
    "papermill": {
     "duration": 0.147464,
     "end_time": "2022-05-16T02:14:54.075046",
     "exception": false,
     "start_time": "2022-05-16T02:14:53.927582",
     "status": "completed"
    },
    "tags": []
   },
   "outputs": [
    {
     "ename": "FileNotFoundError",
     "evalue": "[Errno 2] No such file or directory: '../input/stroke-prediction-dataset/healthcare-dataset-stroke-data.csv'",
     "output_type": "error",
     "traceback": [
      "\u001b[1;31m---------------------------------------------------------------------------\u001b[0m",
      "\u001b[1;31mFileNotFoundError\u001b[0m                         Traceback (most recent call last)",
      "Cell \u001b[1;32mIn[2], line 1\u001b[0m\n\u001b[1;32m----> 1\u001b[0m data \u001b[38;5;241m=\u001b[39m \u001b[43mpd\u001b[49m\u001b[38;5;241;43m.\u001b[39;49m\u001b[43mread_csv\u001b[49m\u001b[43m(\u001b[49m\u001b[38;5;124;43m'\u001b[39;49m\u001b[38;5;124;43m../input/stroke-prediction-dataset/healthcare-dataset-stroke-data.csv\u001b[39;49m\u001b[38;5;124;43m'\u001b[39;49m\u001b[43m)\u001b[49m\n\u001b[0;32m      2\u001b[0m data\u001b[38;5;241m.\u001b[39mhead(\u001b[38;5;241m20\u001b[39m)\n",
      "File \u001b[1;32m~\\anaconda3\\lib\\site-packages\\pandas\\util\\_decorators.py:211\u001b[0m, in \u001b[0;36mdeprecate_kwarg.<locals>._deprecate_kwarg.<locals>.wrapper\u001b[1;34m(*args, **kwargs)\u001b[0m\n\u001b[0;32m    209\u001b[0m     \u001b[38;5;28;01melse\u001b[39;00m:\n\u001b[0;32m    210\u001b[0m         kwargs[new_arg_name] \u001b[38;5;241m=\u001b[39m new_arg_value\n\u001b[1;32m--> 211\u001b[0m \u001b[38;5;28;01mreturn\u001b[39;00m func(\u001b[38;5;241m*\u001b[39margs, \u001b[38;5;241m*\u001b[39m\u001b[38;5;241m*\u001b[39mkwargs)\n",
      "File \u001b[1;32m~\\anaconda3\\lib\\site-packages\\pandas\\util\\_decorators.py:331\u001b[0m, in \u001b[0;36mdeprecate_nonkeyword_arguments.<locals>.decorate.<locals>.wrapper\u001b[1;34m(*args, **kwargs)\u001b[0m\n\u001b[0;32m    325\u001b[0m \u001b[38;5;28;01mif\u001b[39;00m \u001b[38;5;28mlen\u001b[39m(args) \u001b[38;5;241m>\u001b[39m num_allow_args:\n\u001b[0;32m    326\u001b[0m     warnings\u001b[38;5;241m.\u001b[39mwarn(\n\u001b[0;32m    327\u001b[0m         msg\u001b[38;5;241m.\u001b[39mformat(arguments\u001b[38;5;241m=\u001b[39m_format_argument_list(allow_args)),\n\u001b[0;32m    328\u001b[0m         \u001b[38;5;167;01mFutureWarning\u001b[39;00m,\n\u001b[0;32m    329\u001b[0m         stacklevel\u001b[38;5;241m=\u001b[39mfind_stack_level(),\n\u001b[0;32m    330\u001b[0m     )\n\u001b[1;32m--> 331\u001b[0m \u001b[38;5;28;01mreturn\u001b[39;00m func(\u001b[38;5;241m*\u001b[39margs, \u001b[38;5;241m*\u001b[39m\u001b[38;5;241m*\u001b[39mkwargs)\n",
      "File \u001b[1;32m~\\anaconda3\\lib\\site-packages\\pandas\\io\\parsers\\readers.py:950\u001b[0m, in \u001b[0;36mread_csv\u001b[1;34m(filepath_or_buffer, sep, delimiter, header, names, index_col, usecols, squeeze, prefix, mangle_dupe_cols, dtype, engine, converters, true_values, false_values, skipinitialspace, skiprows, skipfooter, nrows, na_values, keep_default_na, na_filter, verbose, skip_blank_lines, parse_dates, infer_datetime_format, keep_date_col, date_parser, dayfirst, cache_dates, iterator, chunksize, compression, thousands, decimal, lineterminator, quotechar, quoting, doublequote, escapechar, comment, encoding, encoding_errors, dialect, error_bad_lines, warn_bad_lines, on_bad_lines, delim_whitespace, low_memory, memory_map, float_precision, storage_options)\u001b[0m\n\u001b[0;32m    935\u001b[0m kwds_defaults \u001b[38;5;241m=\u001b[39m _refine_defaults_read(\n\u001b[0;32m    936\u001b[0m     dialect,\n\u001b[0;32m    937\u001b[0m     delimiter,\n\u001b[1;32m   (...)\u001b[0m\n\u001b[0;32m    946\u001b[0m     defaults\u001b[38;5;241m=\u001b[39m{\u001b[38;5;124m\"\u001b[39m\u001b[38;5;124mdelimiter\u001b[39m\u001b[38;5;124m\"\u001b[39m: \u001b[38;5;124m\"\u001b[39m\u001b[38;5;124m,\u001b[39m\u001b[38;5;124m\"\u001b[39m},\n\u001b[0;32m    947\u001b[0m )\n\u001b[0;32m    948\u001b[0m kwds\u001b[38;5;241m.\u001b[39mupdate(kwds_defaults)\n\u001b[1;32m--> 950\u001b[0m \u001b[38;5;28;01mreturn\u001b[39;00m \u001b[43m_read\u001b[49m\u001b[43m(\u001b[49m\u001b[43mfilepath_or_buffer\u001b[49m\u001b[43m,\u001b[49m\u001b[43m \u001b[49m\u001b[43mkwds\u001b[49m\u001b[43m)\u001b[49m\n",
      "File \u001b[1;32m~\\anaconda3\\lib\\site-packages\\pandas\\io\\parsers\\readers.py:605\u001b[0m, in \u001b[0;36m_read\u001b[1;34m(filepath_or_buffer, kwds)\u001b[0m\n\u001b[0;32m    602\u001b[0m _validate_names(kwds\u001b[38;5;241m.\u001b[39mget(\u001b[38;5;124m\"\u001b[39m\u001b[38;5;124mnames\u001b[39m\u001b[38;5;124m\"\u001b[39m, \u001b[38;5;28;01mNone\u001b[39;00m))\n\u001b[0;32m    604\u001b[0m \u001b[38;5;66;03m# Create the parser.\u001b[39;00m\n\u001b[1;32m--> 605\u001b[0m parser \u001b[38;5;241m=\u001b[39m TextFileReader(filepath_or_buffer, \u001b[38;5;241m*\u001b[39m\u001b[38;5;241m*\u001b[39mkwds)\n\u001b[0;32m    607\u001b[0m \u001b[38;5;28;01mif\u001b[39;00m chunksize \u001b[38;5;129;01mor\u001b[39;00m iterator:\n\u001b[0;32m    608\u001b[0m     \u001b[38;5;28;01mreturn\u001b[39;00m parser\n",
      "File \u001b[1;32m~\\anaconda3\\lib\\site-packages\\pandas\\io\\parsers\\readers.py:1442\u001b[0m, in \u001b[0;36mTextFileReader.__init__\u001b[1;34m(self, f, engine, **kwds)\u001b[0m\n\u001b[0;32m   1439\u001b[0m     \u001b[38;5;28mself\u001b[39m\u001b[38;5;241m.\u001b[39moptions[\u001b[38;5;124m\"\u001b[39m\u001b[38;5;124mhas_index_names\u001b[39m\u001b[38;5;124m\"\u001b[39m] \u001b[38;5;241m=\u001b[39m kwds[\u001b[38;5;124m\"\u001b[39m\u001b[38;5;124mhas_index_names\u001b[39m\u001b[38;5;124m\"\u001b[39m]\n\u001b[0;32m   1441\u001b[0m \u001b[38;5;28mself\u001b[39m\u001b[38;5;241m.\u001b[39mhandles: IOHandles \u001b[38;5;241m|\u001b[39m \u001b[38;5;28;01mNone\u001b[39;00m \u001b[38;5;241m=\u001b[39m \u001b[38;5;28;01mNone\u001b[39;00m\n\u001b[1;32m-> 1442\u001b[0m \u001b[38;5;28mself\u001b[39m\u001b[38;5;241m.\u001b[39m_engine \u001b[38;5;241m=\u001b[39m \u001b[38;5;28;43mself\u001b[39;49m\u001b[38;5;241;43m.\u001b[39;49m\u001b[43m_make_engine\u001b[49m\u001b[43m(\u001b[49m\u001b[43mf\u001b[49m\u001b[43m,\u001b[49m\u001b[43m \u001b[49m\u001b[38;5;28;43mself\u001b[39;49m\u001b[38;5;241;43m.\u001b[39;49m\u001b[43mengine\u001b[49m\u001b[43m)\u001b[49m\n",
      "File \u001b[1;32m~\\anaconda3\\lib\\site-packages\\pandas\\io\\parsers\\readers.py:1735\u001b[0m, in \u001b[0;36mTextFileReader._make_engine\u001b[1;34m(self, f, engine)\u001b[0m\n\u001b[0;32m   1733\u001b[0m     \u001b[38;5;28;01mif\u001b[39;00m \u001b[38;5;124m\"\u001b[39m\u001b[38;5;124mb\u001b[39m\u001b[38;5;124m\"\u001b[39m \u001b[38;5;129;01mnot\u001b[39;00m \u001b[38;5;129;01min\u001b[39;00m mode:\n\u001b[0;32m   1734\u001b[0m         mode \u001b[38;5;241m+\u001b[39m\u001b[38;5;241m=\u001b[39m \u001b[38;5;124m\"\u001b[39m\u001b[38;5;124mb\u001b[39m\u001b[38;5;124m\"\u001b[39m\n\u001b[1;32m-> 1735\u001b[0m \u001b[38;5;28mself\u001b[39m\u001b[38;5;241m.\u001b[39mhandles \u001b[38;5;241m=\u001b[39m \u001b[43mget_handle\u001b[49m\u001b[43m(\u001b[49m\n\u001b[0;32m   1736\u001b[0m \u001b[43m    \u001b[49m\u001b[43mf\u001b[49m\u001b[43m,\u001b[49m\n\u001b[0;32m   1737\u001b[0m \u001b[43m    \u001b[49m\u001b[43mmode\u001b[49m\u001b[43m,\u001b[49m\n\u001b[0;32m   1738\u001b[0m \u001b[43m    \u001b[49m\u001b[43mencoding\u001b[49m\u001b[38;5;241;43m=\u001b[39;49m\u001b[38;5;28;43mself\u001b[39;49m\u001b[38;5;241;43m.\u001b[39;49m\u001b[43moptions\u001b[49m\u001b[38;5;241;43m.\u001b[39;49m\u001b[43mget\u001b[49m\u001b[43m(\u001b[49m\u001b[38;5;124;43m\"\u001b[39;49m\u001b[38;5;124;43mencoding\u001b[39;49m\u001b[38;5;124;43m\"\u001b[39;49m\u001b[43m,\u001b[49m\u001b[43m \u001b[49m\u001b[38;5;28;43;01mNone\u001b[39;49;00m\u001b[43m)\u001b[49m\u001b[43m,\u001b[49m\n\u001b[0;32m   1739\u001b[0m \u001b[43m    \u001b[49m\u001b[43mcompression\u001b[49m\u001b[38;5;241;43m=\u001b[39;49m\u001b[38;5;28;43mself\u001b[39;49m\u001b[38;5;241;43m.\u001b[39;49m\u001b[43moptions\u001b[49m\u001b[38;5;241;43m.\u001b[39;49m\u001b[43mget\u001b[49m\u001b[43m(\u001b[49m\u001b[38;5;124;43m\"\u001b[39;49m\u001b[38;5;124;43mcompression\u001b[39;49m\u001b[38;5;124;43m\"\u001b[39;49m\u001b[43m,\u001b[49m\u001b[43m \u001b[49m\u001b[38;5;28;43;01mNone\u001b[39;49;00m\u001b[43m)\u001b[49m\u001b[43m,\u001b[49m\n\u001b[0;32m   1740\u001b[0m \u001b[43m    \u001b[49m\u001b[43mmemory_map\u001b[49m\u001b[38;5;241;43m=\u001b[39;49m\u001b[38;5;28;43mself\u001b[39;49m\u001b[38;5;241;43m.\u001b[39;49m\u001b[43moptions\u001b[49m\u001b[38;5;241;43m.\u001b[39;49m\u001b[43mget\u001b[49m\u001b[43m(\u001b[49m\u001b[38;5;124;43m\"\u001b[39;49m\u001b[38;5;124;43mmemory_map\u001b[39;49m\u001b[38;5;124;43m\"\u001b[39;49m\u001b[43m,\u001b[49m\u001b[43m \u001b[49m\u001b[38;5;28;43;01mFalse\u001b[39;49;00m\u001b[43m)\u001b[49m\u001b[43m,\u001b[49m\n\u001b[0;32m   1741\u001b[0m \u001b[43m    \u001b[49m\u001b[43mis_text\u001b[49m\u001b[38;5;241;43m=\u001b[39;49m\u001b[43mis_text\u001b[49m\u001b[43m,\u001b[49m\n\u001b[0;32m   1742\u001b[0m \u001b[43m    \u001b[49m\u001b[43merrors\u001b[49m\u001b[38;5;241;43m=\u001b[39;49m\u001b[38;5;28;43mself\u001b[39;49m\u001b[38;5;241;43m.\u001b[39;49m\u001b[43moptions\u001b[49m\u001b[38;5;241;43m.\u001b[39;49m\u001b[43mget\u001b[49m\u001b[43m(\u001b[49m\u001b[38;5;124;43m\"\u001b[39;49m\u001b[38;5;124;43mencoding_errors\u001b[39;49m\u001b[38;5;124;43m\"\u001b[39;49m\u001b[43m,\u001b[49m\u001b[43m \u001b[49m\u001b[38;5;124;43m\"\u001b[39;49m\u001b[38;5;124;43mstrict\u001b[39;49m\u001b[38;5;124;43m\"\u001b[39;49m\u001b[43m)\u001b[49m\u001b[43m,\u001b[49m\n\u001b[0;32m   1743\u001b[0m \u001b[43m    \u001b[49m\u001b[43mstorage_options\u001b[49m\u001b[38;5;241;43m=\u001b[39;49m\u001b[38;5;28;43mself\u001b[39;49m\u001b[38;5;241;43m.\u001b[39;49m\u001b[43moptions\u001b[49m\u001b[38;5;241;43m.\u001b[39;49m\u001b[43mget\u001b[49m\u001b[43m(\u001b[49m\u001b[38;5;124;43m\"\u001b[39;49m\u001b[38;5;124;43mstorage_options\u001b[39;49m\u001b[38;5;124;43m\"\u001b[39;49m\u001b[43m,\u001b[49m\u001b[43m \u001b[49m\u001b[38;5;28;43;01mNone\u001b[39;49;00m\u001b[43m)\u001b[49m\u001b[43m,\u001b[49m\n\u001b[0;32m   1744\u001b[0m \u001b[43m\u001b[49m\u001b[43m)\u001b[49m\n\u001b[0;32m   1745\u001b[0m \u001b[38;5;28;01massert\u001b[39;00m \u001b[38;5;28mself\u001b[39m\u001b[38;5;241m.\u001b[39mhandles \u001b[38;5;129;01mis\u001b[39;00m \u001b[38;5;129;01mnot\u001b[39;00m \u001b[38;5;28;01mNone\u001b[39;00m\n\u001b[0;32m   1746\u001b[0m f \u001b[38;5;241m=\u001b[39m \u001b[38;5;28mself\u001b[39m\u001b[38;5;241m.\u001b[39mhandles\u001b[38;5;241m.\u001b[39mhandle\n",
      "File \u001b[1;32m~\\anaconda3\\lib\\site-packages\\pandas\\io\\common.py:856\u001b[0m, in \u001b[0;36mget_handle\u001b[1;34m(path_or_buf, mode, encoding, compression, memory_map, is_text, errors, storage_options)\u001b[0m\n\u001b[0;32m    851\u001b[0m \u001b[38;5;28;01melif\u001b[39;00m \u001b[38;5;28misinstance\u001b[39m(handle, \u001b[38;5;28mstr\u001b[39m):\n\u001b[0;32m    852\u001b[0m     \u001b[38;5;66;03m# Check whether the filename is to be opened in binary mode.\u001b[39;00m\n\u001b[0;32m    853\u001b[0m     \u001b[38;5;66;03m# Binary mode does not support 'encoding' and 'newline'.\u001b[39;00m\n\u001b[0;32m    854\u001b[0m     \u001b[38;5;28;01mif\u001b[39;00m ioargs\u001b[38;5;241m.\u001b[39mencoding \u001b[38;5;129;01mand\u001b[39;00m \u001b[38;5;124m\"\u001b[39m\u001b[38;5;124mb\u001b[39m\u001b[38;5;124m\"\u001b[39m \u001b[38;5;129;01mnot\u001b[39;00m \u001b[38;5;129;01min\u001b[39;00m ioargs\u001b[38;5;241m.\u001b[39mmode:\n\u001b[0;32m    855\u001b[0m         \u001b[38;5;66;03m# Encoding\u001b[39;00m\n\u001b[1;32m--> 856\u001b[0m         handle \u001b[38;5;241m=\u001b[39m \u001b[38;5;28;43mopen\u001b[39;49m\u001b[43m(\u001b[49m\n\u001b[0;32m    857\u001b[0m \u001b[43m            \u001b[49m\u001b[43mhandle\u001b[49m\u001b[43m,\u001b[49m\n\u001b[0;32m    858\u001b[0m \u001b[43m            \u001b[49m\u001b[43mioargs\u001b[49m\u001b[38;5;241;43m.\u001b[39;49m\u001b[43mmode\u001b[49m\u001b[43m,\u001b[49m\n\u001b[0;32m    859\u001b[0m \u001b[43m            \u001b[49m\u001b[43mencoding\u001b[49m\u001b[38;5;241;43m=\u001b[39;49m\u001b[43mioargs\u001b[49m\u001b[38;5;241;43m.\u001b[39;49m\u001b[43mencoding\u001b[49m\u001b[43m,\u001b[49m\n\u001b[0;32m    860\u001b[0m \u001b[43m            \u001b[49m\u001b[43merrors\u001b[49m\u001b[38;5;241;43m=\u001b[39;49m\u001b[43merrors\u001b[49m\u001b[43m,\u001b[49m\n\u001b[0;32m    861\u001b[0m \u001b[43m            \u001b[49m\u001b[43mnewline\u001b[49m\u001b[38;5;241;43m=\u001b[39;49m\u001b[38;5;124;43m\"\u001b[39;49m\u001b[38;5;124;43m\"\u001b[39;49m\u001b[43m,\u001b[49m\n\u001b[0;32m    862\u001b[0m \u001b[43m        \u001b[49m\u001b[43m)\u001b[49m\n\u001b[0;32m    863\u001b[0m     \u001b[38;5;28;01melse\u001b[39;00m:\n\u001b[0;32m    864\u001b[0m         \u001b[38;5;66;03m# Binary mode\u001b[39;00m\n\u001b[0;32m    865\u001b[0m         handle \u001b[38;5;241m=\u001b[39m \u001b[38;5;28mopen\u001b[39m(handle, ioargs\u001b[38;5;241m.\u001b[39mmode)\n",
      "\u001b[1;31mFileNotFoundError\u001b[0m: [Errno 2] No such file or directory: '../input/stroke-prediction-dataset/healthcare-dataset-stroke-data.csv'"
     ]
    }
   ],
   "source": [
    "data = pd.read_csv('../input/stroke-prediction-dataset/healthcare-dataset-stroke-data.csv')\n",
    "data.head(20)"
   ]
  },
  {
   "cell_type": "code",
   "execution_count": null,
   "id": "31fda0da",
   "metadata": {
    "execution": {
     "iopub.execute_input": "2022-05-16T02:14:54.242943Z",
     "iopub.status.busy": "2022-05-16T02:14:54.242299Z",
     "iopub.status.idle": "2022-05-16T02:14:54.269946Z",
     "shell.execute_reply": "2022-05-16T02:14:54.269057Z"
    },
    "id": "JmysyRNtlka4",
    "outputId": "e0d211a1-3a10-44d5-f44b-fccdb9fbf248",
    "papermill": {
     "duration": 0.114737,
     "end_time": "2022-05-16T02:14:54.272980",
     "exception": false,
     "start_time": "2022-05-16T02:14:54.158243",
     "status": "completed"
    },
    "tags": []
   },
   "outputs": [],
   "source": [
    "data.info()"
   ]
  },
  {
   "cell_type": "code",
   "execution_count": null,
   "id": "41938eb0",
   "metadata": {
    "execution": {
     "iopub.execute_input": "2022-05-16T02:14:54.444813Z",
     "iopub.status.busy": "2022-05-16T02:14:54.444209Z",
     "iopub.status.idle": "2022-05-16T02:14:54.478387Z",
     "shell.execute_reply": "2022-05-16T02:14:54.477507Z"
    },
    "id": "4RAO_YQt6K7E",
    "outputId": "0b86b4b9-af48-4cda-926b-3c97854ae002",
    "papermill": {
     "duration": 0.1218,
     "end_time": "2022-05-16T02:14:54.480323",
     "exception": false,
     "start_time": "2022-05-16T02:14:54.358523",
     "status": "completed"
    },
    "tags": []
   },
   "outputs": [],
   "source": [
    "data.describe()\n",
    "#some values are missing for bmi\n",
    "#age values has decimals\n",
    "#we need to do some data preprocessing"
   ]
  },
  {
   "cell_type": "markdown",
   "id": "f20bcd9d",
   "metadata": {
    "id": "jq_gYeNDmKcn",
    "papermill": {
     "duration": 0.086669,
     "end_time": "2022-05-16T02:14:54.651228",
     "exception": false,
     "start_time": "2022-05-16T02:14:54.564559",
     "status": "completed"
    },
    "tags": []
   },
   "source": [
    "# **Data preprocessing**"
   ]
  },
  {
   "cell_type": "markdown",
   "id": "476d2a1c",
   "metadata": {
    "id": "DXaHhaBahJb0",
    "papermill": {
     "duration": 0.085288,
     "end_time": "2022-05-16T02:14:54.820833",
     "exception": false,
     "start_time": "2022-05-16T02:14:54.735545",
     "status": "completed"
    },
    "tags": []
   },
   "source": [
    "**Replace NAN values in 'BMI' column with mean of column (BMI) values**"
   ]
  },
  {
   "cell_type": "code",
   "execution_count": null,
   "id": "1f9ef112",
   "metadata": {
    "execution": {
     "iopub.execute_input": "2022-05-16T02:14:54.994503Z",
     "iopub.status.busy": "2022-05-16T02:14:54.994204Z",
     "iopub.status.idle": "2022-05-16T02:14:55.000081Z",
     "shell.execute_reply": "2022-05-16T02:14:54.999249Z"
    },
    "id": "11PkxFwzc05C",
    "papermill": {
     "duration": 0.094981,
     "end_time": "2022-05-16T02:14:55.002271",
     "exception": false,
     "start_time": "2022-05-16T02:14:54.907290",
     "status": "completed"
    },
    "tags": []
   },
   "outputs": [],
   "source": [
    "mean_value = data['bmi'].mean()\n",
    "data['bmi'].fillna(value = mean_value, inplace = True) "
   ]
  },
  {
   "cell_type": "markdown",
   "id": "3f9aad6c",
   "metadata": {
    "id": "-NO1QKUyhp5q",
    "papermill": {
     "duration": 0.085433,
     "end_time": "2022-05-16T02:14:55.174628",
     "exception": false,
     "start_time": "2022-05-16T02:14:55.089195",
     "status": "completed"
    },
    "tags": []
   },
   "source": [
    "**Approximate age values to the nearest whole number**"
   ]
  },
  {
   "cell_type": "code",
   "execution_count": null,
   "id": "4cb0947e",
   "metadata": {
    "execution": {
     "iopub.execute_input": "2022-05-16T02:14:55.346772Z",
     "iopub.status.busy": "2022-05-16T02:14:55.346478Z",
     "iopub.status.idle": "2022-05-16T02:14:55.352148Z",
     "shell.execute_reply": "2022-05-16T02:14:55.351467Z"
    },
    "id": "cvYxTZU9hwR2",
    "papermill": {
     "duration": 0.094394,
     "end_time": "2022-05-16T02:14:55.354147",
     "exception": false,
     "start_time": "2022-05-16T02:14:55.259753",
     "status": "completed"
    },
    "tags": []
   },
   "outputs": [],
   "source": [
    "data['age'] = (data['age'].apply(np.ceil)).astype('int64')"
   ]
  },
  {
   "cell_type": "markdown",
   "id": "28f8c719",
   "metadata": {
    "id": "rncMjuj3xqax",
    "papermill": {
     "duration": 0.085311,
     "end_time": "2022-05-16T02:14:55.525148",
     "exception": false,
     "start_time": "2022-05-16T02:14:55.439837",
     "status": "completed"
    },
    "tags": []
   },
   "source": [
    "**Delete single data with gender 'other'**"
   ]
  },
  {
   "cell_type": "code",
   "execution_count": null,
   "id": "dbbae128",
   "metadata": {
    "execution": {
     "iopub.execute_input": "2022-05-16T02:14:55.698388Z",
     "iopub.status.busy": "2022-05-16T02:14:55.697844Z",
     "iopub.status.idle": "2022-05-16T02:14:55.705805Z",
     "shell.execute_reply": "2022-05-16T02:14:55.705121Z"
    },
    "id": "nBcYrVrdxmzQ",
    "papermill": {
     "duration": 0.097059,
     "end_time": "2022-05-16T02:14:55.707959",
     "exception": false,
     "start_time": "2022-05-16T02:14:55.610900",
     "status": "completed"
    },
    "tags": []
   },
   "outputs": [],
   "source": [
    "data.drop(data[data.gender == 'Other'].index, inplace = True)"
   ]
  },
  {
   "cell_type": "markdown",
   "id": "75b43865",
   "metadata": {
    "id": "RXHTsOQbUHsR",
    "papermill": {
     "duration": 0.085397,
     "end_time": "2022-05-16T02:14:55.879682",
     "exception": false,
     "start_time": "2022-05-16T02:14:55.794285",
     "status": "completed"
    },
    "tags": []
   },
   "source": [
    "**Delete data with smoking_status 'unknown'**"
   ]
  },
  {
   "cell_type": "code",
   "execution_count": null,
   "id": "a3873885",
   "metadata": {
    "execution": {
     "iopub.execute_input": "2022-05-16T02:14:56.053614Z",
     "iopub.status.busy": "2022-05-16T02:14:56.053043Z",
     "iopub.status.idle": "2022-05-16T02:14:56.061445Z",
     "shell.execute_reply": "2022-05-16T02:14:56.060616Z"
    },
    "id": "5dNHhbYbUSkb",
    "papermill": {
     "duration": 0.098897,
     "end_time": "2022-05-16T02:14:56.063816",
     "exception": false,
     "start_time": "2022-05-16T02:14:55.964919",
     "status": "completed"
    },
    "tags": []
   },
   "outputs": [],
   "source": [
    "data.drop(data[data.smoking_status == 'Unknown'].index, inplace = True)"
   ]
  },
  {
   "cell_type": "code",
   "execution_count": null,
   "id": "6b63a4e5",
   "metadata": {
    "_kg_hide-input": true,
    "_kg_hide-output": true,
    "execution": {
     "iopub.execute_input": "2022-05-16T02:14:56.237361Z",
     "iopub.status.busy": "2022-05-16T02:14:56.236821Z",
     "iopub.status.idle": "2022-05-16T02:14:56.257758Z",
     "shell.execute_reply": "2022-05-16T02:14:56.256945Z"
    },
    "id": "Sg_WTo_Ajo14",
    "jupyter": {
     "outputs_hidden": true
    },
    "outputId": "46321dbd-930b-4cd0-958a-0f8430c1ae5d",
    "papermill": {
     "duration": 0.109524,
     "end_time": "2022-05-16T02:14:56.259835",
     "exception": false,
     "start_time": "2022-05-16T02:14:56.150311",
     "status": "completed"
    },
    "tags": []
   },
   "outputs": [],
   "source": [
    "data.tail(20)"
   ]
  },
  {
   "cell_type": "markdown",
   "id": "06061c8d",
   "metadata": {
    "papermill": {
     "duration": 0.085673,
     "end_time": "2022-05-16T02:14:56.431349",
     "exception": false,
     "start_time": "2022-05-16T02:14:56.345676",
     "status": "completed"
    },
    "tags": []
   },
   "source": [
    "# Encode data"
   ]
  },
  {
   "cell_type": "markdown",
   "id": "d2bc7c2a",
   "metadata": {
    "_kg_hide-input": true,
    "id": "h2ENO_ngmzGN",
    "papermill": {
     "duration": 0.085397,
     "end_time": "2022-05-16T02:14:56.602952",
     "exception": false,
     "start_time": "2022-05-16T02:14:56.517555",
     "status": "completed"
    },
    "tags": []
   },
   "source": [
    "- ever_married (0-no, 1-yes)\n",
    "- Residence_type (0 - rural, 1-urban)\n",
    "- gender (0 - female, 1-male)\n",
    "- smoking status (formally_smoked-0, never_smoked-1, smokes-2)\n",
    "- work_type (Govt_job-0, never_worked-1 private-2,  self_employed-3,  children-4)"
   ]
  },
  {
   "cell_type": "code",
   "execution_count": null,
   "id": "5920d97a",
   "metadata": {
    "execution": {
     "iopub.execute_input": "2022-05-16T02:14:56.777328Z",
     "iopub.status.busy": "2022-05-16T02:14:56.776927Z",
     "iopub.status.idle": "2022-05-16T02:14:57.846845Z",
     "shell.execute_reply": "2022-05-16T02:14:57.845814Z"
    },
    "id": "nmfnNnBZnNwB",
    "papermill": {
     "duration": 1.160681,
     "end_time": "2022-05-16T02:14:57.849288",
     "exception": false,
     "start_time": "2022-05-16T02:14:56.688607",
     "status": "completed"
    },
    "tags": []
   },
   "outputs": [],
   "source": [
    "from sklearn.preprocessing import LabelEncoder\n",
    "le = LabelEncoder() \n",
    "data['gender'] = data[['gender']].apply(le.fit_transform)\n",
    "data['ever_married'] = data[['ever_married']].apply(le.fit_transform)\n",
    "data ['Residence_type'] = data[['Residence_type']].apply(le.fit_transform)\n",
    "data['work_type'] = data[['work_type']].apply(le.fit_transform)\n",
    "data ['smoking_status'] = data[['smoking_status']].apply(le.fit_transform)"
   ]
  },
  {
   "cell_type": "code",
   "execution_count": null,
   "id": "6d57b214",
   "metadata": {
    "_kg_hide-input": true,
    "_kg_hide-output": true,
    "execution": {
     "iopub.execute_input": "2022-05-16T02:14:58.025069Z",
     "iopub.status.busy": "2022-05-16T02:14:58.024785Z",
     "iopub.status.idle": "2022-05-16T02:14:58.044362Z",
     "shell.execute_reply": "2022-05-16T02:14:58.043683Z"
    },
    "id": "DXLt6GjLngfK",
    "outputId": "6dd5e671-68f5-46cf-b37c-119f595508e7",
    "papermill": {
     "duration": 0.110497,
     "end_time": "2022-05-16T02:14:58.046423",
     "exception": false,
     "start_time": "2022-05-16T02:14:57.935926",
     "status": "completed"
    },
    "tags": []
   },
   "outputs": [],
   "source": [
    "data.tail(20)"
   ]
  },
  {
   "cell_type": "code",
   "execution_count": null,
   "id": "87945882",
   "metadata": {
    "_kg_hide-input": true,
    "_kg_hide-output": true,
    "execution": {
     "iopub.execute_input": "2022-05-16T02:14:58.227239Z",
     "iopub.status.busy": "2022-05-16T02:14:58.226430Z",
     "iopub.status.idle": "2022-05-16T02:14:58.230974Z",
     "shell.execute_reply": "2022-05-16T02:14:58.230023Z"
    },
    "id": "Ri4qdJ35uOiz",
    "outputId": "19148e15-ed94-4b61-82c9-df04c26a3cf6",
    "papermill": {
     "duration": 0.097541,
     "end_time": "2022-05-16T02:14:58.232936",
     "exception": false,
     "start_time": "2022-05-16T02:14:58.135395",
     "status": "completed"
    },
    "tags": []
   },
   "outputs": [],
   "source": [
    "#data.describe()"
   ]
  },
  {
   "cell_type": "markdown",
   "id": "8618b531",
   "metadata": {
    "id": "_vf5g_HEUPmi",
    "papermill": {
     "duration": 0.089296,
     "end_time": "2022-05-16T02:14:58.410570",
     "exception": false,
     "start_time": "2022-05-16T02:14:58.321274",
     "status": "completed"
    },
    "tags": []
   },
   "source": [
    "# **Exploratory Data Analysis (EDA)**"
   ]
  },
  {
   "cell_type": "markdown",
   "id": "0ab3a924",
   "metadata": {
    "id": "Z1MTFR7ruqmf",
    "papermill": {
     "duration": 0.089318,
     "end_time": "2022-05-16T02:14:58.589652",
     "exception": false,
     "start_time": "2022-05-16T02:14:58.500334",
     "status": "completed"
    },
    "tags": []
   },
   "source": [
    "## **Visualize the dataset**"
   ]
  },
  {
   "cell_type": "markdown",
   "id": "067fe3a2",
   "metadata": {
    "id": "viSHxVh7Lu17",
    "papermill": {
     "duration": 0.088115,
     "end_time": "2022-05-16T02:14:58.765809",
     "exception": false,
     "start_time": "2022-05-16T02:14:58.677694",
     "status": "completed"
    },
    "tags": []
   },
   "source": [
    "### **Stroke vs No-stroke Observations**\n",
    "\n",
    "Observation: The dataset is imbalanced for stroke and no_stroke observations.\n",
    "\n",
    "The ratio for Stroke Vs NoStroke is 202:3363 which is approximately 1:17\n",
    "i.e 1 in 17 people are affected by stroke in the dataset"
   ]
  },
  {
   "cell_type": "code",
   "execution_count": null,
   "id": "6af545b8",
   "metadata": {
    "_kg_hide-input": true,
    "execution": {
     "iopub.execute_input": "2022-05-16T02:14:58.947233Z",
     "iopub.status.busy": "2022-05-16T02:14:58.946410Z",
     "iopub.status.idle": "2022-05-16T02:14:59.143199Z",
     "shell.execute_reply": "2022-05-16T02:14:59.142019Z"
    },
    "id": "fEhpC2_tcd-b",
    "outputId": "0385e1af-6d48-4b06-b541-12e1b7bf25f9",
    "papermill": {
     "duration": 0.289902,
     "end_time": "2022-05-16T02:14:59.145831",
     "exception": false,
     "start_time": "2022-05-16T02:14:58.855929",
     "status": "completed"
    },
    "tags": []
   },
   "outputs": [],
   "source": [
    "#Split the data into those with stroke and without stroke\n",
    "no_stroke = data[data['stroke'] == 0] #extract the information of those without stroke\n",
    "no_stroke_extract = no_stroke['stroke'] #extract one column \n",
    "\n",
    "yes_stroke = data[data['stroke'] == 1] #extract the information of those with stroke\n",
    "yes_stroke_extract = yes_stroke['stroke'] #extract one column\n",
    "\n",
    "count = [yes_stroke_extract.count(), no_stroke_extract.count()]\n",
    "labels = ('stoke', 'no stroke')\n",
    "\n",
    "#plot stroke vs no stroke observations\n",
    "plt.bar(labels, count)\n",
    "print (\"number with stroke: \",yes_stroke_extract.count())\n",
    "print (\"number without stroke: \",no_stroke_extract.count())\n",
    "print (\"\\n\")"
   ]
  },
  {
   "cell_type": "code",
   "execution_count": null,
   "id": "d3e22c64",
   "metadata": {
    "_kg_hide-input": true,
    "_kg_hide-output": true,
    "execution": {
     "iopub.execute_input": "2022-05-16T02:14:59.328219Z",
     "iopub.status.busy": "2022-05-16T02:14:59.327312Z",
     "iopub.status.idle": "2022-05-16T02:14:59.689120Z",
     "shell.execute_reply": "2022-05-16T02:14:59.687968Z"
    },
    "id": "3rd99rFQb7zv",
    "outputId": "63a205db-de15-4c9c-b491-a4563d2524a0",
    "papermill": {
     "duration": 0.454798,
     "end_time": "2022-05-16T02:14:59.691476",
     "exception": false,
     "start_time": "2022-05-16T02:14:59.236678",
     "status": "completed"
    },
    "tags": []
   },
   "outputs": [],
   "source": [
    "#same plot as above: Using seaborn to visualize stroke vs no stroke observations\n",
    "import seaborn as sns\n",
    "g = sns.countplot(data['stroke'])\n",
    "g.set_xticklabels(['no stroke','stroke'])\n",
    "plt.show()"
   ]
  },
  {
   "cell_type": "markdown",
   "id": "e6e3a88c",
   "metadata": {
    "id": "lodmrNs2gM5s",
    "papermill": {
     "duration": 0.091291,
     "end_time": "2022-05-16T02:14:59.874859",
     "exception": false,
     "start_time": "2022-05-16T02:14:59.783568",
     "status": "completed"
    },
    "tags": []
   },
   "source": [
    "### **Feature analysis**"
   ]
  },
  {
   "cell_type": "code",
   "execution_count": null,
   "id": "dbb9b388",
   "metadata": {
    "execution": {
     "iopub.execute_input": "2022-05-16T02:15:00.061315Z",
     "iopub.status.busy": "2022-05-16T02:15:00.061014Z",
     "iopub.status.idle": "2022-05-16T02:15:00.107424Z",
     "shell.execute_reply": "2022-05-16T02:15:00.106561Z"
    },
    "id": "uUhhrh45gekG",
    "outputId": "bf02252d-3376-4600-af2d-79cfb588b0f2",
    "papermill": {
     "duration": 0.143628,
     "end_time": "2022-05-16T02:15:00.109806",
     "exception": false,
     "start_time": "2022-05-16T02:14:59.966178",
     "status": "completed"
    },
    "tags": []
   },
   "outputs": [],
   "source": [
    "yes_stroke.describe() #observations with stroke\n",
    "#minimum age is 32"
   ]
  },
  {
   "cell_type": "code",
   "execution_count": null,
   "id": "8fa2fe29",
   "metadata": {
    "execution": {
     "iopub.execute_input": "2022-05-16T02:15:00.295484Z",
     "iopub.status.busy": "2022-05-16T02:15:00.295210Z",
     "iopub.status.idle": "2022-05-16T02:15:00.340488Z",
     "shell.execute_reply": "2022-05-16T02:15:00.339827Z"
    },
    "id": "M9IDf2nvgkzB",
    "outputId": "1ed30f06-6bf4-4357-af9b-436fa7ae5bfd",
    "papermill": {
     "duration": 0.140388,
     "end_time": "2022-05-16T02:15:00.342581",
     "exception": false,
     "start_time": "2022-05-16T02:15:00.202193",
     "status": "completed"
    },
    "tags": []
   },
   "outputs": [],
   "source": [
    "no_stroke.describe() #observations without stroke"
   ]
  },
  {
   "cell_type": "markdown",
   "id": "53f225b7",
   "metadata": {
    "id": "uTcyMjE_JOTU",
    "papermill": {
     "duration": 0.09171,
     "end_time": "2022-05-16T02:15:00.531384",
     "exception": false,
     "start_time": "2022-05-16T02:15:00.439674",
     "status": "completed"
    },
    "tags": []
   },
   "source": [
    "**Age vs stroke**"
   ]
  },
  {
   "cell_type": "code",
   "execution_count": null,
   "id": "f3780311",
   "metadata": {
    "execution": {
     "iopub.execute_input": "2022-05-16T02:15:00.719901Z",
     "iopub.status.busy": "2022-05-16T02:15:00.719263Z",
     "iopub.status.idle": "2022-05-16T02:15:12.766703Z",
     "shell.execute_reply": "2022-05-16T02:15:12.765643Z"
    },
    "id": "tULC7iWfFstX",
    "outputId": "336be87a-5169-4afc-9bf7-90a1bcedcbe5",
    "papermill": {
     "duration": 12.144783,
     "end_time": "2022-05-16T02:15:12.769640",
     "exception": false,
     "start_time": "2022-05-16T02:15:00.624857",
     "status": "completed"
    },
    "tags": []
   },
   "outputs": [],
   "source": [
    "#Stroke chances increases with age, starting from age 32 \n",
    "sns.lineplot(data=data, x=\"stroke\", y=\"age\")\n",
    "sns.catplot(data=data, kind = \"swarm\", x=\"stroke\", y=\"age\")"
   ]
  },
  {
   "cell_type": "markdown",
   "id": "3248a20e",
   "metadata": {
    "id": "HDW_DnTBI7uD",
    "papermill": {
     "duration": 0.09737,
     "end_time": "2022-05-16T02:15:12.964230",
     "exception": false,
     "start_time": "2022-05-16T02:15:12.866860",
     "status": "completed"
    },
    "tags": []
   },
   "source": [
    "**Gender vs stroke**"
   ]
  },
  {
   "cell_type": "code",
   "execution_count": null,
   "id": "60a54048",
   "metadata": {
    "execution": {
     "iopub.execute_input": "2022-05-16T02:15:13.160841Z",
     "iopub.status.busy": "2022-05-16T02:15:13.160515Z",
     "iopub.status.idle": "2022-05-16T02:15:13.504248Z",
     "shell.execute_reply": "2022-05-16T02:15:13.503352Z"
    },
    "id": "Fd8Vmx5r_S31",
    "outputId": "07831d0c-d6b3-429b-8480-ecf7d514b31f",
    "papermill": {
     "duration": 0.444091,
     "end_time": "2022-05-16T02:15:13.506621",
     "exception": false,
     "start_time": "2022-05-16T02:15:13.062530",
     "status": "completed"
    },
    "tags": []
   },
   "outputs": [],
   "source": [
    "#The dataset have a good gender distribution\n",
    "sns.catplot(data=data, kind=\"bar\", x=\"gender\", y=\"stroke\") "
   ]
  },
  {
   "cell_type": "markdown",
   "id": "da629994",
   "metadata": {
    "id": "llOiAofIJwiC",
    "papermill": {
     "duration": 0.098833,
     "end_time": "2022-05-16T02:15:13.703596",
     "exception": false,
     "start_time": "2022-05-16T02:15:13.604763",
     "status": "completed"
    },
    "tags": []
   },
   "source": [
    "**Body health statistics vs stroke**"
   ]
  },
  {
   "cell_type": "code",
   "execution_count": null,
   "id": "035e87c8",
   "metadata": {
    "execution": {
     "iopub.execute_input": "2022-05-16T02:15:13.905077Z",
     "iopub.status.busy": "2022-05-16T02:15:13.904452Z",
     "iopub.status.idle": "2022-05-16T02:15:14.256436Z",
     "shell.execute_reply": "2022-05-16T02:15:14.255803Z"
    },
    "id": "LNzdjmMaJ4uO",
    "outputId": "a5efee53-1efc-4546-9378-039868d28f36",
    "papermill": {
     "duration": 0.455129,
     "end_time": "2022-05-16T02:15:14.258441",
     "exception": false,
     "start_time": "2022-05-16T02:15:13.803312",
     "status": "completed"
    },
    "tags": []
   },
   "outputs": [],
   "source": [
    "#bmi, stroke\n",
    "#plot shows that people with stroke have higher bmi values\n",
    "\n",
    "sns.lineplot(data=data, x=\"stroke\", y=\"bmi\", hue=\"stroke\") "
   ]
  },
  {
   "cell_type": "code",
   "execution_count": null,
   "id": "f70f4128",
   "metadata": {
    "execution": {
     "iopub.execute_input": "2022-05-16T02:15:14.459324Z",
     "iopub.status.busy": "2022-05-16T02:15:14.458825Z",
     "iopub.status.idle": "2022-05-16T02:15:24.078511Z",
     "shell.execute_reply": "2022-05-16T02:15:24.077683Z"
    },
    "id": "QsXqlOimKQv1",
    "outputId": "4c0c9e13-dda0-434a-8797-d24e8b50418f",
    "papermill": {
     "duration": 9.723407,
     "end_time": "2022-05-16T02:15:24.080767",
     "exception": false,
     "start_time": "2022-05-16T02:15:14.357360",
     "status": "completed"
    },
    "tags": []
   },
   "outputs": [],
   "source": [
    "#line plot for stroke, bmi vs heart diesase\n",
    "sns.lineplot(data=data, x=\"bmi\", y=\"heart_disease\", hue='stroke')"
   ]
  },
  {
   "cell_type": "markdown",
   "id": "8fc651c7",
   "metadata": {
    "id": "w4rVP6iU-y7N",
    "papermill": {
     "duration": 0.100263,
     "end_time": "2022-05-16T02:15:24.285414",
     "exception": false,
     "start_time": "2022-05-16T02:15:24.185151",
     "status": "completed"
    },
    "tags": []
   },
   "source": [
    "**Disease vs stroke**"
   ]
  },
  {
   "cell_type": "code",
   "execution_count": null,
   "id": "caaa17de",
   "metadata": {
    "execution": {
     "iopub.execute_input": "2022-05-16T02:15:24.488778Z",
     "iopub.status.busy": "2022-05-16T02:15:24.488230Z",
     "iopub.status.idle": "2022-05-16T02:15:25.218221Z",
     "shell.execute_reply": "2022-05-16T02:15:25.217351Z"
    },
    "id": "kU_mJIUoNjDA",
    "outputId": "433f238b-2bc3-4084-f9c7-ff8dd3fc1ac2",
    "papermill": {
     "duration": 0.834661,
     "end_time": "2022-05-16T02:15:25.221105",
     "exception": false,
     "start_time": "2022-05-16T02:15:24.386444",
     "status": "completed"
    },
    "tags": []
   },
   "outputs": [],
   "source": [
    "#hypertension and heart disease increases the risk of an individual having a stroke\n",
    "sns.catplot(data=data, kind=\"bar\", x=\"stroke\", y=\"heart_disease\", hue=\"stroke\") #heart disease vs stroke\n",
    "sns.catplot(data=data, kind=\"bar\", x=\"stroke\", y=\"hypertension\", hue=\"stroke\") #hypertension vs stroke"
   ]
  },
  {
   "cell_type": "markdown",
   "id": "4c383bc5",
   "metadata": {
    "id": "LiFpyB7BMiI5",
    "papermill": {
     "duration": 0.102852,
     "end_time": "2022-05-16T02:15:25.427275",
     "exception": false,
     "start_time": "2022-05-16T02:15:25.324423",
     "status": "completed"
    },
    "tags": []
   },
   "source": [
    "**Habits vs stroke**"
   ]
  },
  {
   "cell_type": "code",
   "execution_count": null,
   "id": "aae2b737",
   "metadata": {
    "execution": {
     "iopub.execute_input": "2022-05-16T02:15:25.634220Z",
     "iopub.status.busy": "2022-05-16T02:15:25.633948Z",
     "iopub.status.idle": "2022-05-16T02:15:26.006500Z",
     "shell.execute_reply": "2022-05-16T02:15:26.005469Z"
    },
    "id": "aPZy-8ZyEoZS",
    "outputId": "5557fc15-6203-43fb-b167-a0702a8d15d7",
    "papermill": {
     "duration": 0.478489,
     "end_time": "2022-05-16T02:15:26.008614",
     "exception": false,
     "start_time": "2022-05-16T02:15:25.530125",
     "status": "completed"
    },
    "tags": []
   },
   "outputs": [],
   "source": [
    "#Those who never smoked have almost equal observations with current smokers. We can safely conclude that smoking status has little or no risk effect for stroke\n",
    "sns.catplot(data=data, kind=\"bar\", x=\"smoking_status\", y=\"stroke\")\n"
   ]
  },
  {
   "cell_type": "code",
   "execution_count": null,
   "id": "21b84fbd",
   "metadata": {
    "_kg_hide-input": false,
    "_kg_hide-output": true,
    "execution": {
     "iopub.execute_input": "2022-05-16T02:15:26.223590Z",
     "iopub.status.busy": "2022-05-16T02:15:26.222577Z",
     "iopub.status.idle": "2022-05-16T02:15:31.527281Z",
     "shell.execute_reply": "2022-05-16T02:15:31.526462Z"
    },
    "id": "5t-XsD5SORqX",
    "outputId": "cd27e8d2-d73f-4ef1-adf8-6ca8aee7af6d",
    "papermill": {
     "duration": 5.415033,
     "end_time": "2022-05-16T02:15:31.529313",
     "exception": false,
     "start_time": "2022-05-16T02:15:26.114280",
     "status": "completed"
    },
    "tags": []
   },
   "outputs": [],
   "source": [
    "#smoking status vs age\n",
    "#plot tells us there are a number of people below 30 who smoke, but they do not have stroke\n",
    "\n",
    "sns.catplot(data=data, kind=\"swarm\", x=\"smoking_status\", y=\"age\", hue = \"stroke\")"
   ]
  },
  {
   "cell_type": "code",
   "execution_count": null,
   "id": "10482a93",
   "metadata": {
    "_kg_hide-output": true,
    "execution": {
     "iopub.execute_input": "2022-05-16T02:15:31.754844Z",
     "iopub.status.busy": "2022-05-16T02:15:31.754373Z",
     "iopub.status.idle": "2022-05-16T02:15:39.958887Z",
     "shell.execute_reply": "2022-05-16T02:15:39.957906Z"
    },
    "id": "BDeE7fMFUvNa",
    "outputId": "82f4881f-b98a-4b97-81a2-d9ad92fc926c",
    "papermill": {
     "duration": 8.32206,
     "end_time": "2022-05-16T02:15:39.961979",
     "exception": false,
     "start_time": "2022-05-16T02:15:31.639919",
     "status": "completed"
    },
    "tags": []
   },
   "outputs": [],
   "source": [
    "#avg_glucose_level, smoking status, stroke \n",
    "sns.catplot(data=data, kind=\"swarm\", x=\"smoking_status\", y=\"avg_glucose_level\", hue = \"stroke\")"
   ]
  },
  {
   "cell_type": "markdown",
   "id": "4b3d8fea",
   "metadata": {
    "id": "OpQdLcGbDB7N",
    "papermill": {
     "duration": 0.12527,
     "end_time": "2022-05-16T02:15:40.210055",
     "exception": false,
     "start_time": "2022-05-16T02:15:40.084785",
     "status": "completed"
    },
    "tags": []
   },
   "source": [
    "**Other features analysis**"
   ]
  },
  {
   "cell_type": "code",
   "execution_count": null,
   "id": "051c685c",
   "metadata": {
    "execution": {
     "iopub.execute_input": "2022-05-16T02:15:40.459962Z",
     "iopub.status.busy": "2022-05-16T02:15:40.458844Z",
     "iopub.status.idle": "2022-05-16T02:15:51.013381Z",
     "shell.execute_reply": "2022-05-16T02:15:51.012399Z"
    },
    "id": "7M8GujV5XZMh",
    "outputId": "cb680299-6d07-4808-bc9f-6e4a75a234a7",
    "papermill": {
     "duration": 10.681876,
     "end_time": "2022-05-16T02:15:51.017086",
     "exception": false,
     "start_time": "2022-05-16T02:15:40.335210",
     "status": "completed"
    },
    "tags": []
   },
   "outputs": [],
   "source": [
    "#ever married, age and stroke\n",
    "#plot shows that a higher number of married people have stroke compared to the single folks\n",
    "sns.catplot(data=data, kind=\"swarm\", x=\"ever_married\", y=\"age\", hue=\"stroke\") "
   ]
  },
  {
   "cell_type": "code",
   "execution_count": null,
   "id": "1ef125af",
   "metadata": {
    "execution": {
     "iopub.execute_input": "2022-05-16T02:15:51.256168Z",
     "iopub.status.busy": "2022-05-16T02:15:51.255486Z",
     "iopub.status.idle": "2022-05-16T02:15:51.595873Z",
     "shell.execute_reply": "2022-05-16T02:15:51.595248Z"
    },
    "id": "ZmolwPnDfI-M",
    "outputId": "d050d826-1561-49cd-8633-5b63d61b0db0",
    "papermill": {
     "duration": 0.461214,
     "end_time": "2022-05-16T02:15:51.598008",
     "exception": false,
     "start_time": "2022-05-16T02:15:51.136794",
     "status": "completed"
    },
    "tags": []
   },
   "outputs": [],
   "source": [
    "sns.catplot(data=data, kind=\"bar\", x=\"ever_married\", y=\"stroke\") #ever married, age, stroke"
   ]
  },
  {
   "cell_type": "code",
   "execution_count": null,
   "id": "357ad774",
   "metadata": {
    "execution": {
     "iopub.execute_input": "2022-05-16T02:15:51.839422Z",
     "iopub.status.busy": "2022-05-16T02:15:51.839133Z",
     "iopub.status.idle": "2022-05-16T02:15:52.307578Z",
     "shell.execute_reply": "2022-05-16T02:15:52.306986Z"
    },
    "id": "e8peA76KOvSO",
    "outputId": "f35349b4-5b26-45d8-f095-1b6d519925c5",
    "papermill": {
     "duration": 0.591547,
     "end_time": "2022-05-16T02:15:52.309492",
     "exception": false,
     "start_time": "2022-05-16T02:15:51.717945",
     "status": "completed"
    },
    "tags": []
   },
   "outputs": [],
   "source": [
    "#residence type, gender, stroke\n",
    "#plot show that residence type have no effect on the risk of stroke\n",
    "\n",
    "sns.catplot(data=data, kind=\"bar\", x=\"Residence_type\", y=\"gender\", hue=\"stroke\")"
   ]
  },
  {
   "cell_type": "code",
   "execution_count": null,
   "id": "a756dff7",
   "metadata": {
    "execution": {
     "iopub.execute_input": "2022-05-16T02:15:52.559843Z",
     "iopub.status.busy": "2022-05-16T02:15:52.559532Z",
     "iopub.status.idle": "2022-05-16T02:15:53.181380Z",
     "shell.execute_reply": "2022-05-16T02:15:53.180339Z"
    },
    "id": "wcrxcYL-CbVO",
    "outputId": "7fc31904-6ea1-49b4-9f49-b17261ed308e",
    "papermill": {
     "duration": 0.749222,
     "end_time": "2022-05-16T02:15:53.183659",
     "exception": false,
     "start_time": "2022-05-16T02:15:52.434437",
     "status": "completed"
    },
    "tags": []
   },
   "outputs": [],
   "source": [
    "#residence type, work type, stroke\n",
    "#work type private (encoded as 1) have no observations for those who have stroke, the rest shows pretty similar plots. \n",
    "#We could assume two things. The first is there was no data collected for private workers who had stroke. \n",
    "#Secondly, there might be the possibility that the risk of private workers having a stroke is low\n",
    "\n",
    "sns.catplot(data=data, kind=\"bar\", x=\"work_type\", y=\"Residence_type\", hue=\"stroke\")"
   ]
  },
  {
   "cell_type": "markdown",
   "id": "f3bdd340",
   "metadata": {
    "id": "YTM573uwpFpQ",
    "papermill": {
     "duration": 0.121691,
     "end_time": "2022-05-16T02:15:53.427882",
     "exception": false,
     "start_time": "2022-05-16T02:15:53.306191",
     "status": "completed"
    },
    "tags": []
   },
   "source": [
    "### **Visualize stroke cases only**"
   ]
  },
  {
   "cell_type": "code",
   "execution_count": null,
   "id": "1b3a9f1c",
   "metadata": {
    "execution": {
     "iopub.execute_input": "2022-05-16T02:15:53.673949Z",
     "iopub.status.busy": "2022-05-16T02:15:53.673635Z",
     "iopub.status.idle": "2022-05-16T02:15:54.018464Z",
     "shell.execute_reply": "2022-05-16T02:15:54.017649Z"
    },
    "id": "O-7SfAAMS4ly",
    "outputId": "192588cd-d350-4ee9-d9f0-11b3db860d6e",
    "papermill": {
     "duration": 0.470452,
     "end_time": "2022-05-16T02:15:54.020503",
     "exception": false,
     "start_time": "2022-05-16T02:15:53.550051",
     "status": "completed"
    },
    "tags": []
   },
   "outputs": [],
   "source": [
    "###Analysis of yes-stroke_cases 'actual stroke cases' by age and gender\n",
    "#From age 30, there is an increased risk for stroke\n",
    "#Women in their 30s and early 40s are likely to have stroke than men\n",
    "\n",
    "#plot of age and gender\n",
    "g = sns.catplot(data=yes_stroke, kind=\"swarm\",x=\"stroke\", y=\"age\", hue=\"gender\")\n",
    "g.set_axis_labels(\"stroke cases\", \"age\")\n",
    "g.legend.set_title(\"0-female, 1-male\")"
   ]
  },
  {
   "cell_type": "code",
   "execution_count": null,
   "id": "fa89a726",
   "metadata": {
    "execution": {
     "iopub.execute_input": "2022-05-16T02:15:54.271481Z",
     "iopub.status.busy": "2022-05-16T02:15:54.270896Z",
     "iopub.status.idle": "2022-05-16T02:15:54.495740Z",
     "shell.execute_reply": "2022-05-16T02:15:54.494914Z"
    },
    "id": "8-5kXwAZrUN1",
    "outputId": "dbc32767-9a7d-4881-822c-55457c465abe",
    "papermill": {
     "duration": 0.351657,
     "end_time": "2022-05-16T02:15:54.497956",
     "exception": false,
     "start_time": "2022-05-16T02:15:54.146299",
     "status": "completed"
    },
    "tags": []
   },
   "outputs": [],
   "source": [
    "sns.catplot(data=yes_stroke, kind=\"swarm\",x=\"gender\", y=\"age\")"
   ]
  },
  {
   "cell_type": "code",
   "execution_count": null,
   "id": "5ed5f4d5",
   "metadata": {
    "execution": {
     "iopub.execute_input": "2022-05-16T02:15:54.750706Z",
     "iopub.status.busy": "2022-05-16T02:15:54.750416Z",
     "iopub.status.idle": "2022-05-16T02:15:55.245851Z",
     "shell.execute_reply": "2022-05-16T02:15:55.244942Z"
    },
    "id": "gFO2_1l8YjN_",
    "outputId": "9ec9e570-c190-4b77-9c4d-fef8ebaf6588",
    "papermill": {
     "duration": 0.624896,
     "end_time": "2022-05-16T02:15:55.248347",
     "exception": false,
     "start_time": "2022-05-16T02:15:54.623451",
     "status": "completed"
    },
    "tags": []
   },
   "outputs": [],
   "source": [
    "#a higher number of married people have stroke compared to the single folks\n",
    "sns.catplot(data=yes_stroke, kind=\"swarm\",x=\"hypertension\", y=\"bmi\", hue=\"ever_married\")"
   ]
  },
  {
   "cell_type": "code",
   "execution_count": null,
   "id": "d6da212f",
   "metadata": {
    "execution": {
     "iopub.execute_input": "2022-05-16T02:15:55.508369Z",
     "iopub.status.busy": "2022-05-16T02:15:55.508105Z",
     "iopub.status.idle": "2022-05-16T02:15:55.959210Z",
     "shell.execute_reply": "2022-05-16T02:15:55.958290Z"
    },
    "id": "0oMtC1RCYAeA",
    "outputId": "99a6a8b7-f88b-44f3-f729-bc139ff014a7",
    "papermill": {
     "duration": 0.582549,
     "end_time": "2022-05-16T02:15:55.961675",
     "exception": false,
     "start_time": "2022-05-16T02:15:55.379126",
     "status": "completed"
    },
    "tags": []
   },
   "outputs": [],
   "source": [
    "#catplot of hypertension, age, gender\n",
    "sns.catplot(data=yes_stroke, kind=\"swarm\",x=\"hypertension\", y=\"age\", hue=\"gender\")"
   ]
  },
  {
   "cell_type": "code",
   "execution_count": null,
   "id": "6f3d2ffa",
   "metadata": {
    "execution": {
     "iopub.execute_input": "2022-05-16T02:15:56.223746Z",
     "iopub.status.busy": "2022-05-16T02:15:56.222896Z",
     "iopub.status.idle": "2022-05-16T02:15:56.680845Z",
     "shell.execute_reply": "2022-05-16T02:15:56.679812Z"
    },
    "id": "71mbulSsY7iX",
    "outputId": "bffdcc9c-497c-43c8-9f68-e311a6f2129d",
    "papermill": {
     "duration": 0.591362,
     "end_time": "2022-05-16T02:15:56.683528",
     "exception": false,
     "start_time": "2022-05-16T02:15:56.092166",
     "status": "completed"
    },
    "tags": []
   },
   "outputs": [],
   "source": [
    "#compared to hypertension, there are less number of stroke patients with heart disease\n",
    "sns.catplot(data=yes_stroke, kind=\"swarm\",x=\"heart_disease\", y=\"age\", hue=\"gender\")"
   ]
  },
  {
   "cell_type": "markdown",
   "id": "f0abd6f0",
   "metadata": {
    "id": "eYLaoamh9xoj",
    "papermill": {
     "duration": 0.135637,
     "end_time": "2022-05-16T02:15:56.952134",
     "exception": false,
     "start_time": "2022-05-16T02:15:56.816497",
     "status": "completed"
    },
    "tags": []
   },
   "source": [
    "## **Conclusions of EDA**\n",
    "**From the dataset,**\n",
    "\n",
    "- The risk of stroke increases with age, starting from age 30.\n",
    "\n",
    "- Women in their early 30s have a higher risk for stroke compared to men. The risk for stroke for men starts from age 45.\n",
    "\n",
    "- Hypertension and heart disease increases the risk of an individual having a stroke. However, there were more stroke cases with hypertension than with heart disease.\n",
    "\n",
    "- Living conditions or work history does not affect the risk for stroke.\n",
    "\n",
    "- Married people had higher risk of stroke than the unmarried ones\n",
    "\n",
    "\n",
    "\n",
    "**Other risk factors apart from age and gender?** \n",
    "- There were more observations of stroke cases for people who formally smoked and current smokers. Although those who had never smoked had almost equal observations with current smokers. We can safely conclude that smoking status has little or no risk effect for stroke."
   ]
  },
  {
   "cell_type": "markdown",
   "id": "ac3aa21c",
   "metadata": {
    "id": "tu1T4PSVpfdi",
    "papermill": {
     "duration": 0.132627,
     "end_time": "2022-05-16T02:15:57.228394",
     "exception": false,
     "start_time": "2022-05-16T02:15:57.095767",
     "status": "completed"
    },
    "tags": []
   },
   "source": [
    "# **Sampling (Undersampling)**\n",
    "The records of the stroke cases compared to no stroke cases in the dataset shows an imbalance. To ensure optimal performance of the machine learning models, we would use undersampling technique (note that there are several other techniques to consider)"
   ]
  },
  {
   "cell_type": "markdown",
   "id": "ac2834da",
   "metadata": {
    "id": "OliDX2YGnihJ",
    "papermill": {
     "duration": 0.133473,
     "end_time": "2022-05-16T02:15:57.493465",
     "exception": false,
     "start_time": "2022-05-16T02:15:57.359992",
     "status": "completed"
    },
    "tags": []
   },
   "source": [
    "**Delete the 'Children' observations**"
   ]
  },
  {
   "cell_type": "code",
   "execution_count": null,
   "id": "f57f13ac",
   "metadata": {
    "_kg_hide-output": true,
    "execution": {
     "iopub.execute_input": "2022-05-16T02:15:57.761571Z",
     "iopub.status.busy": "2022-05-16T02:15:57.761285Z",
     "iopub.status.idle": "2022-05-16T02:15:57.811816Z",
     "shell.execute_reply": "2022-05-16T02:15:57.810776Z"
    },
    "id": "my2PUSKlhtc4",
    "outputId": "33ac3bff-ea61-4e06-90bf-8cdc217ced3d",
    "papermill": {
     "duration": 0.187977,
     "end_time": "2022-05-16T02:15:57.814043",
     "exception": false,
     "start_time": "2022-05-16T02:15:57.626066",
     "status": "completed"
    },
    "tags": []
   },
   "outputs": [],
   "source": [
    "#Extract the data containing children information\n",
    "nos_of_children = data[data['work_type'] == 4]\n",
    "nos_of_children_count = nos_of_children['work_type'].count()\n",
    "print (nos_of_children_count)\n",
    "\n",
    "nos_of_children.describe()\n",
    "#There are 69 children in total in the dataset, in age range 10-16."
   ]
  },
  {
   "cell_type": "code",
   "execution_count": null,
   "id": "ba32a7dd",
   "metadata": {
    "execution": {
     "iopub.execute_input": "2022-05-16T02:15:58.112302Z",
     "iopub.status.busy": "2022-05-16T02:15:58.112009Z",
     "iopub.status.idle": "2022-05-16T02:15:58.118653Z",
     "shell.execute_reply": "2022-05-16T02:15:58.117680Z"
    },
    "id": "s1eLiaz_pmlh",
    "papermill": {
     "duration": 0.170347,
     "end_time": "2022-05-16T02:15:58.120626",
     "exception": false,
     "start_time": "2022-05-16T02:15:57.950279",
     "status": "completed"
    },
    "tags": []
   },
   "outputs": [],
   "source": [
    "data.drop(data[data.work_type == 4].index, inplace = True) #delete the records"
   ]
  },
  {
   "cell_type": "code",
   "execution_count": null,
   "id": "1d80eb91",
   "metadata": {
    "execution": {
     "iopub.execute_input": "2022-05-16T02:15:58.393760Z",
     "iopub.status.busy": "2022-05-16T02:15:58.393439Z",
     "iopub.status.idle": "2022-05-16T02:15:58.549324Z",
     "shell.execute_reply": "2022-05-16T02:15:58.548097Z"
    },
    "id": "oLzIoRxitXPP",
    "outputId": "f2050ff4-1ce6-4d1b-b3ba-ee6b167693b7",
    "papermill": {
     "duration": 0.294633,
     "end_time": "2022-05-16T02:15:58.551440",
     "exception": false,
     "start_time": "2022-05-16T02:15:58.256807",
     "status": "completed"
    },
    "tags": []
   },
   "outputs": [],
   "source": [
    "#split the data into those with stroke and without stroke\n",
    "no_stroke = data[data['stroke'] == 0] #extract the information of those without stroke\n",
    "no_stroke_extract = no_stroke['stroke'] #extract one column \n",
    "\n",
    "yes_stroke = data[data['stroke'] == 1] #extract the information of those with stroke\n",
    "yes_stroke_extract = yes_stroke['stroke'] #extract one column\n",
    "\n",
    "count = [yes_stroke_extract.count(), no_stroke_extract.count()]\n",
    "labels = ('stoke', 'no stroke')\n",
    "\n",
    "plt.bar(labels, count)\n",
    "print (\"number with stroke: \",yes_stroke_extract.count())\n",
    "print (\"number without stroke: \",no_stroke_extract.count())"
   ]
  },
  {
   "cell_type": "markdown",
   "id": "23900dbe",
   "metadata": {
    "id": "jNimA2Tgp9oa",
    "papermill": {
     "duration": 0.134015,
     "end_time": "2022-05-16T02:15:58.819517",
     "exception": false,
     "start_time": "2022-05-16T02:15:58.685502",
     "status": "completed"
    },
    "tags": []
   },
   "source": [
    "**Extract few data from the no-stroke observations**\n",
    "\n",
    "We make the ratio between stroke and no-stroke observations in the dataset to be:1:4 \n",
    "i.e 1 in 4 people are affected by stroke in the sampled dataset"
   ]
  },
  {
   "cell_type": "code",
   "execution_count": null,
   "id": "708d61b5",
   "metadata": {
    "execution": {
     "iopub.execute_input": "2022-05-16T02:15:59.096176Z",
     "iopub.status.busy": "2022-05-16T02:15:59.095585Z",
     "iopub.status.idle": "2022-05-16T02:15:59.104037Z",
     "shell.execute_reply": "2022-05-16T02:15:59.103235Z"
    },
    "id": "hk_f6kMrp8G1",
    "papermill": {
     "duration": 0.14988,
     "end_time": "2022-05-16T02:15:59.106244",
     "exception": false,
     "start_time": "2022-05-16T02:15:58.956364",
     "status": "completed"
    },
    "tags": []
   },
   "outputs": [],
   "source": [
    "#undersampling\n",
    "class_no_stroke_extract = no_stroke.sample(800) \n",
    "sampled_data = pd.concat([class_no_stroke_extract, yes_stroke], axis=0)\n",
    "\n",
    "#shuffle the data\n",
    "sampled_data = sampled_data.sample(frac = 1)"
   ]
  },
  {
   "cell_type": "code",
   "execution_count": null,
   "id": "e177b002",
   "metadata": {
    "_kg_hide-input": true,
    "execution": {
     "iopub.execute_input": "2022-05-16T02:15:59.378437Z",
     "iopub.status.busy": "2022-05-16T02:15:59.378129Z",
     "iopub.status.idle": "2022-05-16T02:15:59.546336Z",
     "shell.execute_reply": "2022-05-16T02:15:59.545191Z"
    },
    "id": "CZHxwQAMxnXx",
    "outputId": "cd29dfd3-f25c-4f72-dbf7-7ee8bfd410ad",
    "papermill": {
     "duration": 0.306595,
     "end_time": "2022-05-16T02:15:59.548833",
     "exception": false,
     "start_time": "2022-05-16T02:15:59.242238",
     "status": "completed"
    },
    "tags": []
   },
   "outputs": [],
   "source": [
    "# visualize the output\n",
    "g = sns.countplot(sampled_data['stroke'])\n",
    "g.set_xticklabels(['no stroke','stroke'])\n",
    "plt.show()"
   ]
  },
  {
   "cell_type": "markdown",
   "id": "3e4f6f39",
   "metadata": {
    "id": "VbcIwXbeB_mm",
    "papermill": {
     "duration": 0.135436,
     "end_time": "2022-05-16T02:15:59.824838",
     "exception": false,
     "start_time": "2022-05-16T02:15:59.689402",
     "status": "completed"
    },
    "tags": []
   },
   "source": [
    "# **Goal 1: Supervised Learning**\n",
    "- Build regression and classification models to predict a stroke\n",
    "- Evaluate the models\n",
    "\n",
    "  "
   ]
  },
  {
   "cell_type": "markdown",
   "id": "e353a286",
   "metadata": {
    "id": "q3-z8hk6jihX",
    "papermill": {
     "duration": 0.143752,
     "end_time": "2022-05-16T02:16:00.110603",
     "exception": false,
     "start_time": "2022-05-16T02:15:59.966851",
     "status": "completed"
    },
    "tags": []
   },
   "source": [
    "# **A - Model (selected features) & Model Evaluation**\n",
    "- Regression model: linear regression\n",
    "- Classification models: logistic regression, multi-layer perceptron and KNN"
   ]
  },
  {
   "cell_type": "markdown",
   "id": "ba36c76b",
   "metadata": {
    "id": "R-LkmBj2LlZx",
    "papermill": {
     "duration": 0.138075,
     "end_time": "2022-05-16T02:16:00.383584",
     "exception": false,
     "start_time": "2022-05-16T02:16:00.245509",
     "status": "completed"
    },
    "tags": []
   },
   "source": [
    "## **Feature selection**\n",
    "\n",
    "To acheive lower computational cost and improved model performance, feature selection is advised. "
   ]
  },
  {
   "cell_type": "code",
   "execution_count": null,
   "id": "7a6abe3c",
   "metadata": {
    "execution": {
     "iopub.execute_input": "2022-05-16T02:16:00.657767Z",
     "iopub.status.busy": "2022-05-16T02:16:00.657471Z",
     "iopub.status.idle": "2022-05-16T02:16:00.663281Z",
     "shell.execute_reply": "2022-05-16T02:16:00.662416Z"
    },
    "id": "5nEwgU7_WV41",
    "papermill": {
     "duration": 0.145105,
     "end_time": "2022-05-16T02:16:00.665403",
     "exception": false,
     "start_time": "2022-05-16T02:16:00.520298",
     "status": "completed"
    },
    "tags": []
   },
   "outputs": [],
   "source": [
    "#The selected features based on the feature analysis and visualizations\n",
    "X = sampled_data[['age', 'hypertension', 'heart_disease', 'bmi', 'avg_glucose_level','smoking_status']] \n",
    "y = sampled_data['stroke']"
   ]
  },
  {
   "cell_type": "markdown",
   "id": "38dde9ef",
   "metadata": {
    "id": "uHkFAZTHY2UL",
    "papermill": {
     "duration": 0.140754,
     "end_time": "2022-05-16T02:16:00.946534",
     "exception": false,
     "start_time": "2022-05-16T02:16:00.805780",
     "status": "completed"
    },
    "tags": []
   },
   "source": [
    "## **Normalize the data**"
   ]
  },
  {
   "cell_type": "code",
   "execution_count": null,
   "id": "0f259984",
   "metadata": {
    "execution": {
     "iopub.execute_input": "2022-05-16T02:16:01.221955Z",
     "iopub.status.busy": "2022-05-16T02:16:01.221668Z",
     "iopub.status.idle": "2022-05-16T02:16:01.231190Z",
     "shell.execute_reply": "2022-05-16T02:16:01.230302Z"
    },
    "id": "s74qQ5pAY5ha",
    "papermill": {
     "duration": 0.149845,
     "end_time": "2022-05-16T02:16:01.233462",
     "exception": false,
     "start_time": "2022-05-16T02:16:01.083617",
     "status": "completed"
    },
    "tags": []
   },
   "outputs": [],
   "source": [
    "from sklearn.preprocessing import StandardScaler\n",
    "scaler = StandardScaler()\n",
    "scaler.fit(X)\n",
    "X_scaled = scaler.transform(X)"
   ]
  },
  {
   "cell_type": "markdown",
   "id": "a34d54ab",
   "metadata": {
    "id": "JDi5HNohXmXp",
    "papermill": {
     "duration": 0.136141,
     "end_time": "2022-05-16T02:16:01.507769",
     "exception": false,
     "start_time": "2022-05-16T02:16:01.371628",
     "status": "completed"
    },
    "tags": []
   },
   "source": [
    "## **Split the dataset into train and test**"
   ]
  },
  {
   "cell_type": "code",
   "execution_count": null,
   "id": "6f8d699f",
   "metadata": {
    "execution": {
     "iopub.execute_input": "2022-05-16T02:16:01.784564Z",
     "iopub.status.busy": "2022-05-16T02:16:01.784030Z",
     "iopub.status.idle": "2022-05-16T02:16:01.853898Z",
     "shell.execute_reply": "2022-05-16T02:16:01.853164Z"
    },
    "id": "HydtdPMAXokE",
    "papermill": {
     "duration": 0.209469,
     "end_time": "2022-05-16T02:16:01.856170",
     "exception": false,
     "start_time": "2022-05-16T02:16:01.646701",
     "status": "completed"
    },
    "tags": []
   },
   "outputs": [],
   "source": [
    "from sklearn.model_selection import train_test_split\n",
    "X_train, X_test, y_train, y_test = train_test_split(X_scaled, y, test_size=0.3) "
   ]
  },
  {
   "cell_type": "markdown",
   "id": "bcba7f44",
   "metadata": {
    "id": "4BnXwCpl4aQ3",
    "papermill": {
     "duration": 0.138579,
     "end_time": "2022-05-16T02:16:02.133622",
     "exception": false,
     "start_time": "2022-05-16T02:16:01.995043",
     "status": "completed"
    },
    "tags": []
   },
   "source": [
    "# **Linear regression model**"
   ]
  },
  {
   "cell_type": "code",
   "execution_count": null,
   "id": "e3fe64c9",
   "metadata": {
    "execution": {
     "iopub.execute_input": "2022-05-16T02:16:02.406049Z",
     "iopub.status.busy": "2022-05-16T02:16:02.405531Z",
     "iopub.status.idle": "2022-05-16T02:16:02.506691Z",
     "shell.execute_reply": "2022-05-16T02:16:02.505844Z"
    },
    "id": "evjaHNsA4ZMh",
    "papermill": {
     "duration": 0.239863,
     "end_time": "2022-05-16T02:16:02.509212",
     "exception": false,
     "start_time": "2022-05-16T02:16:02.269349",
     "status": "completed"
    },
    "tags": []
   },
   "outputs": [],
   "source": [
    "from sklearn.linear_model import LinearRegression\n",
    "linear_reg_model = LinearRegression(normalize=True) #model\n",
    "\n",
    "linear_reg_model.fit(X_train,y_train)\n",
    "\n",
    "train_predictions_linear = linear_reg_model.predict(X_train) \n",
    "test_predictions_linear = linear_reg_model.predict(X_test)   "
   ]
  },
  {
   "cell_type": "markdown",
   "id": "cf292f88",
   "metadata": {
    "id": "F-4kUWv8ZGU-",
    "papermill": {
     "duration": 0.136398,
     "end_time": "2022-05-16T02:16:02.783323",
     "exception": false,
     "start_time": "2022-05-16T02:16:02.646925",
     "status": "completed"
    },
    "tags": []
   },
   "source": [
    "### **Performance metrics - linear regression**"
   ]
  },
  {
   "cell_type": "code",
   "execution_count": null,
   "id": "d18f42d8",
   "metadata": {
    "execution": {
     "iopub.execute_input": "2022-05-16T02:16:03.063429Z",
     "iopub.status.busy": "2022-05-16T02:16:03.062545Z",
     "iopub.status.idle": "2022-05-16T02:16:03.075222Z",
     "shell.execute_reply": "2022-05-16T02:16:03.074627Z"
    },
    "id": "2mNJPAA3ZAgC",
    "outputId": "e6ee04ec-1b18-492e-ac44-3e2d831ea370",
    "papermill": {
     "duration": 0.157276,
     "end_time": "2022-05-16T02:16:03.077564",
     "exception": false,
     "start_time": "2022-05-16T02:16:02.920288",
     "status": "completed"
    },
    "tags": []
   },
   "outputs": [],
   "source": [
    "from sklearn.metrics import accuracy_score, precision_score, recall_score,f1_score\n",
    "print('Linear regression model evaluation:')\n",
    "print('Precision: ', precision_score(y_test, test_predictions_linear.round()))\n",
    "print('Recall: ', recall_score(y_test, test_predictions_linear.round()))\n",
    "\n",
    "print('\\nAccuracy: ',accuracy_score(y_test, test_predictions_linear.round()))\n",
    "print('f1_score: ', f1_score(y_test, test_predictions_linear.round())) "
   ]
  },
  {
   "cell_type": "code",
   "execution_count": null,
   "id": "6e34f330",
   "metadata": {
    "execution": {
     "iopub.execute_input": "2022-05-16T02:16:03.356687Z",
     "iopub.status.busy": "2022-05-16T02:16:03.356142Z",
     "iopub.status.idle": "2022-05-16T02:16:03.591814Z",
     "shell.execute_reply": "2022-05-16T02:16:03.590740Z"
    },
    "id": "jhGyuc9wapeu",
    "outputId": "f2f59650-f816-4978-e310-f54f69f352ce",
    "papermill": {
     "duration": 0.377137,
     "end_time": "2022-05-16T02:16:03.594156",
     "exception": false,
     "start_time": "2022-05-16T02:16:03.217019",
     "status": "completed"
    },
    "tags": []
   },
   "outputs": [],
   "source": [
    "#confusion matrix\n",
    "from sklearn.metrics import confusion_matrix\n",
    "cm = confusion_matrix(y_test, test_predictions_linear.round())\n",
    "f = sns.heatmap(cm, annot=True, fmt='d')"
   ]
  },
  {
   "cell_type": "markdown",
   "id": "f2029347",
   "metadata": {
    "id": "zvLCtUNo_o11",
    "papermill": {
     "duration": 0.140404,
     "end_time": "2022-05-16T02:16:03.875493",
     "exception": false,
     "start_time": "2022-05-16T02:16:03.735089",
     "status": "completed"
    },
    "tags": []
   },
   "source": [
    "# **Logistic regression model**"
   ]
  },
  {
   "cell_type": "code",
   "execution_count": null,
   "id": "a17d6c4b",
   "metadata": {
    "execution": {
     "iopub.execute_input": "2022-05-16T02:16:04.159440Z",
     "iopub.status.busy": "2022-05-16T02:16:04.159144Z",
     "iopub.status.idle": "2022-05-16T02:16:04.168853Z",
     "shell.execute_reply": "2022-05-16T02:16:04.168154Z"
    },
    "id": "AcyK6P70_rli",
    "papermill": {
     "duration": 0.153082,
     "end_time": "2022-05-16T02:16:04.171086",
     "exception": false,
     "start_time": "2022-05-16T02:16:04.018004",
     "status": "completed"
    },
    "tags": []
   },
   "outputs": [],
   "source": [
    "from sklearn.linear_model import LogisticRegression\n",
    "log_reg_model = LogisticRegression(max_iter=1000) #model\n",
    "log_reg_model.fit(X_train,y_train) \n",
    "\n",
    "train_predictions_log = log_reg_model.predict(X_train) #train the model\n",
    "test_predictions_log = log_reg_model.predict(X_test) #test the model"
   ]
  },
  {
   "cell_type": "markdown",
   "id": "91ef74ad",
   "metadata": {
    "id": "yhmo6YfteFUM",
    "papermill": {
     "duration": 0.138795,
     "end_time": "2022-05-16T02:16:04.447662",
     "exception": false,
     "start_time": "2022-05-16T02:16:04.308867",
     "status": "completed"
    },
    "tags": []
   },
   "source": [
    "### **Performance metrics - logistic regression**"
   ]
  },
  {
   "cell_type": "code",
   "execution_count": null,
   "id": "75fdcca9",
   "metadata": {
    "execution": {
     "iopub.execute_input": "2022-05-16T02:16:04.729379Z",
     "iopub.status.busy": "2022-05-16T02:16:04.728839Z",
     "iopub.status.idle": "2022-05-16T02:16:04.740103Z",
     "shell.execute_reply": "2022-05-16T02:16:04.739327Z"
    },
    "id": "jTKXQiSBaeR_",
    "outputId": "68121b84-5fe9-4a52-ca96-c3a7237dad5e",
    "papermill": {
     "duration": 0.156003,
     "end_time": "2022-05-16T02:16:04.742413",
     "exception": false,
     "start_time": "2022-05-16T02:16:04.586410",
     "status": "completed"
    },
    "tags": []
   },
   "outputs": [],
   "source": [
    "print('Logistic regression model evaluation:')\n",
    "print('Precision: ', precision_score(y_test,test_predictions_log))\n",
    "print('Recall: ', recall_score(y_test,test_predictions_log))\n",
    "print('\\nAccuracy: ',accuracy_score(y_test,test_predictions_log))\n",
    "print('f1_score: ', f1_score(y_test,test_predictions_log)) "
   ]
  },
  {
   "cell_type": "code",
   "execution_count": null,
   "id": "612836dd",
   "metadata": {
    "execution": {
     "iopub.execute_input": "2022-05-16T02:16:05.042573Z",
     "iopub.status.busy": "2022-05-16T02:16:05.042247Z",
     "iopub.status.idle": "2022-05-16T02:16:05.267408Z",
     "shell.execute_reply": "2022-05-16T02:16:05.266782Z"
    },
    "id": "X6PSB1Elf6VC",
    "outputId": "7398e888-893c-4076-b539-4c1345995140",
    "papermill": {
     "duration": 0.380179,
     "end_time": "2022-05-16T02:16:05.269403",
     "exception": false,
     "start_time": "2022-05-16T02:16:04.889224",
     "status": "completed"
    },
    "tags": []
   },
   "outputs": [],
   "source": [
    "#confusion matrix\n",
    "from sklearn.metrics import plot_confusion_matrix\n",
    "plot_confusion_matrix(log_reg_model,X_test,y_test)"
   ]
  },
  {
   "cell_type": "markdown",
   "id": "62daa9ae",
   "metadata": {
    "id": "flJTG4TdY0OY",
    "papermill": {
     "duration": 0.142306,
     "end_time": "2022-05-16T02:16:05.554206",
     "exception": false,
     "start_time": "2022-05-16T02:16:05.411900",
     "status": "completed"
    },
    "tags": []
   },
   "source": [
    "# **Multi-Layer Perceptron (MLP) model**"
   ]
  },
  {
   "cell_type": "code",
   "execution_count": null,
   "id": "e843602a",
   "metadata": {
    "_kg_hide-output": true,
    "execution": {
     "iopub.execute_input": "2022-05-16T02:16:05.838469Z",
     "iopub.status.busy": "2022-05-16T02:16:05.837898Z",
     "iopub.status.idle": "2022-05-16T02:16:06.086172Z",
     "shell.execute_reply": "2022-05-16T02:16:06.085308Z"
    },
    "id": "jKuvoKoqYzj_",
    "outputId": "60189a4d-bb15-4e3a-d8ef-467493e970df",
    "papermill": {
     "duration": 0.393255,
     "end_time": "2022-05-16T02:16:06.089120",
     "exception": false,
     "start_time": "2022-05-16T02:16:05.695865",
     "status": "completed"
    },
    "tags": []
   },
   "outputs": [],
   "source": [
    "from sklearn.neural_network import MLPClassifier\n",
    "mlp_model = MLPClassifier(activation='logistic',solver='lbfgs',hidden_layer_sizes=(15),max_iter=8000) \n",
    "#solver can be sgd, lbfgs or adam; lbfgs performed better\n",
    "mlp_model.fit(X_train, y_train) "
   ]
  },
  {
   "cell_type": "code",
   "execution_count": null,
   "id": "2bf14e3d",
   "metadata": {
    "execution": {
     "iopub.execute_input": "2022-05-16T02:16:06.428802Z",
     "iopub.status.busy": "2022-05-16T02:16:06.428494Z",
     "iopub.status.idle": "2022-05-16T02:16:06.437491Z",
     "shell.execute_reply": "2022-05-16T02:16:06.435938Z"
    },
    "id": "DHYxMHCKZUXt",
    "papermill": {
     "duration": 0.155208,
     "end_time": "2022-05-16T02:16:06.440824",
     "exception": false,
     "start_time": "2022-05-16T02:16:06.285616",
     "status": "completed"
    },
    "tags": []
   },
   "outputs": [],
   "source": [
    "test_predictions_mlp = mlp_model.predict(X_test)\n",
    "train_predictions_mlp = mlp_model.predict(X_train)"
   ]
  },
  {
   "cell_type": "markdown",
   "id": "067fa631",
   "metadata": {
    "id": "kKd6mi7xZT8a",
    "papermill": {
     "duration": 0.147337,
     "end_time": "2022-05-16T02:16:06.790369",
     "exception": false,
     "start_time": "2022-05-16T02:16:06.643032",
     "status": "completed"
    },
    "tags": []
   },
   "source": [
    "### **Performance metrics - MLP**"
   ]
  },
  {
   "cell_type": "code",
   "execution_count": null,
   "id": "7eb76f10",
   "metadata": {
    "execution": {
     "iopub.execute_input": "2022-05-16T02:16:07.076957Z",
     "iopub.status.busy": "2022-05-16T02:16:07.076669Z",
     "iopub.status.idle": "2022-05-16T02:16:07.090593Z",
     "shell.execute_reply": "2022-05-16T02:16:07.089489Z"
    },
    "id": "LtjJPDcuZkzt",
    "outputId": "d0a8e210-ab99-44da-ab36-099f9466c9cf",
    "papermill": {
     "duration": 0.160772,
     "end_time": "2022-05-16T02:16:07.092878",
     "exception": false,
     "start_time": "2022-05-16T02:16:06.932106",
     "status": "completed"
    },
    "tags": []
   },
   "outputs": [],
   "source": [
    "from sklearn.metrics import accuracy_score, precision_score, recall_score,f1_score\n",
    "print('MLP model evaluation:')\n",
    "print('Precision: ', precision_score(y_test,test_predictions_mlp))\n",
    "print('Recall: ', recall_score(y_test, test_predictions_mlp))\n",
    "print('\\nAccuracy: ',accuracy_score(y_test, test_predictions_mlp))\n",
    "print('f1_score: ',f1_score(y_test, test_predictions_mlp))\n"
   ]
  },
  {
   "cell_type": "code",
   "execution_count": null,
   "id": "dbd9c51b",
   "metadata": {
    "execution": {
     "iopub.execute_input": "2022-05-16T02:16:07.379338Z",
     "iopub.status.busy": "2022-05-16T02:16:07.378770Z",
     "iopub.status.idle": "2022-05-16T02:16:07.607002Z",
     "shell.execute_reply": "2022-05-16T02:16:07.606159Z"
    },
    "id": "xJMeeLKybtjv",
    "outputId": "75862bc5-c497-4c86-bd00-46efd5a19798",
    "papermill": {
     "duration": 0.374031,
     "end_time": "2022-05-16T02:16:07.609228",
     "exception": false,
     "start_time": "2022-05-16T02:16:07.235197",
     "status": "completed"
    },
    "tags": []
   },
   "outputs": [],
   "source": [
    "from sklearn.metrics import plot_confusion_matrix\n",
    "plot_confusion_matrix(mlp_model,X_test,y_test)"
   ]
  },
  {
   "cell_type": "markdown",
   "id": "b68b4444",
   "metadata": {
    "id": "pzmbFZt9mUoW",
    "papermill": {
     "duration": 0.143039,
     "end_time": "2022-05-16T02:16:07.895441",
     "exception": false,
     "start_time": "2022-05-16T02:16:07.752402",
     "status": "completed"
    },
    "tags": []
   },
   "source": [
    "# **KNN model**"
   ]
  },
  {
   "cell_type": "markdown",
   "id": "5b75d1b3",
   "metadata": {
    "id": "N2WmnCJs4QWI",
    "papermill": {
     "duration": 0.143436,
     "end_time": "2022-05-16T02:16:08.186407",
     "exception": false,
     "start_time": "2022-05-16T02:16:08.042971",
     "status": "completed"
    },
    "tags": []
   },
   "source": [
    "### **KNN Model**"
   ]
  },
  {
   "cell_type": "code",
   "execution_count": null,
   "id": "71c4e645",
   "metadata": {
    "execution": {
     "iopub.execute_input": "2022-05-16T02:16:08.475128Z",
     "iopub.status.busy": "2022-05-16T02:16:08.474836Z",
     "iopub.status.idle": "2022-05-16T02:16:08.547763Z",
     "shell.execute_reply": "2022-05-16T02:16:08.546710Z"
    },
    "id": "AyxGtRW5mWMN",
    "papermill": {
     "duration": 0.220567,
     "end_time": "2022-05-16T02:16:08.550333",
     "exception": false,
     "start_time": "2022-05-16T02:16:08.329766",
     "status": "completed"
    },
    "tags": []
   },
   "outputs": [],
   "source": [
    "from sklearn.neighbors import KNeighborsClassifier\n",
    "knn_model = KNeighborsClassifier(n_neighbors=5)\n",
    "knn_model.fit(X_train, y_train)\n",
    "test_predictions_knn =knn_model.predict(X_test)"
   ]
  },
  {
   "cell_type": "markdown",
   "id": "80c5115b",
   "metadata": {
    "id": "WU__S1C-nNJe",
    "papermill": {
     "duration": 0.143848,
     "end_time": "2022-05-16T02:16:08.838815",
     "exception": false,
     "start_time": "2022-05-16T02:16:08.694967",
     "status": "completed"
    },
    "tags": []
   },
   "source": [
    "### **Performance metrics - KNN**"
   ]
  },
  {
   "cell_type": "code",
   "execution_count": null,
   "id": "24fee97b",
   "metadata": {
    "execution": {
     "iopub.execute_input": "2022-05-16T02:16:09.162406Z",
     "iopub.status.busy": "2022-05-16T02:16:09.161620Z",
     "iopub.status.idle": "2022-05-16T02:16:09.175100Z",
     "shell.execute_reply": "2022-05-16T02:16:09.173862Z"
    },
    "id": "oKrL2RnUmZDF",
    "outputId": "16a843f8-e905-46ba-f239-2661639d9adc",
    "papermill": {
     "duration": 0.192329,
     "end_time": "2022-05-16T02:16:09.177287",
     "exception": false,
     "start_time": "2022-05-16T02:16:08.984958",
     "status": "completed"
    },
    "tags": []
   },
   "outputs": [],
   "source": [
    "from sklearn.metrics import accuracy_score, precision_score, recall_score,f1_score\n",
    "print('KNN model evaluation:')\n",
    "print('Precision: ', precision_score(y_test,test_predictions_knn))\n",
    "print('Recall: ', recall_score(y_test,test_predictions_knn))\n",
    "\n",
    "print('\\nAccuracy: ',accuracy_score(y_test,test_predictions_knn))\n",
    "print('f1_score: ',f1_score(y_test,test_predictions_knn))"
   ]
  },
  {
   "cell_type": "code",
   "execution_count": null,
   "id": "bfd7ebdc",
   "metadata": {
    "execution": {
     "iopub.execute_input": "2022-05-16T02:16:09.468343Z",
     "iopub.status.busy": "2022-05-16T02:16:09.467420Z",
     "iopub.status.idle": "2022-05-16T02:16:09.698982Z",
     "shell.execute_reply": "2022-05-16T02:16:09.697873Z"
    },
    "id": "iwIvH8zFm87F",
    "outputId": "2a6135da-53df-4ae7-ad0f-cb28add12de1",
    "papermill": {
     "duration": 0.379518,
     "end_time": "2022-05-16T02:16:09.701314",
     "exception": false,
     "start_time": "2022-05-16T02:16:09.321796",
     "status": "completed"
    },
    "tags": []
   },
   "outputs": [],
   "source": [
    "plot_confusion_matrix(knn_model,X_test,y_test)"
   ]
  },
  {
   "cell_type": "markdown",
   "id": "cae6a8da",
   "metadata": {
    "id": "DB4HoC7xcA4a",
    "papermill": {
     "duration": 0.147073,
     "end_time": "2022-05-16T02:16:09.997484",
     "exception": false,
     "start_time": "2022-05-16T02:16:09.850411",
     "status": "completed"
    },
    "tags": []
   },
   "source": [
    "# **B - Model (all features) & Model Evaluation**"
   ]
  },
  {
   "cell_type": "code",
   "execution_count": null,
   "id": "033138d4",
   "metadata": {
    "execution": {
     "iopub.execute_input": "2022-05-16T02:16:10.294987Z",
     "iopub.status.busy": "2022-05-16T02:16:10.294672Z",
     "iopub.status.idle": "2022-05-16T02:16:10.300122Z",
     "shell.execute_reply": "2022-05-16T02:16:10.299100Z"
    },
    "id": "Br1aR1FxdCgR",
    "papermill": {
     "duration": 0.15388,
     "end_time": "2022-05-16T02:16:10.302123",
     "exception": false,
     "start_time": "2022-05-16T02:16:10.148243",
     "status": "completed"
    },
    "tags": []
   },
   "outputs": [],
   "source": [
    "all_features_data = sampled_data.drop(columns='stroke') \n",
    "result = sampled_data['stroke']"
   ]
  },
  {
   "cell_type": "code",
   "execution_count": null,
   "id": "8b8b9904",
   "metadata": {
    "execution": {
     "iopub.execute_input": "2022-05-16T02:16:10.593175Z",
     "iopub.status.busy": "2022-05-16T02:16:10.592887Z",
     "iopub.status.idle": "2022-05-16T02:16:10.602056Z",
     "shell.execute_reply": "2022-05-16T02:16:10.601244Z"
    },
    "id": "Gqb2hdZmdH_W",
    "papermill": {
     "duration": 0.157228,
     "end_time": "2022-05-16T02:16:10.604027",
     "exception": false,
     "start_time": "2022-05-16T02:16:10.446799",
     "status": "completed"
    },
    "tags": []
   },
   "outputs": [],
   "source": [
    "from sklearn.preprocessing import StandardScaler\n",
    "scalerr = StandardScaler()\n",
    "scalerr.fit(all_features_data)\n",
    "all_features_scaled = scalerr.transform(all_features_data)"
   ]
  },
  {
   "cell_type": "code",
   "execution_count": null,
   "id": "47cff8d8",
   "metadata": {
    "execution": {
     "iopub.execute_input": "2022-05-16T02:16:10.897419Z",
     "iopub.status.busy": "2022-05-16T02:16:10.897157Z",
     "iopub.status.idle": "2022-05-16T02:16:10.902100Z",
     "shell.execute_reply": "2022-05-16T02:16:10.901147Z"
    },
    "id": "QG6jb28EehlL",
    "papermill": {
     "duration": 0.154863,
     "end_time": "2022-05-16T02:16:10.904166",
     "exception": false,
     "start_time": "2022-05-16T02:16:10.749303",
     "status": "completed"
    },
    "tags": []
   },
   "outputs": [],
   "source": [
    "X_training, X_testing, y_training, y_testing = train_test_split(all_features_scaled, result, test_size=0.3)  #same test size as the datasplit with selected features"
   ]
  },
  {
   "cell_type": "markdown",
   "id": "7820c9b8",
   "metadata": {
    "id": "ayJZ3dESe49C",
    "papermill": {
     "duration": 0.146734,
     "end_time": "2022-05-16T02:16:11.200023",
     "exception": false,
     "start_time": "2022-05-16T02:16:11.053289",
     "status": "completed"
    },
    "tags": []
   },
   "source": [
    "# **Linear regression model**"
   ]
  },
  {
   "cell_type": "code",
   "execution_count": null,
   "id": "3d924ff1",
   "metadata": {
    "_kg_hide-output": true,
    "execution": {
     "iopub.execute_input": "2022-05-16T02:16:11.495775Z",
     "iopub.status.busy": "2022-05-16T02:16:11.495431Z",
     "iopub.status.idle": "2022-05-16T02:16:11.502857Z",
     "shell.execute_reply": "2022-05-16T02:16:11.502197Z"
    },
    "id": "pLPTvtRde6d9",
    "jupyter": {
     "outputs_hidden": true
    },
    "outputId": "29786b6c-710e-4ec6-d2af-070a7815ec4d",
    "papermill": {
     "duration": 0.159282,
     "end_time": "2022-05-16T02:16:11.504910",
     "exception": false,
     "start_time": "2022-05-16T02:16:11.345628",
     "status": "completed"
    },
    "tags": []
   },
   "outputs": [],
   "source": [
    "linear_reg_model_all = LinearRegression(normalize=True)\n",
    "linear_reg_model_all.fit(X_training,y_training)\n",
    "\n",
    "train_predictions_linear_all = linear_reg_model_all.predict(X_training) \n",
    "test_predictions_linear_all = linear_reg_model_all.predict(X_testing) "
   ]
  },
  {
   "cell_type": "code",
   "execution_count": null,
   "id": "e267f55d",
   "metadata": {
    "execution": {
     "iopub.execute_input": "2022-05-16T02:16:11.799047Z",
     "iopub.status.busy": "2022-05-16T02:16:11.798745Z",
     "iopub.status.idle": "2022-05-16T02:16:12.191759Z",
     "shell.execute_reply": "2022-05-16T02:16:12.191066Z"
    },
    "id": "1YzN3BTJhXL6",
    "outputId": "6381b30d-7e8d-4d5f-f0c5-61c69a41a096",
    "papermill": {
     "duration": 0.542834,
     "end_time": "2022-05-16T02:16:12.194092",
     "exception": false,
     "start_time": "2022-05-16T02:16:11.651258",
     "status": "completed"
    },
    "tags": []
   },
   "outputs": [],
   "source": [
    "#Evaluation metric\n",
    "print('Linear regression model evaluation:')\n",
    "print('Precision: ', precision_score(y_testing, test_predictions_linear_all.round()))\n",
    "print('Recall: ', recall_score(y_testing, test_predictions_linear_all.round()))\n",
    "\n",
    "print('\\nAccuracy: ',accuracy_score(y_testing, test_predictions_linear_all.round()))\n",
    "print('f1_score: ', f1_score(y_testing, test_predictions_linear_all.round()))\n",
    "print (\"\\n\") \n",
    "\n",
    "from sklearn.metrics import confusion_matrix\n",
    "cma = confusion_matrix(y_testing, test_predictions_linear_all.round())\n",
    "f = sns.heatmap(cma, annot=True, fmt='d')"
   ]
  },
  {
   "cell_type": "markdown",
   "id": "163bde92",
   "metadata": {
    "id": "IleQos1nf9o-",
    "papermill": {
     "duration": 0.147098,
     "end_time": "2022-05-16T02:16:12.490014",
     "exception": false,
     "start_time": "2022-05-16T02:16:12.342916",
     "status": "completed"
    },
    "tags": []
   },
   "source": [
    "# **Logistic regression model**"
   ]
  },
  {
   "cell_type": "code",
   "execution_count": null,
   "id": "705415f7",
   "metadata": {
    "execution": {
     "iopub.execute_input": "2022-05-16T02:16:12.789229Z",
     "iopub.status.busy": "2022-05-16T02:16:12.788805Z",
     "iopub.status.idle": "2022-05-16T02:16:13.024656Z",
     "shell.execute_reply": "2022-05-16T02:16:13.023742Z"
    },
    "id": "9Yv9X7vVfkdc",
    "outputId": "daf6b2d9-2651-44a5-8f99-c67465eecc19",
    "papermill": {
     "duration": 0.389973,
     "end_time": "2022-05-16T02:16:13.026926",
     "exception": false,
     "start_time": "2022-05-16T02:16:12.636953",
     "status": "completed"
    },
    "tags": []
   },
   "outputs": [],
   "source": [
    "log_reg_model_all = LogisticRegression(max_iter=1000) #model\n",
    "log_reg_model_all.fit(X_training,y_training) \n",
    "\n",
    "train_predictions_log_all = log_reg_model_all.predict(X_training) \n",
    "test_predictions_log_all = log_reg_model_all.predict(X_testing) \n",
    "\n",
    "print('Logistic regression model evaluation:')\n",
    "print('Precision: ', precision_score(y_testing,test_predictions_log_all))\n",
    "print('Recall: ', recall_score(y_testing,test_predictions_log_all))\n",
    "print('\\nAccuracy: ',accuracy_score(y_testing,test_predictions_log_all))\n",
    "print('f1_score: ', f1_score(y_testing,test_predictions_log_all))\n",
    "print(\"\\n\") \n",
    "\n",
    "plot_confusion_matrix(log_reg_model_all,X_testing,y_testing)"
   ]
  },
  {
   "cell_type": "markdown",
   "id": "b08bc7ba",
   "metadata": {
    "id": "Eu3Q6uLshwrG",
    "papermill": {
     "duration": 0.153149,
     "end_time": "2022-05-16T02:16:13.330657",
     "exception": false,
     "start_time": "2022-05-16T02:16:13.177508",
     "status": "completed"
    },
    "tags": []
   },
   "source": [
    "# **Multi-Layer Perceptron model**"
   ]
  },
  {
   "cell_type": "code",
   "execution_count": null,
   "id": "56209626",
   "metadata": {
    "_kg_hide-input": false,
    "_kg_hide-output": false,
    "execution": {
     "iopub.execute_input": "2022-05-16T02:16:13.634606Z",
     "iopub.status.busy": "2022-05-16T02:16:13.633662Z",
     "iopub.status.idle": "2022-05-16T02:16:14.128303Z",
     "shell.execute_reply": "2022-05-16T02:16:14.127575Z"
    },
    "id": "c9uffUgagy0C",
    "outputId": "f0209842-ea7c-473b-e9ac-88cffe5734b4",
    "papermill": {
     "duration": 0.648093,
     "end_time": "2022-05-16T02:16:14.130576",
     "exception": false,
     "start_time": "2022-05-16T02:16:13.482483",
     "status": "completed"
    },
    "tags": []
   },
   "outputs": [],
   "source": [
    "mlp_model_all = MLPClassifier(activation='logistic',solver='lbfgs',hidden_layer_sizes=(15),max_iter=8000)\n",
    "mlp_model_all.fit(X_training, y_training) \n",
    "\n",
    "test_predictions_mlp_all = mlp_model_all.predict(X_testing)\n",
    "train_predictions_mlp_all = mlp_model_all.predict(X_training)\n",
    "\n",
    "print('MLP model evaluation:')\n",
    "print('Precision: ', precision_score(y_testing, test_predictions_mlp_all))\n",
    "print('Recall: ', recall_score(y_testing, test_predictions_mlp_all))\n",
    "print('\\nAccuracy: ',accuracy_score(y_testing, test_predictions_mlp_all))\n",
    "print('f1_score: ',f1_score(y_testing, test_predictions_mlp_all))\n",
    "print(\"\\n\")\n",
    "\n",
    "plot_confusion_matrix(mlp_model_all,X_testing,y_testing)"
   ]
  },
  {
   "cell_type": "markdown",
   "id": "d28be913",
   "metadata": {
    "id": "zKvSfGjFioXT",
    "papermill": {
     "duration": 0.151382,
     "end_time": "2022-05-16T02:16:14.435396",
     "exception": false,
     "start_time": "2022-05-16T02:16:14.284014",
     "status": "completed"
    },
    "tags": []
   },
   "source": [
    "# **KNN model**"
   ]
  },
  {
   "cell_type": "code",
   "execution_count": null,
   "id": "f598a5a4",
   "metadata": {
    "execution": {
     "iopub.execute_input": "2022-05-16T02:16:14.744438Z",
     "iopub.status.busy": "2022-05-16T02:16:14.743891Z",
     "iopub.status.idle": "2022-05-16T02:16:15.001485Z",
     "shell.execute_reply": "2022-05-16T02:16:15.000535Z"
    },
    "id": "Z9rjD50_iSJQ",
    "outputId": "7e68d537-da18-4fb1-8971-5e0a2889129e",
    "papermill": {
     "duration": 0.416917,
     "end_time": "2022-05-16T02:16:15.004042",
     "exception": false,
     "start_time": "2022-05-16T02:16:14.587125",
     "status": "completed"
    },
    "tags": []
   },
   "outputs": [],
   "source": [
    "knn_model_all = KNeighborsClassifier(n_neighbors=5)\n",
    "knn_model_all.fit(X_training, y_training)\n",
    "test_predictions_knn_all =knn_model_all.predict(X_testing)\n",
    "\n",
    "from sklearn.metrics import accuracy_score, precision_score, recall_score,f1_score\n",
    "print('KNN model evaluation:')\n",
    "print('Precision: ', precision_score(y_testing,test_predictions_knn_all))\n",
    "print('Recall: ', recall_score(y_testing,test_predictions_knn_all))\n",
    "\n",
    "print('\\nAccuracy: ',accuracy_score(y_testing,test_predictions_knn_all))\n",
    "print('f1_score: ',f1_score(y_testing,test_predictions_knn_all))\n",
    "print(\"\\n\")\n",
    "\n",
    "plot_confusion_matrix(knn_model_all,X_testing,y_testing)\n"
   ]
  },
  {
   "cell_type": "markdown",
   "id": "017fa4de",
   "metadata": {
    "id": "O_5OrMzKCrXl",
    "papermill": {
     "duration": 0.153367,
     "end_time": "2022-05-16T02:16:15.312637",
     "exception": false,
     "start_time": "2022-05-16T02:16:15.159270",
     "status": "completed"
    },
    "tags": []
   },
   "source": [
    "# Goal 2: Unsupervised Learning\n",
    "- Build unsupervised models to predict a stroke\n",
    "  - KNN, DBSCAN\n",
    "- Evaluate the models"
   ]
  },
  {
   "cell_type": "markdown",
   "id": "a6fd5f17",
   "metadata": {
    "id": "V1HwyzGoDVal",
    "papermill": {
     "duration": 0.153087,
     "end_time": "2022-05-16T02:16:15.620479",
     "exception": false,
     "start_time": "2022-05-16T02:16:15.467392",
     "status": "completed"
    },
    "tags": []
   },
   "source": [
    "# **KNN Model (Unsupervised)**"
   ]
  },
  {
   "cell_type": "code",
   "execution_count": null,
   "id": "3379a817",
   "metadata": {
    "execution": {
     "iopub.execute_input": "2022-05-16T02:16:15.935369Z",
     "iopub.status.busy": "2022-05-16T02:16:15.934797Z",
     "iopub.status.idle": "2022-05-16T02:16:16.325849Z",
     "shell.execute_reply": "2022-05-16T02:16:16.324820Z"
    },
    "id": "PmBCj4ZcDhCR",
    "papermill": {
     "duration": 0.549482,
     "end_time": "2022-05-16T02:16:16.328298",
     "exception": false,
     "start_time": "2022-05-16T02:16:15.778816",
     "status": "completed"
    },
    "tags": []
   },
   "outputs": [],
   "source": [
    "from sklearn.cluster import KMeans\n",
    "knn_unsupervised_model = KMeans(n_clusters=2,init='random') #n_clusters selected as 2 since the classes in the labelled data are 2\n",
    "\n",
    "#dataset with selected features\n",
    "knn_unsupervised_model = knn_unsupervised_model.fit(X_scaled) \n",
    "\n",
    "#Get the cluster labels\n",
    "clusters_knn = knn_unsupervised_model.predict(X_scaled) #assigned clusters i.e. predicted result\n",
    "\n",
    "\n",
    "#dataset with all features\n",
    "knn_unsupervised_model2 = KMeans(n_clusters=2,init='random') \n",
    "knn_unsupervised_model2 = knn_unsupervised_model2.fit(all_features_scaled) \n",
    "clusters_knn_2 = knn_unsupervised_model2.predict(all_features_scaled) #assigned clusters i.e. predicted result"
   ]
  },
  {
   "cell_type": "markdown",
   "id": "bc72c39d",
   "metadata": {
    "id": "aou88vPsDYWy",
    "papermill": {
     "duration": 0.156101,
     "end_time": "2022-05-16T02:16:16.638326",
     "exception": false,
     "start_time": "2022-05-16T02:16:16.482225",
     "status": "completed"
    },
    "tags": []
   },
   "source": [
    "### **Perfomance metrics**"
   ]
  },
  {
   "cell_type": "code",
   "execution_count": null,
   "id": "d734e671",
   "metadata": {
    "execution": {
     "iopub.execute_input": "2022-05-16T02:16:16.962875Z",
     "iopub.status.busy": "2022-05-16T02:16:16.962377Z",
     "iopub.status.idle": "2022-05-16T02:16:16.976164Z",
     "shell.execute_reply": "2022-05-16T02:16:16.975081Z"
    },
    "id": "JPfyylAFCq4b",
    "outputId": "557ac6aa-2e56-44de-a3c9-b78d9a176e31",
    "papermill": {
     "duration": 0.179235,
     "end_time": "2022-05-16T02:16:16.978588",
     "exception": false,
     "start_time": "2022-05-16T02:16:16.799353",
     "status": "completed"
    },
    "tags": []
   },
   "outputs": [],
   "source": [
    "#performance of the unsupervised KNN model (selected features)\n",
    "from sklearn.metrics import accuracy_score, precision_score, recall_score,f1_score\n",
    "print('KNN (UNSUPERVISED) model evaluation (selected features):')\n",
    "print('Precision: ', precision_score(y,clusters_knn))\n",
    "print('Recall: ', recall_score(y,clusters_knn))\n",
    "\n",
    "print('\\nAccuracy: ',accuracy_score(y,clusters_knn))\n",
    "print('f1_score: ',f1_score(y,clusters_knn))\n",
    "#performs really good on the recall metric"
   ]
  },
  {
   "cell_type": "code",
   "execution_count": null,
   "id": "ad7db8d6",
   "metadata": {
    "execution": {
     "iopub.execute_input": "2022-05-16T02:16:17.299002Z",
     "iopub.status.busy": "2022-05-16T02:16:17.298671Z",
     "iopub.status.idle": "2022-05-16T02:16:17.561053Z",
     "shell.execute_reply": "2022-05-16T02:16:17.559917Z"
    },
    "id": "vZXnT6CqD9NG",
    "outputId": "39d68bf8-cc6d-4576-b7c8-249ed3fe37e7",
    "papermill": {
     "duration": 0.425788,
     "end_time": "2022-05-16T02:16:17.563377",
     "exception": false,
     "start_time": "2022-05-16T02:16:17.137589",
     "status": "completed"
    },
    "tags": []
   },
   "outputs": [],
   "source": [
    "#confusion matrix for the unsupervised KNN model (selected features)\n",
    "cm_uknn = confusion_matrix(y, clusters_knn)\n",
    "f = sns.heatmap(cm_uknn, annot=True, fmt='d')"
   ]
  },
  {
   "cell_type": "code",
   "execution_count": null,
   "id": "2740720a",
   "metadata": {
    "_kg_hide-input": false,
    "execution": {
     "iopub.execute_input": "2022-05-16T02:16:17.876863Z",
     "iopub.status.busy": "2022-05-16T02:16:17.876555Z",
     "iopub.status.idle": "2022-05-16T02:16:17.890910Z",
     "shell.execute_reply": "2022-05-16T02:16:17.889526Z"
    },
    "id": "8WYNAPPB5fdj",
    "outputId": "8341131e-870f-4fd5-9dc0-f018004c1040",
    "papermill": {
     "duration": 0.175598,
     "end_time": "2022-05-16T02:16:17.893738",
     "exception": false,
     "start_time": "2022-05-16T02:16:17.718140",
     "status": "completed"
    },
    "tags": []
   },
   "outputs": [],
   "source": [
    "#performance of the unsupervised KNN model (all features)\n",
    "from sklearn.metrics import accuracy_score, precision_score, recall_score,f1_score\n",
    "print('KNN (UNSUPERVISED) model evaluation (all features):')\n",
    "print('Precision: ', precision_score(y,clusters_knn_2))\n",
    "print('Recall: ', recall_score(y,clusters_knn_2))\n",
    "\n",
    "print('\\nAccuracy: ',accuracy_score(y,clusters_knn_2))\n",
    "print('f1_score: ',f1_score(y,clusters_knn_2))"
   ]
  },
  {
   "cell_type": "markdown",
   "id": "d000e360",
   "metadata": {
    "id": "yF35zbIhDmoV",
    "papermill": {
     "duration": 0.156068,
     "end_time": "2022-05-16T02:16:18.207852",
     "exception": false,
     "start_time": "2022-05-16T02:16:18.051784",
     "status": "completed"
    },
    "tags": []
   },
   "source": [
    "# **DBSCAN** \n",
    "- not suitable for this dataset but we attempted it anyways"
   ]
  },
  {
   "cell_type": "code",
   "execution_count": null,
   "id": "6c9218ea",
   "metadata": {
    "execution": {
     "iopub.execute_input": "2022-05-16T02:16:18.522138Z",
     "iopub.status.busy": "2022-05-16T02:16:18.521863Z",
     "iopub.status.idle": "2022-05-16T02:16:18.535461Z",
     "shell.execute_reply": "2022-05-16T02:16:18.534429Z"
    },
    "id": "qeSq1dv7DnNi",
    "outputId": "802c3f10-9fb2-4a0c-a5ca-0ee56d7996e9",
    "papermill": {
     "duration": 0.173143,
     "end_time": "2022-05-16T02:16:18.537909",
     "exception": false,
     "start_time": "2022-05-16T02:16:18.364766",
     "status": "completed"
    },
    "tags": []
   },
   "outputs": [],
   "source": [
    "#DBSCAN model\n",
    "from sklearn.cluster import DBSCAN\n",
    "dbscan=DBSCAN(eps = 2, min_samples = 5)\n",
    "dbscan.fit(X_test)\n",
    "\n",
    "clusters_dbscan = dbscan.labels_\n",
    "clusters_dbscan\n",
    "#DBSCAN is not suitable for this dataset as we cannot retrict the number of clusters to 2 (since we are working with labelled data); here it generated 3 classes - 0,1,2"
   ]
  },
  {
   "cell_type": "markdown",
   "id": "af020b9e",
   "metadata": {
    "papermill": {
     "duration": 0.160862,
     "end_time": "2022-05-16T02:16:18.854488",
     "exception": false,
     "start_time": "2022-05-16T02:16:18.693626",
     "status": "completed"
    },
    "tags": []
   },
   "source": [
    "# **Conclusion**\n",
    "**Models Performance analysis:**\n",
    "\n",
    "- Overall, the learning models performed better with fewer features when compared to the performance of the models built with all features. We can conclude that feature selection benefits learning models and the selected features adequately captures the information contained in the original set of features.\n",
    "\n",
    "\n",
    "**Model Selection**\n",
    "- Because of the sensitivity (i.e. health) of the dataset, recall and precision would be a better metric in the final choice of the model. in addition, evaluation metric like accuracy is not well-suited for imbalanced datasets.\n",
    "\n",
    "- Recall evaluates the stroke cases that were predicted by the model while precision looks at the total stroke cases that were predicted and evaluates the percentage that are actually stroke cases. The goal is to choose a model that will not make egregious prediction errors  i.e making a wrong prediction of the absence of stroke or poorly identifying stroke cases."
   ]
  }
 ],
 "metadata": {
  "kernelspec": {
   "display_name": "Python 3 (ipykernel)",
   "language": "python",
   "name": "python3"
  },
  "language_info": {
   "codemirror_mode": {
    "name": "ipython",
    "version": 3
   },
   "file_extension": ".py",
   "mimetype": "text/x-python",
   "name": "python",
   "nbconvert_exporter": "python",
   "pygments_lexer": "ipython3",
   "version": "3.10.9"
  },
  "papermill": {
   "default_parameters": {},
   "duration": 97.030699,
   "end_time": "2022-05-16T02:16:20.045653",
   "environment_variables": {},
   "exception": null,
   "input_path": "__notebook__.ipynb",
   "output_path": "__notebook__.ipynb",
   "parameters": {},
   "start_time": "2022-05-16T02:14:43.014954",
   "version": "2.3.4"
  }
 },
 "nbformat": 4,
 "nbformat_minor": 5
}
